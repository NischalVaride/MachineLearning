{
 "cells": [
  {
   "cell_type": "code",
   "execution_count": 117,
   "metadata": {},
   "outputs": [],
   "source": [
    "#General Imports\n",
    "import numpy as np\n",
    "import pandas as pd\n",
    "import matplotlib as mp\n",
    "import matplotlib.pyplot as plt\n",
    "import seaborn as sns\n",
    "import scipy.stats as stats\n",
    "#Imports for Splitting Data\n",
    "from sklearn.model_selection import train_test_split\n",
    "#Import for data Preprocessing\n",
    "from sklearn import preprocessing\n",
    "from sklearn.preprocessing import StandardScaler\n",
    "from sklearn.preprocessing import LabelEncoder\n",
    "from sklearn.preprocessing import PolynomialFeatures\n",
    "#Import for Linear Models\n",
    "from sklearn.linear_model import LinearRegression\n",
    "from sklearn.linear_model import Lasso\n",
    "from sklearn.linear_model import Ridge\n",
    "from sklearn.linear_model import ElasticNet\n",
    "from sklearn.linear_model import SGDRegressor\n",
    "from sklearn.ensemble import GradientBoostingRegressor\n",
    "#Import for Clasification Models\n",
    "from sklearn.neighbors import KNeighborsRegressor\n",
    "from sklearn.neighbors import KNeighborsClassifier\n",
    "from sklearn.linear_model import LogisticRegression\n",
    "from sklearn.svm import SVC\n",
    "from sklearn.svm import LinearSVC\n",
    "from sklearn.naive_bayes import GaussianNB\n",
    "#Imports for Accuracy check\n",
    "from sklearn.metrics import r2_score\n",
    "from sklearn.metrics import accuracy_score\n",
    "from sklearn.metrics import precision_score\n",
    "from sklearn.metrics import recall_score\n",
    "from sklearn.metrics import confusion_matrix\n",
    "from sklearn.metrics import f1_score\n",
    "from sklearn.metrics import mean_squared_error\n",
    "from sklearn.metrics import classification_report"
   ]
  },
  {
   "cell_type": "code",
   "execution_count": 118,
   "metadata": {},
   "outputs": [],
   "source": [
    "#########################QUESTION 1 -  Read the dataset given in file named 'bigcity.csv'"
   ]
  },
  {
   "cell_type": "code",
   "execution_count": 119,
   "metadata": {},
   "outputs": [],
   "source": [
    "df = pd.read_csv('bigcity.csv')"
   ]
  },
  {
   "cell_type": "code",
   "execution_count": 120,
   "metadata": {},
   "outputs": [],
   "source": [
    "#Removing the Unwanted Column\n",
    "del(df['Unnamed: 0'])"
   ]
  },
  {
   "cell_type": "code",
   "execution_count": 121,
   "metadata": {},
   "outputs": [],
   "source": [
    "#########################Question 2 - Transforming the Dataset ################"
   ]
  },
  {
   "cell_type": "code",
   "execution_count": 122,
   "metadata": {},
   "outputs": [],
   "source": [
    "#Assigning to X and Reshaping\n",
    "X = df[['u']]"
   ]
  },
  {
   "cell_type": "code",
   "execution_count": 123,
   "metadata": {},
   "outputs": [],
   "source": [
    "#Assigning to Y and Reshaping \n",
    "Y = df[['x']]"
   ]
  },
  {
   "cell_type": "code",
   "execution_count": 124,
   "metadata": {},
   "outputs": [
    {
     "data": {
      "text/plain": [
       "(49, 1)"
      ]
     },
     "execution_count": 124,
     "metadata": {},
     "output_type": "execute_result"
    }
   ],
   "source": [
    "X.shape\n"
   ]
  },
  {
   "cell_type": "code",
   "execution_count": 125,
   "metadata": {},
   "outputs": [
    {
     "data": {
      "text/plain": [
       "(49, 1)"
      ]
     },
     "execution_count": 125,
     "metadata": {},
     "output_type": "execute_result"
    }
   ],
   "source": [
    "Y.shape"
   ]
  },
  {
   "cell_type": "code",
   "execution_count": 126,
   "metadata": {},
   "outputs": [],
   "source": [
    "########################Question3 - Checking for Missing Values ###############"
   ]
  },
  {
   "cell_type": "code",
   "execution_count": 127,
   "metadata": {},
   "outputs": [
    {
     "data": {
      "text/plain": [
       "u    0\n",
       "x    0\n",
       "dtype: int64"
      ]
     },
     "execution_count": 127,
     "metadata": {},
     "output_type": "execute_result"
    }
   ],
   "source": [
    "#Checking for Null Values\n",
    "df.isnull().sum()"
   ]
  },
  {
   "cell_type": "code",
   "execution_count": 128,
   "metadata": {},
   "outputs": [
    {
     "data": {
      "text/plain": [
       "u    int64\n",
       "x    int64\n",
       "dtype: object"
      ]
     },
     "execution_count": 128,
     "metadata": {},
     "output_type": "execute_result"
    }
   ],
   "source": [
    "#Checking for Type Compatibility\n",
    "df.dtypes"
   ]
  },
  {
   "cell_type": "code",
   "execution_count": 129,
   "metadata": {},
   "outputs": [
    {
     "data": {
      "text/html": [
       "<div>\n",
       "<style scoped>\n",
       "    .dataframe tbody tr th:only-of-type {\n",
       "        vertical-align: middle;\n",
       "    }\n",
       "\n",
       "    .dataframe tbody tr th {\n",
       "        vertical-align: top;\n",
       "    }\n",
       "\n",
       "    .dataframe thead th {\n",
       "        text-align: right;\n",
       "    }\n",
       "</style>\n",
       "<table border=\"1\" class=\"dataframe\">\n",
       "  <thead>\n",
       "    <tr style=\"text-align: right;\">\n",
       "      <th></th>\n",
       "      <th>u</th>\n",
       "      <th>x</th>\n",
       "    </tr>\n",
       "  </thead>\n",
       "  <tbody>\n",
       "  </tbody>\n",
       "</table>\n",
       "</div>"
      ],
      "text/plain": [
       "Empty DataFrame\n",
       "Columns: [u, x]\n",
       "Index: []"
      ]
     },
     "execution_count": 129,
     "metadata": {},
     "output_type": "execute_result"
    }
   ],
   "source": [
    "#checking if data is not corrupted such as a \"?\" instead of a number\n",
    "df[~df.applymap(np.isreal).all(1)]"
   ]
  },
  {
   "cell_type": "code",
   "execution_count": 130,
   "metadata": {},
   "outputs": [],
   "source": [
    "################## I HAVE WRITTEN A HELPER FUNCTION WHICH COVER REST OF ALL QUESTIONS ########################"
   ]
  },
  {
   "cell_type": "code",
   "execution_count": 131,
   "metadata": {},
   "outputs": [],
   "source": [
    "def Use_LinearRegression(dataset,input_cols, output_col,t_size=0.2, r_state=10, s_scaler=False, poly_degree=0, plot=False):\n",
    "    #If Input_cols = 0 then take all Colums except Output Column\n",
    "    if(input_cols == 0):\n",
    "        X = df.drop(output_col, axis=1)\n",
    "    else:\n",
    "        X = df[input_cols]\n",
    "    Y = df[output_col]\n",
    "    #Splitting the Data In to Testing and Training\n",
    "    x_train, x_test, y_train,y_test = train_test_split(X, Y, test_size = t_size, random_state=r_state)\n",
    "    \n",
    "    #Just to mention ..Anyhow Standardization wont Improve the Accuracty of Linear Regression.\n",
    "    if(s_scaler == True):\n",
    "        sc = StandardScaler()\n",
    "        x_train_scale = sc.fit_transform(x_train.astype(float))\n",
    "        x_test_scale = sc.transform(x_test.astype(float))\n",
    "        x_train = x_train_scale\n",
    "        x_test = x_test_scale\n",
    "    \n",
    "    if(poly_degree):\n",
    "        poly = PolynomialFeatures(poly_degree)\n",
    "        x_train_poly = poly.fit_transform(x_train)\n",
    "        x_test_poly = poly.transform(x_test)\n",
    "        x_train = x_train_poly\n",
    "        x_test = x_test_poly\n",
    "         \n",
    "        \n",
    "    linear_model = LinearRegression(normalize = True)\n",
    "    print(linear_model)\n",
    "    linear_model.fit(x_train, y_train)\n",
    "    y_pred = linear_model.predict(x_test)\n",
    "    print(\"___________________________________________________\")\n",
    "    print(\"Coefficent : {0}\\n\".format(linear_model.coef_[0]))\n",
    "    print(\"Intercept  : {0}\\n\".format(linear_model.intercept_))\n",
    "    print(\"___________________________________________________\\n\")\n",
    "    print(\"Training Accuracy : {0}\\n\".format(linear_model.score(x_train,y_train)))\n",
    "    print(\"Testing Accuracy R2 : {0}\\n\".format(r2_score(y_test,y_pred)))\n",
    "    print(\"Testing MeanSquareError :{0}\\n\".format(mean_squared_error(y_test, y_pred)))\n",
    "    print(\"Testing Accuracy R2 : {0}\\n\".format(r2_score(y_test,y_pred)))\n",
    "    print(\"___________________________________________________\\n\")\n",
    "    if (plot == True):\n",
    "        plt.figure(figsize=(20,10))\n",
    "        print(\"Plotting Training and Testing Accuracy(How Closely Testing Curve follows Training Curve)\\n\")\n",
    "        plt.plot(y_test.values, label='Training')\n",
    "        plt.plot(y_pred, label=\"Testing\")\n",
    "        plt.legend()\n",
    "        "
   ]
  },
  {
   "cell_type": "code",
   "execution_count": 132,
   "metadata": {},
   "outputs": [
    {
     "name": "stdout",
     "output_type": "stream",
     "text": [
      "LinearRegression(copy_X=True, fit_intercept=True, n_jobs=None, normalize=True)\n",
      "___________________________________________________\n",
      "Coefficent : 1.1594512342174783\n",
      "\n",
      "Intercept  : 9.71845532282822\n",
      "\n",
      "___________________________________________________\n",
      "\n",
      "Training Accuracy : 0.9682175540860046\n",
      "\n",
      "Testing Accuracy R2 : 0.918192256039698\n",
      "\n",
      "Testing MeanSquareError :546.8692249032662\n",
      "\n",
      "Testing Accuracy R2 : 0.918192256039698\n",
      "\n",
      "___________________________________________________\n",
      "\n",
      "Plotting Training and Testing Accuracy(How Closely Testing Curve follows Training Curve)\n",
      "\n"
     ]
    },
    {
     "data": {
      "image/png": "[encoded data removed]",
      "text/plain": [
       "<Figure size 1440x720 with 1 Axes>"
      ]
     },
     "metadata": {
      "needs_background": "light"
     },
     "output_type": "display_data"
    }
   ],
   "source": [
    "#poly_degree is the polynomial degree\n",
    "Use_LinearRegression(df, ['u'],'x',t_size=0.2,r_state=1,poly_degree=0, plot=True)"
   ]
  },
  {
   "cell_type": "code",
   "execution_count": 133,
   "metadata": {},
   "outputs": [],
   "source": [
    "#################THE HELPER FUNCTION DOES EVERYTHING ...BUT STILL ANSWERING QUSTIONS INDIVIDUALLY ###################"
   ]
  },
  {
   "cell_type": "code",
   "execution_count": 134,
   "metadata": {},
   "outputs": [],
   "source": [
    "#####################################################################################################################"
   ]
  },
  {
   "cell_type": "code",
   "execution_count": 135,
   "metadata": {},
   "outputs": [],
   "source": [
    "#############Question 4 - Splitting the Data in to Train and Test"
   ]
  },
  {
   "cell_type": "code",
   "execution_count": 136,
   "metadata": {},
   "outputs": [],
   "source": [
    "x_train, x_test, y_train,y_test = train_test_split(X, Y, test_size = 0.2, random_state=1)"
   ]
  },
  {
   "cell_type": "code",
   "execution_count": 137,
   "metadata": {},
   "outputs": [],
   "source": [
    "#############Question 5 - Find the Coefficent of Intercept"
   ]
  },
  {
   "cell_type": "code",
   "execution_count": 138,
   "metadata": {},
   "outputs": [],
   "source": [
    "linear_model = LinearRegression(normalize = True)"
   ]
  },
  {
   "cell_type": "code",
   "execution_count": 139,
   "metadata": {},
   "outputs": [
    {
     "data": {
      "text/plain": [
       "LinearRegression(copy_X=True, fit_intercept=True, n_jobs=None, normalize=True)"
      ]
     },
     "execution_count": 139,
     "metadata": {},
     "output_type": "execute_result"
    }
   ],
   "source": [
    "linear_model.fit(x_train, y_train)"
   ]
  },
  {
   "cell_type": "code",
   "execution_count": 140,
   "metadata": {},
   "outputs": [],
   "source": [
    "y_pred = linear_model.predict(x_test)"
   ]
  },
  {
   "cell_type": "code",
   "execution_count": 141,
   "metadata": {},
   "outputs": [
    {
     "name": "stdout",
     "output_type": "stream",
     "text": [
      "Coefficent : [1.15945123]\n",
      "\n",
      "Intercept  : [9.71845532]\n",
      "\n"
     ]
    }
   ],
   "source": [
    "print(\"Coefficent : {0}\\n\".format(linear_model.coef_[0]))\n",
    "print(\"Intercept  : {0}\\n\".format(linear_model.intercept_))"
   ]
  },
  {
   "cell_type": "code",
   "execution_count": 142,
   "metadata": {},
   "outputs": [],
   "source": [
    "#Question 6 - Plot the Linear Relation Ship Between Features and Target (y = mx + c)"
   ]
  },
  {
   "cell_type": "code",
   "execution_count": 143,
   "metadata": {
    "scrolled": true
   },
   "outputs": [
    {
     "data": {
      "text/plain": [
       "<matplotlib.legend.Legend at 0x1b543a8d128>"
      ]
     },
     "execution_count": 143,
     "metadata": {},
     "output_type": "execute_result"
    },
    {
     "data": {
      "image/png": "[encoded data removed]",
      "text/plain": [
       "<Figure size 432x288 with 1 Axes>"
      ]
     },
     "metadata": {
      "needs_background": "light"
     },
     "output_type": "display_data"
    }
   ],
   "source": [
    "b0 = linear_model.coef_[0]\n",
    "b1 = linear_model.intercept_\n",
    "graph_ytrain = b0 + (b1*x_train)\n",
    "graph_ytest = b0 + (b1 * x_test)\n",
    "plt.scatter(x_train, graph_ytrain, label='train')\n",
    "plt.scatter(x_test, graph_ytest, label='test')\n",
    "plt.legend()"
   ]
  },
  {
   "cell_type": "code",
   "execution_count": 144,
   "metadata": {},
   "outputs": [],
   "source": [
    "#Question 7 - Evaluating Model with SikitLearn"
   ]
  },
  {
   "cell_type": "code",
   "execution_count": 145,
   "metadata": {},
   "outputs": [
    {
     "name": "stdout",
     "output_type": "stream",
     "text": [
      "___________________________________________________\n",
      "Coefficent : [1.15945123]\n",
      "\n",
      "Intercept  : [9.71845532]\n",
      "\n",
      "___________________________________________________\n",
      "\n",
      "Training Accuracy : 0.9682175540860046\n",
      "\n",
      "Testing Accuracy R2 : 0.918192256039698\n",
      "\n",
      "Testing MeanSquareError :546.8692249032662\n",
      "\n",
      "___________________________________________________\n",
      "\n"
     ]
    }
   ],
   "source": [
    "print(\"___________________________________________________\")\n",
    "print(\"Coefficent : {0}\\n\".format(linear_model.coef_[0]))\n",
    "print(\"Intercept  : {0}\\n\".format(linear_model.intercept_))\n",
    "print(\"___________________________________________________\\n\")\n",
    "print(\"Training Accuracy : {0}\\n\".format(linear_model.score(x_train,y_train)))\n",
    "print(\"Testing Accuracy R2 : {0}\\n\".format(r2_score(y_test,y_pred)))\n",
    "print(\"Testing MeanSquareError :{0}\\n\".format(mean_squared_error(y_test, y_pred)))\n",
    "print(\"___________________________________________________\\n\")"
   ]
  },
  {
   "cell_type": "code",
   "execution_count": 146,
   "metadata": {},
   "outputs": [],
   "source": [
    "#########################################################################################################################"
   ]
  },
  {
   "cell_type": "code",
   "execution_count": 147,
   "metadata": {},
   "outputs": [],
   "source": [
    "##################################SUPERVISED LEARNING - BUILDING A STUDENT PERFORMANCE PREDICTION SYSTEM################"
   ]
  },
  {
   "cell_type": "code",
   "execution_count": 148,
   "metadata": {},
   "outputs": [],
   "source": [
    "##########Reading CSV"
   ]
  },
  {
   "cell_type": "code",
   "execution_count": 149,
   "metadata": {},
   "outputs": [],
   "source": [
    "df = pd.read_csv('students_data.csv', delimiter=';')"
   ]
  },
  {
   "cell_type": "code",
   "execution_count": 150,
   "metadata": {},
   "outputs": [
    {
     "data": {
      "text/plain": [
       "Index(['school', 'sex', 'age', 'address', 'famsize', 'Pstatus', 'Medu', 'Fedu',\n",
       "       'Mjob', 'Fjob', 'reason', 'guardian', 'traveltime', 'studytime',\n",
       "       'failures', 'schoolsup', 'famsup', 'paid', 'activities', 'nursery',\n",
       "       'higher', 'internet', 'romantic', 'famrel', 'freetime', 'goout', 'Dalc',\n",
       "       'Walc', 'health', 'absences', 'G1', 'G2', 'G3'],\n",
       "      dtype='object')"
      ]
     },
     "execution_count": 150,
     "metadata": {},
     "output_type": "execute_result"
    }
   ],
   "source": [
    "df.columns"
   ]
  },
  {
   "cell_type": "code",
   "execution_count": 151,
   "metadata": {},
   "outputs": [],
   "source": [
    "#Checking for NULL VALUES"
   ]
  },
  {
   "cell_type": "code",
   "execution_count": 152,
   "metadata": {},
   "outputs": [
    {
     "data": {
      "text/plain": [
       "school        0\n",
       "sex           0\n",
       "age           0\n",
       "address       0\n",
       "famsize       0\n",
       "Pstatus       0\n",
       "Medu          0\n",
       "Fedu          0\n",
       "Mjob          0\n",
       "Fjob          0\n",
       "reason        0\n",
       "guardian      0\n",
       "traveltime    0\n",
       "studytime     0\n",
       "failures      0\n",
       "schoolsup     0\n",
       "famsup        0\n",
       "paid          0\n",
       "activities    0\n",
       "nursery       0\n",
       "higher        0\n",
       "internet      0\n",
       "romantic      0\n",
       "famrel        0\n",
       "freetime      0\n",
       "goout         0\n",
       "Dalc          0\n",
       "Walc          0\n",
       "health        0\n",
       "absences      0\n",
       "G1            0\n",
       "G2            0\n",
       "G3            0\n",
       "dtype: int64"
      ]
     },
     "execution_count": 152,
     "metadata": {},
     "output_type": "execute_result"
    }
   ],
   "source": [
    "df.isnull().sum()"
   ]
  },
  {
   "cell_type": "code",
   "execution_count": 153,
   "metadata": {},
   "outputs": [],
   "source": [
    "#Checking for dtypes"
   ]
  },
  {
   "cell_type": "code",
   "execution_count": 154,
   "metadata": {},
   "outputs": [
    {
     "data": {
      "text/plain": [
       "school        object\n",
       "sex           object\n",
       "age            int64\n",
       "address       object\n",
       "famsize       object\n",
       "Pstatus       object\n",
       "Medu           int64\n",
       "Fedu           int64\n",
       "Mjob          object\n",
       "Fjob          object\n",
       "reason        object\n",
       "guardian      object\n",
       "traveltime     int64\n",
       "studytime      int64\n",
       "failures       int64\n",
       "schoolsup     object\n",
       "famsup        object\n",
       "paid          object\n",
       "activities    object\n",
       "nursery       object\n",
       "higher        object\n",
       "internet      object\n",
       "romantic      object\n",
       "famrel         int64\n",
       "freetime       int64\n",
       "goout          int64\n",
       "Dalc           int64\n",
       "Walc           int64\n",
       "health         int64\n",
       "absences       int64\n",
       "G1             int64\n",
       "G2             int64\n",
       "G3             int64\n",
       "dtype: object"
      ]
     },
     "execution_count": 154,
     "metadata": {},
     "output_type": "execute_result"
    }
   ],
   "source": [
    "df.dtypes"
   ]
  },
  {
   "cell_type": "code",
   "execution_count": 155,
   "metadata": {},
   "outputs": [],
   "source": [
    "#Question 3 - Drop Missing Values "
   ]
  },
  {
   "cell_type": "code",
   "execution_count": 156,
   "metadata": {},
   "outputs": [],
   "source": [
    "df.dropna(inplace=True)"
   ]
  },
  {
   "cell_type": "code",
   "execution_count": 157,
   "metadata": {},
   "outputs": [],
   "source": [
    "#Question 4 - Transform Data -  Print all Non Numberical attributes"
   ]
  },
  {
   "cell_type": "code",
   "execution_count": 158,
   "metadata": {},
   "outputs": [
    {
     "data": {
      "text/html": [
       "<div>\n",
       "<style scoped>\n",
       "    .dataframe tbody tr th:only-of-type {\n",
       "        vertical-align: middle;\n",
       "    }\n",
       "\n",
       "    .dataframe tbody tr th {\n",
       "        vertical-align: top;\n",
       "    }\n",
       "\n",
       "    .dataframe thead th {\n",
       "        text-align: right;\n",
       "    }\n",
       "</style>\n",
       "<table border=\"1\" class=\"dataframe\">\n",
       "  <thead>\n",
       "    <tr style=\"text-align: right;\">\n",
       "      <th></th>\n",
       "      <th>school</th>\n",
       "      <th>sex</th>\n",
       "      <th>address</th>\n",
       "      <th>famsize</th>\n",
       "      <th>Pstatus</th>\n",
       "      <th>Mjob</th>\n",
       "      <th>Fjob</th>\n",
       "      <th>reason</th>\n",
       "      <th>guardian</th>\n",
       "      <th>schoolsup</th>\n",
       "      <th>famsup</th>\n",
       "      <th>paid</th>\n",
       "      <th>activities</th>\n",
       "      <th>nursery</th>\n",
       "      <th>higher</th>\n",
       "      <th>internet</th>\n",
       "      <th>romantic</th>\n",
       "    </tr>\n",
       "  </thead>\n",
       "  <tbody>\n",
       "    <tr>\n",
       "      <th>0</th>\n",
       "      <td>GP</td>\n",
       "      <td>F</td>\n",
       "      <td>U</td>\n",
       "      <td>GT3</td>\n",
       "      <td>A</td>\n",
       "      <td>at_home</td>\n",
       "      <td>teacher</td>\n",
       "      <td>course</td>\n",
       "      <td>mother</td>\n",
       "      <td>yes</td>\n",
       "      <td>no</td>\n",
       "      <td>no</td>\n",
       "      <td>no</td>\n",
       "      <td>yes</td>\n",
       "      <td>yes</td>\n",
       "      <td>no</td>\n",
       "      <td>no</td>\n",
       "    </tr>\n",
       "    <tr>\n",
       "      <th>1</th>\n",
       "      <td>GP</td>\n",
       "      <td>F</td>\n",
       "      <td>U</td>\n",
       "      <td>GT3</td>\n",
       "      <td>T</td>\n",
       "      <td>at_home</td>\n",
       "      <td>other</td>\n",
       "      <td>course</td>\n",
       "      <td>father</td>\n",
       "      <td>no</td>\n",
       "      <td>yes</td>\n",
       "      <td>no</td>\n",
       "      <td>no</td>\n",
       "      <td>no</td>\n",
       "      <td>yes</td>\n",
       "      <td>yes</td>\n",
       "      <td>no</td>\n",
       "    </tr>\n",
       "    <tr>\n",
       "      <th>2</th>\n",
       "      <td>GP</td>\n",
       "      <td>F</td>\n",
       "      <td>U</td>\n",
       "      <td>LE3</td>\n",
       "      <td>T</td>\n",
       "      <td>at_home</td>\n",
       "      <td>other</td>\n",
       "      <td>other</td>\n",
       "      <td>mother</td>\n",
       "      <td>yes</td>\n",
       "      <td>no</td>\n",
       "      <td>yes</td>\n",
       "      <td>no</td>\n",
       "      <td>yes</td>\n",
       "      <td>yes</td>\n",
       "      <td>yes</td>\n",
       "      <td>no</td>\n",
       "    </tr>\n",
       "    <tr>\n",
       "      <th>3</th>\n",
       "      <td>GP</td>\n",
       "      <td>F</td>\n",
       "      <td>U</td>\n",
       "      <td>GT3</td>\n",
       "      <td>T</td>\n",
       "      <td>health</td>\n",
       "      <td>services</td>\n",
       "      <td>home</td>\n",
       "      <td>mother</td>\n",
       "      <td>no</td>\n",
       "      <td>yes</td>\n",
       "      <td>yes</td>\n",
       "      <td>yes</td>\n",
       "      <td>yes</td>\n",
       "      <td>yes</td>\n",
       "      <td>yes</td>\n",
       "      <td>yes</td>\n",
       "    </tr>\n",
       "    <tr>\n",
       "      <th>4</th>\n",
       "      <td>GP</td>\n",
       "      <td>F</td>\n",
       "      <td>U</td>\n",
       "      <td>GT3</td>\n",
       "      <td>T</td>\n",
       "      <td>other</td>\n",
       "      <td>other</td>\n",
       "      <td>home</td>\n",
       "      <td>father</td>\n",
       "      <td>no</td>\n",
       "      <td>yes</td>\n",
       "      <td>yes</td>\n",
       "      <td>no</td>\n",
       "      <td>yes</td>\n",
       "      <td>yes</td>\n",
       "      <td>no</td>\n",
       "      <td>no</td>\n",
       "    </tr>\n",
       "    <tr>\n",
       "      <th>5</th>\n",
       "      <td>GP</td>\n",
       "      <td>M</td>\n",
       "      <td>U</td>\n",
       "      <td>LE3</td>\n",
       "      <td>T</td>\n",
       "      <td>services</td>\n",
       "      <td>other</td>\n",
       "      <td>reputation</td>\n",
       "      <td>mother</td>\n",
       "      <td>no</td>\n",
       "      <td>yes</td>\n",
       "      <td>yes</td>\n",
       "      <td>yes</td>\n",
       "      <td>yes</td>\n",
       "      <td>yes</td>\n",
       "      <td>yes</td>\n",
       "      <td>no</td>\n",
       "    </tr>\n",
       "    <tr>\n",
       "      <th>6</th>\n",
       "      <td>GP</td>\n",
       "      <td>M</td>\n",
       "      <td>U</td>\n",
       "      <td>LE3</td>\n",
       "      <td>T</td>\n",
       "      <td>other</td>\n",
       "      <td>other</td>\n",
       "      <td>home</td>\n",
       "      <td>mother</td>\n",
       "      <td>no</td>\n",
       "      <td>no</td>\n",
       "      <td>no</td>\n",
       "      <td>no</td>\n",
       "      <td>yes</td>\n",
       "      <td>yes</td>\n",
       "      <td>yes</td>\n",
       "      <td>no</td>\n",
       "    </tr>\n",
       "    <tr>\n",
       "      <th>7</th>\n",
       "      <td>GP</td>\n",
       "      <td>F</td>\n",
       "      <td>U</td>\n",
       "      <td>GT3</td>\n",
       "      <td>A</td>\n",
       "      <td>other</td>\n",
       "      <td>teacher</td>\n",
       "      <td>home</td>\n",
       "      <td>mother</td>\n",
       "      <td>yes</td>\n",
       "      <td>yes</td>\n",
       "      <td>no</td>\n",
       "      <td>no</td>\n",
       "      <td>yes</td>\n",
       "      <td>yes</td>\n",
       "      <td>no</td>\n",
       "      <td>no</td>\n",
       "    </tr>\n",
       "    <tr>\n",
       "      <th>8</th>\n",
       "      <td>GP</td>\n",
       "      <td>M</td>\n",
       "      <td>U</td>\n",
       "      <td>LE3</td>\n",
       "      <td>A</td>\n",
       "      <td>services</td>\n",
       "      <td>other</td>\n",
       "      <td>home</td>\n",
       "      <td>mother</td>\n",
       "      <td>no</td>\n",
       "      <td>yes</td>\n",
       "      <td>yes</td>\n",
       "      <td>no</td>\n",
       "      <td>yes</td>\n",
       "      <td>yes</td>\n",
       "      <td>yes</td>\n",
       "      <td>no</td>\n",
       "    </tr>\n",
       "    <tr>\n",
       "      <th>9</th>\n",
       "      <td>GP</td>\n",
       "      <td>M</td>\n",
       "      <td>U</td>\n",
       "      <td>GT3</td>\n",
       "      <td>T</td>\n",
       "      <td>other</td>\n",
       "      <td>other</td>\n",
       "      <td>home</td>\n",
       "      <td>mother</td>\n",
       "      <td>no</td>\n",
       "      <td>yes</td>\n",
       "      <td>yes</td>\n",
       "      <td>yes</td>\n",
       "      <td>yes</td>\n",
       "      <td>yes</td>\n",
       "      <td>yes</td>\n",
       "      <td>no</td>\n",
       "    </tr>\n",
       "  </tbody>\n",
       "</table>\n",
       "</div>"
      ],
      "text/plain": [
       "  school sex address famsize Pstatus      Mjob      Fjob      reason guardian  \\\n",
       "0     GP   F       U     GT3       A   at_home   teacher      course   mother   \n",
       "1     GP   F       U     GT3       T   at_home     other      course   father   \n",
       "2     GP   F       U     LE3       T   at_home     other       other   mother   \n",
       "3     GP   F       U     GT3       T    health  services        home   mother   \n",
       "4     GP   F       U     GT3       T     other     other        home   father   \n",
       "5     GP   M       U     LE3       T  services     other  reputation   mother   \n",
       "6     GP   M       U     LE3       T     other     other        home   mother   \n",
       "7     GP   F       U     GT3       A     other   teacher        home   mother   \n",
       "8     GP   M       U     LE3       A  services     other        home   mother   \n",
       "9     GP   M       U     GT3       T     other     other        home   mother   \n",
       "\n",
       "  schoolsup famsup paid activities nursery higher internet romantic  \n",
       "0       yes     no   no         no     yes    yes       no       no  \n",
       "1        no    yes   no         no      no    yes      yes       no  \n",
       "2       yes     no  yes         no     yes    yes      yes       no  \n",
       "3        no    yes  yes        yes     yes    yes      yes      yes  \n",
       "4        no    yes  yes         no     yes    yes       no       no  \n",
       "5        no    yes  yes        yes     yes    yes      yes       no  \n",
       "6        no     no   no         no     yes    yes      yes       no  \n",
       "7       yes    yes   no         no     yes    yes       no       no  \n",
       "8        no    yes  yes         no     yes    yes      yes       no  \n",
       "9        no    yes  yes        yes     yes    yes      yes       no  "
      ]
     },
     "execution_count": 158,
     "metadata": {},
     "output_type": "execute_result"
    }
   ],
   "source": [
    "df.select_dtypes(include='object')[0:10]"
   ]
  },
  {
   "cell_type": "code",
   "execution_count": 159,
   "metadata": {},
   "outputs": [],
   "source": [
    "#Question 5 - Drop Variables with Less Variance "
   ]
  },
  {
   "cell_type": "code",
   "execution_count": 160,
   "metadata": {},
   "outputs": [
    {
     "data": {
      "text/plain": [
       "age            1.628285\n",
       "Medu           1.198445\n",
       "Fedu           1.184180\n",
       "traveltime     0.486513\n",
       "studytime      0.704324\n",
       "failures       0.553017\n",
       "famrel         0.803997\n",
       "freetime       0.997725\n",
       "goout          1.239388\n",
       "Dalc           0.793420\n",
       "Walc           1.658678\n",
       "health         1.932944\n",
       "absences      64.049541\n",
       "G1            11.017053\n",
       "G2            14.148917\n",
       "G3            20.989616\n",
       "dtype: float64"
      ]
     },
     "execution_count": 160,
     "metadata": {},
     "output_type": "execute_result"
    }
   ],
   "source": [
    "df.var()"
   ]
  },
  {
   "cell_type": "code",
   "execution_count": 161,
   "metadata": {},
   "outputs": [],
   "source": [
    "df_cols = df.select_dtypes(exclude = ['object'])\n",
    "drop_col_cnt = 1\n",
    "for column in df_cols:\n",
    "    if(df_cols[column].var() < 1):\n",
    "        drop_col_cnt = drop_col_cnt + 1\n",
    "        df.drop(column, 1, inplace = True)\n"
   ]
  },
  {
   "cell_type": "code",
   "execution_count": 162,
   "metadata": {},
   "outputs": [
    {
     "data": {
      "text/plain": [
       "age          1.628285\n",
       "Medu         1.198445\n",
       "Fedu         1.184180\n",
       "goout        1.239388\n",
       "Walc         1.658678\n",
       "health       1.932944\n",
       "absences    64.049541\n",
       "G1          11.017053\n",
       "G2          14.148917\n",
       "G3          20.989616\n",
       "dtype: float64"
      ]
     },
     "execution_count": 162,
     "metadata": {},
     "output_type": "execute_result"
    }
   ],
   "source": [
    "df.var()"
   ]
  },
  {
   "cell_type": "code",
   "execution_count": 163,
   "metadata": {},
   "outputs": [
    {
     "data": {
      "text/plain": [
       "(395, 27)"
      ]
     },
     "execution_count": 163,
     "metadata": {},
     "output_type": "execute_result"
    }
   ],
   "source": [
    "df.shape"
   ]
  },
  {
   "cell_type": "code",
   "execution_count": 164,
   "metadata": {},
   "outputs": [],
   "source": [
    "#Question 6 - ENCODING ALL CATEGORICAL DATA####################"
   ]
  },
  {
   "cell_type": "code",
   "execution_count": 165,
   "metadata": {},
   "outputs": [],
   "source": [
    "l_col = df.select_dtypes(include='object').columns\n",
    "label_encode = LabelEncoder()\n",
    "for col in l_col:\n",
    "    df[col] = label_encode.fit_transform(df[col])"
   ]
  },
  {
   "cell_type": "code",
   "execution_count": 166,
   "metadata": {},
   "outputs": [
    {
     "data": {
      "text/html": [
       "<div>\n",
       "<style scoped>\n",
       "    .dataframe tbody tr th:only-of-type {\n",
       "        vertical-align: middle;\n",
       "    }\n",
       "\n",
       "    .dataframe tbody tr th {\n",
       "        vertical-align: top;\n",
       "    }\n",
       "\n",
       "    .dataframe thead th {\n",
       "        text-align: right;\n",
       "    }\n",
       "</style>\n",
       "<table border=\"1\" class=\"dataframe\">\n",
       "  <thead>\n",
       "    <tr style=\"text-align: right;\">\n",
       "      <th></th>\n",
       "      <th>school</th>\n",
       "      <th>sex</th>\n",
       "      <th>age</th>\n",
       "      <th>address</th>\n",
       "      <th>famsize</th>\n",
       "      <th>Pstatus</th>\n",
       "      <th>Medu</th>\n",
       "      <th>Fedu</th>\n",
       "      <th>Mjob</th>\n",
       "      <th>Fjob</th>\n",
       "      <th>...</th>\n",
       "      <th>higher</th>\n",
       "      <th>internet</th>\n",
       "      <th>romantic</th>\n",
       "      <th>goout</th>\n",
       "      <th>Walc</th>\n",
       "      <th>health</th>\n",
       "      <th>absences</th>\n",
       "      <th>G1</th>\n",
       "      <th>G2</th>\n",
       "      <th>G3</th>\n",
       "    </tr>\n",
       "  </thead>\n",
       "  <tbody>\n",
       "    <tr>\n",
       "      <th>0</th>\n",
       "      <td>0</td>\n",
       "      <td>0</td>\n",
       "      <td>18</td>\n",
       "      <td>1</td>\n",
       "      <td>0</td>\n",
       "      <td>0</td>\n",
       "      <td>4</td>\n",
       "      <td>4</td>\n",
       "      <td>0</td>\n",
       "      <td>4</td>\n",
       "      <td>...</td>\n",
       "      <td>1</td>\n",
       "      <td>0</td>\n",
       "      <td>0</td>\n",
       "      <td>4</td>\n",
       "      <td>1</td>\n",
       "      <td>3</td>\n",
       "      <td>6</td>\n",
       "      <td>5</td>\n",
       "      <td>6</td>\n",
       "      <td>6</td>\n",
       "    </tr>\n",
       "    <tr>\n",
       "      <th>1</th>\n",
       "      <td>0</td>\n",
       "      <td>0</td>\n",
       "      <td>17</td>\n",
       "      <td>1</td>\n",
       "      <td>0</td>\n",
       "      <td>1</td>\n",
       "      <td>1</td>\n",
       "      <td>1</td>\n",
       "      <td>0</td>\n",
       "      <td>2</td>\n",
       "      <td>...</td>\n",
       "      <td>1</td>\n",
       "      <td>1</td>\n",
       "      <td>0</td>\n",
       "      <td>3</td>\n",
       "      <td>1</td>\n",
       "      <td>3</td>\n",
       "      <td>4</td>\n",
       "      <td>5</td>\n",
       "      <td>5</td>\n",
       "      <td>6</td>\n",
       "    </tr>\n",
       "    <tr>\n",
       "      <th>2</th>\n",
       "      <td>0</td>\n",
       "      <td>0</td>\n",
       "      <td>15</td>\n",
       "      <td>1</td>\n",
       "      <td>1</td>\n",
       "      <td>1</td>\n",
       "      <td>1</td>\n",
       "      <td>1</td>\n",
       "      <td>0</td>\n",
       "      <td>2</td>\n",
       "      <td>...</td>\n",
       "      <td>1</td>\n",
       "      <td>1</td>\n",
       "      <td>0</td>\n",
       "      <td>2</td>\n",
       "      <td>3</td>\n",
       "      <td>3</td>\n",
       "      <td>10</td>\n",
       "      <td>7</td>\n",
       "      <td>8</td>\n",
       "      <td>10</td>\n",
       "    </tr>\n",
       "    <tr>\n",
       "      <th>3</th>\n",
       "      <td>0</td>\n",
       "      <td>0</td>\n",
       "      <td>15</td>\n",
       "      <td>1</td>\n",
       "      <td>0</td>\n",
       "      <td>1</td>\n",
       "      <td>4</td>\n",
       "      <td>2</td>\n",
       "      <td>1</td>\n",
       "      <td>3</td>\n",
       "      <td>...</td>\n",
       "      <td>1</td>\n",
       "      <td>1</td>\n",
       "      <td>1</td>\n",
       "      <td>2</td>\n",
       "      <td>1</td>\n",
       "      <td>5</td>\n",
       "      <td>2</td>\n",
       "      <td>15</td>\n",
       "      <td>14</td>\n",
       "      <td>15</td>\n",
       "    </tr>\n",
       "    <tr>\n",
       "      <th>4</th>\n",
       "      <td>0</td>\n",
       "      <td>0</td>\n",
       "      <td>16</td>\n",
       "      <td>1</td>\n",
       "      <td>0</td>\n",
       "      <td>1</td>\n",
       "      <td>3</td>\n",
       "      <td>3</td>\n",
       "      <td>2</td>\n",
       "      <td>2</td>\n",
       "      <td>...</td>\n",
       "      <td>1</td>\n",
       "      <td>0</td>\n",
       "      <td>0</td>\n",
       "      <td>2</td>\n",
       "      <td>2</td>\n",
       "      <td>5</td>\n",
       "      <td>4</td>\n",
       "      <td>6</td>\n",
       "      <td>10</td>\n",
       "      <td>10</td>\n",
       "    </tr>\n",
       "    <tr>\n",
       "      <th>5</th>\n",
       "      <td>0</td>\n",
       "      <td>1</td>\n",
       "      <td>16</td>\n",
       "      <td>1</td>\n",
       "      <td>1</td>\n",
       "      <td>1</td>\n",
       "      <td>4</td>\n",
       "      <td>3</td>\n",
       "      <td>3</td>\n",
       "      <td>2</td>\n",
       "      <td>...</td>\n",
       "      <td>1</td>\n",
       "      <td>1</td>\n",
       "      <td>0</td>\n",
       "      <td>2</td>\n",
       "      <td>2</td>\n",
       "      <td>5</td>\n",
       "      <td>10</td>\n",
       "      <td>15</td>\n",
       "      <td>15</td>\n",
       "      <td>15</td>\n",
       "    </tr>\n",
       "    <tr>\n",
       "      <th>6</th>\n",
       "      <td>0</td>\n",
       "      <td>1</td>\n",
       "      <td>16</td>\n",
       "      <td>1</td>\n",
       "      <td>1</td>\n",
       "      <td>1</td>\n",
       "      <td>2</td>\n",
       "      <td>2</td>\n",
       "      <td>2</td>\n",
       "      <td>2</td>\n",
       "      <td>...</td>\n",
       "      <td>1</td>\n",
       "      <td>1</td>\n",
       "      <td>0</td>\n",
       "      <td>4</td>\n",
       "      <td>1</td>\n",
       "      <td>3</td>\n",
       "      <td>0</td>\n",
       "      <td>12</td>\n",
       "      <td>12</td>\n",
       "      <td>11</td>\n",
       "    </tr>\n",
       "    <tr>\n",
       "      <th>7</th>\n",
       "      <td>0</td>\n",
       "      <td>0</td>\n",
       "      <td>17</td>\n",
       "      <td>1</td>\n",
       "      <td>0</td>\n",
       "      <td>0</td>\n",
       "      <td>4</td>\n",
       "      <td>4</td>\n",
       "      <td>2</td>\n",
       "      <td>4</td>\n",
       "      <td>...</td>\n",
       "      <td>1</td>\n",
       "      <td>0</td>\n",
       "      <td>0</td>\n",
       "      <td>4</td>\n",
       "      <td>1</td>\n",
       "      <td>1</td>\n",
       "      <td>6</td>\n",
       "      <td>6</td>\n",
       "      <td>5</td>\n",
       "      <td>6</td>\n",
       "    </tr>\n",
       "    <tr>\n",
       "      <th>8</th>\n",
       "      <td>0</td>\n",
       "      <td>1</td>\n",
       "      <td>15</td>\n",
       "      <td>1</td>\n",
       "      <td>1</td>\n",
       "      <td>0</td>\n",
       "      <td>3</td>\n",
       "      <td>2</td>\n",
       "      <td>3</td>\n",
       "      <td>2</td>\n",
       "      <td>...</td>\n",
       "      <td>1</td>\n",
       "      <td>1</td>\n",
       "      <td>0</td>\n",
       "      <td>2</td>\n",
       "      <td>1</td>\n",
       "      <td>1</td>\n",
       "      <td>0</td>\n",
       "      <td>16</td>\n",
       "      <td>18</td>\n",
       "      <td>19</td>\n",
       "    </tr>\n",
       "    <tr>\n",
       "      <th>9</th>\n",
       "      <td>0</td>\n",
       "      <td>1</td>\n",
       "      <td>15</td>\n",
       "      <td>1</td>\n",
       "      <td>0</td>\n",
       "      <td>1</td>\n",
       "      <td>3</td>\n",
       "      <td>4</td>\n",
       "      <td>2</td>\n",
       "      <td>2</td>\n",
       "      <td>...</td>\n",
       "      <td>1</td>\n",
       "      <td>1</td>\n",
       "      <td>0</td>\n",
       "      <td>1</td>\n",
       "      <td>1</td>\n",
       "      <td>5</td>\n",
       "      <td>0</td>\n",
       "      <td>14</td>\n",
       "      <td>15</td>\n",
       "      <td>15</td>\n",
       "    </tr>\n",
       "    <tr>\n",
       "      <th>10</th>\n",
       "      <td>0</td>\n",
       "      <td>0</td>\n",
       "      <td>15</td>\n",
       "      <td>1</td>\n",
       "      <td>0</td>\n",
       "      <td>1</td>\n",
       "      <td>4</td>\n",
       "      <td>4</td>\n",
       "      <td>4</td>\n",
       "      <td>1</td>\n",
       "      <td>...</td>\n",
       "      <td>1</td>\n",
       "      <td>1</td>\n",
       "      <td>0</td>\n",
       "      <td>3</td>\n",
       "      <td>2</td>\n",
       "      <td>2</td>\n",
       "      <td>0</td>\n",
       "      <td>10</td>\n",
       "      <td>8</td>\n",
       "      <td>9</td>\n",
       "    </tr>\n",
       "    <tr>\n",
       "      <th>11</th>\n",
       "      <td>0</td>\n",
       "      <td>0</td>\n",
       "      <td>15</td>\n",
       "      <td>1</td>\n",
       "      <td>0</td>\n",
       "      <td>1</td>\n",
       "      <td>2</td>\n",
       "      <td>1</td>\n",
       "      <td>3</td>\n",
       "      <td>2</td>\n",
       "      <td>...</td>\n",
       "      <td>1</td>\n",
       "      <td>1</td>\n",
       "      <td>0</td>\n",
       "      <td>2</td>\n",
       "      <td>1</td>\n",
       "      <td>4</td>\n",
       "      <td>4</td>\n",
       "      <td>10</td>\n",
       "      <td>12</td>\n",
       "      <td>12</td>\n",
       "    </tr>\n",
       "    <tr>\n",
       "      <th>12</th>\n",
       "      <td>0</td>\n",
       "      <td>1</td>\n",
       "      <td>15</td>\n",
       "      <td>1</td>\n",
       "      <td>1</td>\n",
       "      <td>1</td>\n",
       "      <td>4</td>\n",
       "      <td>4</td>\n",
       "      <td>1</td>\n",
       "      <td>3</td>\n",
       "      <td>...</td>\n",
       "      <td>1</td>\n",
       "      <td>1</td>\n",
       "      <td>0</td>\n",
       "      <td>3</td>\n",
       "      <td>3</td>\n",
       "      <td>5</td>\n",
       "      <td>2</td>\n",
       "      <td>14</td>\n",
       "      <td>14</td>\n",
       "      <td>14</td>\n",
       "    </tr>\n",
       "    <tr>\n",
       "      <th>13</th>\n",
       "      <td>0</td>\n",
       "      <td>1</td>\n",
       "      <td>15</td>\n",
       "      <td>1</td>\n",
       "      <td>0</td>\n",
       "      <td>1</td>\n",
       "      <td>4</td>\n",
       "      <td>3</td>\n",
       "      <td>4</td>\n",
       "      <td>2</td>\n",
       "      <td>...</td>\n",
       "      <td>1</td>\n",
       "      <td>1</td>\n",
       "      <td>0</td>\n",
       "      <td>3</td>\n",
       "      <td>2</td>\n",
       "      <td>3</td>\n",
       "      <td>2</td>\n",
       "      <td>10</td>\n",
       "      <td>10</td>\n",
       "      <td>11</td>\n",
       "    </tr>\n",
       "    <tr>\n",
       "      <th>14</th>\n",
       "      <td>0</td>\n",
       "      <td>1</td>\n",
       "      <td>15</td>\n",
       "      <td>1</td>\n",
       "      <td>0</td>\n",
       "      <td>0</td>\n",
       "      <td>2</td>\n",
       "      <td>2</td>\n",
       "      <td>2</td>\n",
       "      <td>2</td>\n",
       "      <td>...</td>\n",
       "      <td>1</td>\n",
       "      <td>1</td>\n",
       "      <td>1</td>\n",
       "      <td>2</td>\n",
       "      <td>1</td>\n",
       "      <td>3</td>\n",
       "      <td>0</td>\n",
       "      <td>14</td>\n",
       "      <td>16</td>\n",
       "      <td>16</td>\n",
       "    </tr>\n",
       "    <tr>\n",
       "      <th>15</th>\n",
       "      <td>0</td>\n",
       "      <td>0</td>\n",
       "      <td>16</td>\n",
       "      <td>1</td>\n",
       "      <td>0</td>\n",
       "      <td>1</td>\n",
       "      <td>4</td>\n",
       "      <td>4</td>\n",
       "      <td>1</td>\n",
       "      <td>2</td>\n",
       "      <td>...</td>\n",
       "      <td>1</td>\n",
       "      <td>1</td>\n",
       "      <td>0</td>\n",
       "      <td>4</td>\n",
       "      <td>2</td>\n",
       "      <td>2</td>\n",
       "      <td>4</td>\n",
       "      <td>14</td>\n",
       "      <td>14</td>\n",
       "      <td>14</td>\n",
       "    </tr>\n",
       "    <tr>\n",
       "      <th>16</th>\n",
       "      <td>0</td>\n",
       "      <td>0</td>\n",
       "      <td>16</td>\n",
       "      <td>1</td>\n",
       "      <td>0</td>\n",
       "      <td>1</td>\n",
       "      <td>4</td>\n",
       "      <td>4</td>\n",
       "      <td>3</td>\n",
       "      <td>3</td>\n",
       "      <td>...</td>\n",
       "      <td>1</td>\n",
       "      <td>1</td>\n",
       "      <td>0</td>\n",
       "      <td>3</td>\n",
       "      <td>2</td>\n",
       "      <td>2</td>\n",
       "      <td>6</td>\n",
       "      <td>13</td>\n",
       "      <td>14</td>\n",
       "      <td>14</td>\n",
       "    </tr>\n",
       "    <tr>\n",
       "      <th>17</th>\n",
       "      <td>0</td>\n",
       "      <td>0</td>\n",
       "      <td>16</td>\n",
       "      <td>1</td>\n",
       "      <td>0</td>\n",
       "      <td>1</td>\n",
       "      <td>3</td>\n",
       "      <td>3</td>\n",
       "      <td>2</td>\n",
       "      <td>2</td>\n",
       "      <td>...</td>\n",
       "      <td>1</td>\n",
       "      <td>0</td>\n",
       "      <td>0</td>\n",
       "      <td>2</td>\n",
       "      <td>1</td>\n",
       "      <td>4</td>\n",
       "      <td>4</td>\n",
       "      <td>8</td>\n",
       "      <td>10</td>\n",
       "      <td>10</td>\n",
       "    </tr>\n",
       "    <tr>\n",
       "      <th>18</th>\n",
       "      <td>0</td>\n",
       "      <td>1</td>\n",
       "      <td>17</td>\n",
       "      <td>1</td>\n",
       "      <td>0</td>\n",
       "      <td>1</td>\n",
       "      <td>3</td>\n",
       "      <td>2</td>\n",
       "      <td>3</td>\n",
       "      <td>3</td>\n",
       "      <td>...</td>\n",
       "      <td>1</td>\n",
       "      <td>1</td>\n",
       "      <td>0</td>\n",
       "      <td>5</td>\n",
       "      <td>4</td>\n",
       "      <td>5</td>\n",
       "      <td>16</td>\n",
       "      <td>6</td>\n",
       "      <td>5</td>\n",
       "      <td>5</td>\n",
       "    </tr>\n",
       "    <tr>\n",
       "      <th>19</th>\n",
       "      <td>0</td>\n",
       "      <td>1</td>\n",
       "      <td>16</td>\n",
       "      <td>1</td>\n",
       "      <td>1</td>\n",
       "      <td>1</td>\n",
       "      <td>4</td>\n",
       "      <td>3</td>\n",
       "      <td>1</td>\n",
       "      <td>2</td>\n",
       "      <td>...</td>\n",
       "      <td>1</td>\n",
       "      <td>1</td>\n",
       "      <td>0</td>\n",
       "      <td>3</td>\n",
       "      <td>3</td>\n",
       "      <td>5</td>\n",
       "      <td>4</td>\n",
       "      <td>8</td>\n",
       "      <td>10</td>\n",
       "      <td>10</td>\n",
       "    </tr>\n",
       "  </tbody>\n",
       "</table>\n",
       "<p>20 rows × 27 columns</p>\n",
       "</div>"
      ],
      "text/plain": [
       "    school  sex  age  address  famsize  Pstatus  Medu  Fedu  Mjob  Fjob  ...  \\\n",
       "0        0    0   18        1        0        0     4     4     0     4  ...   \n",
       "1        0    0   17        1        0        1     1     1     0     2  ...   \n",
       "2        0    0   15        1        1        1     1     1     0     2  ...   \n",
       "3        0    0   15        1        0        1     4     2     1     3  ...   \n",
       "4        0    0   16        1        0        1     3     3     2     2  ...   \n",
       "5        0    1   16        1        1        1     4     3     3     2  ...   \n",
       "6        0    1   16        1        1        1     2     2     2     2  ...   \n",
       "7        0    0   17        1        0        0     4     4     2     4  ...   \n",
       "8        0    1   15        1        1        0     3     2     3     2  ...   \n",
       "9        0    1   15        1        0        1     3     4     2     2  ...   \n",
       "10       0    0   15        1        0        1     4     4     4     1  ...   \n",
       "11       0    0   15        1        0        1     2     1     3     2  ...   \n",
       "12       0    1   15        1        1        1     4     4     1     3  ...   \n",
       "13       0    1   15        1        0        1     4     3     4     2  ...   \n",
       "14       0    1   15        1        0        0     2     2     2     2  ...   \n",
       "15       0    0   16        1        0        1     4     4     1     2  ...   \n",
       "16       0    0   16        1        0        1     4     4     3     3  ...   \n",
       "17       0    0   16        1        0        1     3     3     2     2  ...   \n",
       "18       0    1   17        1        0        1     3     2     3     3  ...   \n",
       "19       0    1   16        1        1        1     4     3     1     2  ...   \n",
       "\n",
       "    higher  internet  romantic  goout  Walc  health  absences  G1  G2  G3  \n",
       "0        1         0         0      4     1       3         6   5   6   6  \n",
       "1        1         1         0      3     1       3         4   5   5   6  \n",
       "2        1         1         0      2     3       3        10   7   8  10  \n",
       "3        1         1         1      2     1       5         2  15  14  15  \n",
       "4        1         0         0      2     2       5         4   6  10  10  \n",
       "5        1         1         0      2     2       5        10  15  15  15  \n",
       "6        1         1         0      4     1       3         0  12  12  11  \n",
       "7        1         0         0      4     1       1         6   6   5   6  \n",
       "8        1         1         0      2     1       1         0  16  18  19  \n",
       "9        1         1         0      1     1       5         0  14  15  15  \n",
       "10       1         1         0      3     2       2         0  10   8   9  \n",
       "11       1         1         0      2     1       4         4  10  12  12  \n",
       "12       1         1         0      3     3       5         2  14  14  14  \n",
       "13       1         1         0      3     2       3         2  10  10  11  \n",
       "14       1         1         1      2     1       3         0  14  16  16  \n",
       "15       1         1         0      4     2       2         4  14  14  14  \n",
       "16       1         1         0      3     2       2         6  13  14  14  \n",
       "17       1         0         0      2     1       4         4   8  10  10  \n",
       "18       1         1         0      5     4       5        16   6   5   5  \n",
       "19       1         1         0      3     3       5         4   8  10  10  \n",
       "\n",
       "[20 rows x 27 columns]"
      ]
     },
     "execution_count": 166,
     "metadata": {},
     "output_type": "execute_result"
    }
   ],
   "source": [
    "df.head(20)"
   ]
  },
  {
   "cell_type": "code",
   "execution_count": 167,
   "metadata": {},
   "outputs": [],
   "source": [
    "#Question 7 Convert all Continious Values of Grades"
   ]
  },
  {
   "cell_type": "code",
   "execution_count": 168,
   "metadata": {},
   "outputs": [],
   "source": [
    "df['G1'] = df['G1'].apply(lambda x :1 if(x >=10) else 0)"
   ]
  },
  {
   "cell_type": "code",
   "execution_count": 169,
   "metadata": {},
   "outputs": [],
   "source": [
    "df['G2'] = df['G2'].apply(lambda x :1 if(x >=10) else 0)"
   ]
  },
  {
   "cell_type": "code",
   "execution_count": 170,
   "metadata": {},
   "outputs": [],
   "source": [
    "df['G3'] = df['G3'].apply(lambda x :1 if(x >=10) else 0)"
   ]
  },
  {
   "cell_type": "code",
   "execution_count": 171,
   "metadata": {},
   "outputs": [],
   "source": [
    "##########################HELPER FUNCTION FOR LOGISTIC REGRESSION ###############################################"
   ]
  },
  {
   "cell_type": "code",
   "execution_count": 172,
   "metadata": {},
   "outputs": [],
   "source": [
    "def Use_LogisticRegression(dataset,input_cols, output_col,t_size=0.2, r_state=10, s_scaler=False, log_penality='l2',log_iter=100, reg=1.0,poly_degree=0, plot=False):\n",
    "    #If Input_cols = 0 then take all Colums except Output Column\n",
    "    if(input_cols == 0):\n",
    "        X = df.drop(output_col, axis=1)\n",
    "    else:\n",
    "        X = df[input_cols]\n",
    "    Y = df[output_col]\n",
    "    #Splitting the Data In to Testing and Training\n",
    "    x_train, x_test, y_train,y_test = train_test_split(X, Y, test_size = t_size, random_state=r_state)\n",
    "        \n",
    "    if(s_scaler == True):\n",
    "        sc = StandardScaler()\n",
    "        x_train_scale = sc.fit_transform(x_train.astype(float))\n",
    "        x_test_scale = sc.transform(x_test.astype(float))\n",
    "        x_train = x_train_scale\n",
    "        x_test = x_test_scale\n",
    "    \n",
    "    if(poly_degree):\n",
    "        poly = PolynomialFeatures(poly_degree)\n",
    "        x_train_poly = poly.fit_transform(x_train)\n",
    "        x_test_poly = poly.transform(x_test)\n",
    "        x_train = x_train_poly\n",
    "        x_test = x_test_poly\n",
    "           \n",
    "    #C is the regularization Coefficeint (Smaller Value Stronger Reqularization)\n",
    "    linear_model = LogisticRegression(penalty=log_penality, C=reg, solver='liblinear', max_iter=log_iter)\n",
    "    print(linear_model)\n",
    "    linear_model.fit(x_train, y_train)\n",
    "    y_pred = linear_model.predict(x_test)\n",
    "    print(\"___________________________________________________\\n\")\n",
    "    print(\"Confustion Matrix for y_test and y_pred :\\t\")\n",
    "    print(\"TN  FP\")\n",
    "    print(\"FN  TP\\n\")\n",
    "    print(confusion_matrix(y_test, y_pred))\n",
    "    #print(pd.crosstab(y_test, y_pred))\n",
    "    print(\"\\n\")\n",
    "    print(\"Accuray = (TP+TN)/(TP + TN + FP + FN)\\n\")\n",
    "    print(\"Precission = TP/(TP + FP)\\n\")\n",
    "    print(\"Recall = TP/(TP + FN)\\n\")\n",
    "    print(\"\\n\")\n",
    "    print(\"Accuracy Score  : {0}\\n\".format(accuracy_score(y_test, y_pred)))\n",
    "    print(\"Precision Score : {0}\\n\".format(precision_score(y_test,y_pred)))\n",
    "    print(\"Recall Score    : {0}\\n\".format(recall_score(y_test,y_pred)))\n",
    "    print(\"F1 Score        : {0}\\n\".format(f1_score(y_test,y_pred)))\n",
    "    print(\"___________________________________________________\\n\")\n",
    "    #Uncomment to print the probabilities \n",
    "    #print((linear_model.predict_proba(x_test)))\n",
    "    if(plot == True):\n",
    "        print(\"y_test(Red) and y_pred(Green) --- Distributions \\n\")\n",
    "        sns.distplot(y_test, kde=True, rug=True, color='red')\n",
    "        sns.distplot(y_pred, kde=True, rug=True, color = 'green')\n",
    "        \n",
    "        \n",
    "        "
   ]
  },
  {
   "cell_type": "code",
   "execution_count": 173,
   "metadata": {},
   "outputs": [],
   "source": [
    "def Use_KNeighborsClassifier(dataset,input_cols, output_col,t_size=0.2, r_state=10, s_scaler=False,poly_degree=0, knn_neigh=5,plot=False):\n",
    "    #If Input_cols = 0 then take all Colums except Output Column\n",
    "    if(input_cols == 0):\n",
    "        X = df.drop(output_col, axis=1)\n",
    "    else:\n",
    "        X = df[input_cols]\n",
    "    Y = df[output_col]\n",
    "    #Splitting the Data In to Testing and Training\n",
    "    x_train, x_test, y_train,y_test = train_test_split(X, Y, test_size = t_size, random_state=r_state)\n",
    "        \n",
    "    if(s_scaler == True):\n",
    "        sc = StandardScaler()\n",
    "        x_train_scale = sc.fit_transform(x_train.astype(float))\n",
    "        x_test_scale = sc.transform(x_test.astype(float))\n",
    "        x_train = x_train_scale\n",
    "        x_test = x_test_scale\n",
    "    \n",
    "    if(poly_degree):\n",
    "        poly = PolynomialFeatures(poly_degree)\n",
    "        x_train_poly = poly.fit_transform(x_train)\n",
    "        x_test_poly = poly.transform(x_test)\n",
    "        x_train = x_train_poly\n",
    "        x_test = x_test_poly\n",
    "           \n",
    "    #C is the regularization Coefficeint (Smaller Value Stronger Reqularization)\n",
    "    linear_model = KNeighborsClassifier(n_neighbors=knn_neigh)\n",
    "    print(linear_model)\n",
    "    linear_model.fit(x_train, y_train)\n",
    "    y_pred = linear_model.predict(x_test)\n",
    "    print(\"___________________________________________________\\n\")\n",
    "    print(\"Confustion Matrix for y_test and y_pred :\\t\")\n",
    "    print(\"TN  FP\")\n",
    "    print(\"FN  TP\\n\")\n",
    "    print(confusion_matrix(y_test, y_pred))\n",
    "    #print(pd.crosstab(y_test, y_pred))\n",
    "    print(\"\\n\")\n",
    "    print(\"Accuray = (TP+TN)/(TP + TN + FP + FN)\\n\")\n",
    "    print(\"Precission = TP/(TP + FP)\\n\")\n",
    "    print(\"Recall = TP/(TP + FN)\\n\")\n",
    "    print(\"\\n\")\n",
    "    print(\"Accuracy Score  : {0}\\n\".format(accuracy_score(y_test, y_pred)))\n",
    "    print(\"Precision Score : {0}\\n\".format(precision_score(y_test,y_pred)))\n",
    "    print(\"Recall Score    : {0}\\n\".format(recall_score(y_test,y_pred)))\n",
    "    print(\"F1 Score        : {0}\\n\".format(f1_score(y_test,y_pred)))\n",
    "    print(\"___________________________________________________\\n\")\n",
    "    #Uncomment to print the probabilities \n",
    "    #print((linear_model.predict_proba(x_test)))\n",
    "    if(plot == True):\n",
    "        print(\"y_test(Red) and y_pred(Green) --- Distributions \\n\")\n",
    "        sns.distplot(y_test, kde=True, rug=True, color='red')\n",
    "        sns.distplot(y_pred, kde=True, rug=True, color = 'green')\n",
    "        \n",
    "        \n",
    "        "
   ]
  },
  {
   "cell_type": "code",
   "execution_count": 174,
   "metadata": {},
   "outputs": [],
   "source": [
    "def Use_NaiveBayes(dataset,input_cols, output_col,t_size=0.2, r_state=10, s_scaler=False,poly_degree=0,naive_priors=None,plot=False):\n",
    "    #If Input_cols = 0 then take all Colums except Output Column\n",
    "    if(input_cols == 0):\n",
    "        X = df.drop(output_col, axis=1)\n",
    "    else:\n",
    "        X = df[input_cols]\n",
    "    Y = df[output_col]\n",
    "    #Splitting the Data In to Testing and Training\n",
    "    x_train, x_test, y_train,y_test = train_test_split(X, Y, test_size = t_size, random_state=r_state)\n",
    "        \n",
    "    if(s_scaler == True):\n",
    "        sc = StandardScaler()\n",
    "        x_train_scale = sc.fit_transform(x_train.astype(float))\n",
    "        x_test_scale = sc.transform(x_test.astype(float))\n",
    "        x_train = x_train_scale\n",
    "        x_test = x_test_scale\n",
    "    \n",
    "    if(poly_degree):\n",
    "        poly = PolynomialFeatures(poly_degree)\n",
    "        x_train_poly = poly.fit_transform(x_train)\n",
    "        x_test_poly = poly.transform(x_test)\n",
    "        x_train = x_train_poly\n",
    "        x_test = x_test_poly\n",
    "           \n",
    "    #C is the regularization Coefficeint (Smaller Value Stronger Reqularization)\n",
    "    linear_model = GaussianNB(priors=naive_priors)\n",
    "    print(linear_model)\n",
    "    linear_model.fit(x_train, y_train)\n",
    "    y_pred = linear_model.predict(x_test)\n",
    "    print(\"___________________________________________________\\n\")\n",
    "    print(\"Confustion Matrix for y_test and y_pred :\\t\")\n",
    "    print(\"TN  FP\")\n",
    "    print(\"FN  TP\\n\")\n",
    "    print(confusion_matrix(y_test, y_pred))\n",
    "    #print(pd.crosstab(y_test, y_pred))\n",
    "    print(\"\\n\")\n",
    "    print(\"Accuray = (TP+TN)/(TP + TN + FP + FN)\\n\")\n",
    "    print(\"Precission = TP/(TP + FP)\\n\")\n",
    "    print(\"Recall = TP/(TP + FN)\\n\")\n",
    "    print(\"\\n\")\n",
    "    print(\"Accuracy Score  : {0}\\n\".format(accuracy_score(y_test, y_pred)))\n",
    "    print(\"Precision Score : {0}\\n\".format(precision_score(y_test,y_pred)))\n",
    "    print(\"Recall Score    : {0}\\n\".format(recall_score(y_test,y_pred)))\n",
    "    print(\"F1 Score        : {0}\\n\".format(f1_score(y_test,y_pred)))\n",
    "    print(\"___________________________________________________\\n\")\n",
    "    #Uncomment to print the probabilities \n",
    "    #print((linear_model.predict_proba(x_test)))\n",
    "    if(plot == True):\n",
    "        print(\"y_test(Red) and y_pred(Green) --- Distributions \\n\")\n",
    "        sns.distplot(y_test, kde=True, rug=True, color='red')\n",
    "        sns.distplot(y_pred, kde=True, rug=True, color = 'green')\n",
    "        \n",
    "        \n",
    "        "
   ]
  },
  {
   "cell_type": "code",
   "execution_count": 175,
   "metadata": {},
   "outputs": [],
   "source": [
    "##################################END OF HELPER FUNCTIONS ####################################################"
   ]
  },
  {
   "cell_type": "code",
   "execution_count": 176,
   "metadata": {},
   "outputs": [],
   "source": [
    "####################################QUESTION 8 --- APPLY THE MODELS################################################"
   ]
  },
  {
   "cell_type": "code",
   "execution_count": 177,
   "metadata": {},
   "outputs": [],
   "source": [
    "#############APPLYING LOGISTIC REGRESSION "
   ]
  },
  {
   "cell_type": "code",
   "execution_count": 178,
   "metadata": {},
   "outputs": [
    {
     "name": "stdout",
     "output_type": "stream",
     "text": [
      "LogisticRegression(C=1.0, class_weight=None, dual=False, fit_intercept=True,\n",
      "          intercept_scaling=1, max_iter=100, multi_class='warn',\n",
      "          n_jobs=None, penalty='l2', random_state=None, solver='liblinear',\n",
      "          tol=0.0001, verbose=0, warm_start=False)\n",
      "___________________________________________________\n",
      "\n",
      "Confustion Matrix for y_test and y_pred :\t\n",
      "TN  FP\n",
      "FN  TP\n",
      "\n",
      "[[20  4]\n",
      " [ 4 51]]\n",
      "\n",
      "\n",
      "Accuray = (TP+TN)/(TP + TN + FP + FN)\n",
      "\n",
      "Precission = TP/(TP + FP)\n",
      "\n",
      "Recall = TP/(TP + FN)\n",
      "\n",
      "\n",
      "\n",
      "Accuracy Score  : 0.8987341772151899\n",
      "\n",
      "Precision Score : 0.9272727272727272\n",
      "\n",
      "Recall Score    : 0.9272727272727272\n",
      "\n",
      "F1 Score        : 0.9272727272727272\n",
      "\n",
      "___________________________________________________\n",
      "\n",
      "y_test(Red) and y_pred(Green) --- Distributions \n",
      "\n"
     ]
    },
    {
     "data": {
      "image/png": "[encoded data removed]",
      "text/plain": [
       "<Figure size 432x288 with 1 Axes>"
      ]
     },
     "metadata": {
      "needs_background": "light"
     },
     "output_type": "display_data"
    }
   ],
   "source": [
    "Use_LogisticRegression(df, 0, 'G3', t_size=0.2, r_state=1,plot=True)"
   ]
  },
  {
   "cell_type": "code",
   "execution_count": 179,
   "metadata": {},
   "outputs": [],
   "source": [
    "#In the Above Graph Both Red and Gree Distribution overlapped So we Cant See the Red Color :)"
   ]
  },
  {
   "cell_type": "code",
   "execution_count": 180,
   "metadata": {},
   "outputs": [],
   "source": [
    "#############APPLYING NAIVE BAYES"
   ]
  },
  {
   "cell_type": "code",
   "execution_count": 181,
   "metadata": {},
   "outputs": [
    {
     "name": "stdout",
     "output_type": "stream",
     "text": [
      "GaussianNB(priors=None, var_smoothing=1e-09)\n",
      "___________________________________________________\n",
      "\n",
      "Confustion Matrix for y_test and y_pred :\t\n",
      "TN  FP\n",
      "FN  TP\n",
      "\n",
      "[[21  3]\n",
      " [ 6 49]]\n",
      "\n",
      "\n",
      "Accuray = (TP+TN)/(TP + TN + FP + FN)\n",
      "\n",
      "Precission = TP/(TP + FP)\n",
      "\n",
      "Recall = TP/(TP + FN)\n",
      "\n",
      "\n",
      "\n",
      "Accuracy Score  : 0.8860759493670886\n",
      "\n",
      "Precision Score : 0.9423076923076923\n",
      "\n",
      "Recall Score    : 0.8909090909090909\n",
      "\n",
      "F1 Score        : 0.9158878504672897\n",
      "\n",
      "___________________________________________________\n",
      "\n",
      "y_test(Red) and y_pred(Green) --- Distributions \n",
      "\n"
     ]
    },
    {
     "data": {
      "image/png": "[encoded data removed]",
      "text/plain": [
       "<Figure size 432x288 with 1 Axes>"
      ]
     },
     "metadata": {
      "needs_background": "light"
     },
     "output_type": "display_data"
    }
   ],
   "source": [
    "Use_NaiveBayes(df, 0, 'G3', t_size=0.2, r_state=1,plot=True)"
   ]
  },
  {
   "cell_type": "code",
   "execution_count": 182,
   "metadata": {},
   "outputs": [],
   "source": [
    "#############APPLYING KNN"
   ]
  },
  {
   "cell_type": "code",
   "execution_count": 183,
   "metadata": {},
   "outputs": [
    {
     "name": "stdout",
     "output_type": "stream",
     "text": [
      "KNeighborsClassifier(algorithm='auto', leaf_size=30, metric='minkowski',\n",
      "           metric_params=None, n_jobs=None, n_neighbors=5, p=2,\n",
      "           weights='uniform')\n",
      "___________________________________________________\n",
      "\n",
      "Confustion Matrix for y_test and y_pred :\t\n",
      "TN  FP\n",
      "FN  TP\n",
      "\n",
      "[[10 14]\n",
      " [ 7 48]]\n",
      "\n",
      "\n",
      "Accuray = (TP+TN)/(TP + TN + FP + FN)\n",
      "\n",
      "Precission = TP/(TP + FP)\n",
      "\n",
      "Recall = TP/(TP + FN)\n",
      "\n",
      "\n",
      "\n",
      "Accuracy Score  : 0.7341772151898734\n",
      "\n",
      "Precision Score : 0.7741935483870968\n",
      "\n",
      "Recall Score    : 0.8727272727272727\n",
      "\n",
      "F1 Score        : 0.8205128205128205\n",
      "\n",
      "___________________________________________________\n",
      "\n",
      "y_test(Red) and y_pred(Green) --- Distributions \n",
      "\n"
     ]
    },
    {
     "data": {
      "image/png": "[encoded data removed]",
      "text/plain": [
       "<Figure size 432x288 with 1 Axes>"
      ]
     },
     "metadata": {
      "needs_background": "light"
     },
     "output_type": "display_data"
    }
   ],
   "source": [
    "Use_KNeighborsClassifier(df, 0, 'G3', t_size=0.2, r_state=1,knn_neigh=5,plot=True)"
   ]
  },
  {
   "cell_type": "code",
   "execution_count": 184,
   "metadata": {},
   "outputs": [],
   "source": [
    "############QUESTION 9 - PLOT G2 and G3 Variables"
   ]
  },
  {
   "cell_type": "code",
   "execution_count": 185,
   "metadata": {},
   "outputs": [
    {
     "data": {
      "text/plain": [
       "<matplotlib.axes._subplots.AxesSubplot at 0x1b5435abef0>"
      ]
     },
     "execution_count": 185,
     "metadata": {},
     "output_type": "execute_result"
    },
    {
     "data": {
      "image/png": "[encoded data removed]",
      "text/plain": [
       "<Figure size 432x288 with 1 Axes>"
      ]
     },
     "metadata": {
      "needs_background": "light"
     },
     "output_type": "display_data"
    }
   ],
   "source": [
    "pd.crosstab(df['G2'].apply(lambda x:'pass' if(x==1) else 'fail') , df['G3'].apply(lambda x:'pass' if(x==1) else 'fail')).plot.bar()"
   ]
  },
  {
   "cell_type": "code",
   "execution_count": 186,
   "metadata": {},
   "outputs": [],
   "source": [
    "##########QUESTION 10 - #######################################################"
   ]
  },
  {
   "cell_type": "code",
   "execution_count": 187,
   "metadata": {},
   "outputs": [],
   "source": [
    "#No of Student is School 1"
   ]
  },
  {
   "cell_type": "code",
   "execution_count": 188,
   "metadata": {},
   "outputs": [
    {
     "data": {
      "text/plain": [
       "46"
      ]
     },
     "execution_count": 188,
     "metadata": {},
     "output_type": "execute_result"
    }
   ],
   "source": [
    "df.loc[df['school'] == 1,].shape[0]"
   ]
  },
  {
   "cell_type": "code",
   "execution_count": 189,
   "metadata": {},
   "outputs": [],
   "source": [
    "#No of Students in School 2"
   ]
  },
  {
   "cell_type": "code",
   "execution_count": 190,
   "metadata": {},
   "outputs": [
    {
     "data": {
      "text/plain": [
       "349"
      ]
     },
     "execution_count": 190,
     "metadata": {},
     "output_type": "execute_result"
    }
   ],
   "source": [
    "df.loc[df['school'] == 0,].shape[0]"
   ]
  },
  {
   "cell_type": "code",
   "execution_count": 191,
   "metadata": {},
   "outputs": [
    {
     "data": {
      "text/plain": [
       "<matplotlib.axes._subplots.AxesSubplot at 0x1b5442bd470>"
      ]
     },
     "execution_count": 191,
     "metadata": {},
     "output_type": "execute_result"
    },
    {
     "data": {
      "image/png": "[encoded data removed]",
      "text/plain": [
       "<Figure size 432x288 with 1 Axes>"
      ]
     },
     "metadata": {
      "needs_background": "light"
     },
     "output_type": "display_data"
    }
   ],
   "source": [
    "sns.countplot(df['school'])"
   ]
  },
  {
   "cell_type": "code",
   "execution_count": 192,
   "metadata": {},
   "outputs": [
    {
     "data": {
      "text/plain": [
       "<seaborn.axisgrid.PairGrid at 0x1b543c63f60>"
      ]
     },
     "execution_count": 192,
     "metadata": {},
     "output_type": "execute_result"
    },
    {
     "data": {
      "image/png": "[encoded data removed]",
      "text/plain": [
       "<Figure size 360x360 with 6 Axes>"
      ]
     },
     "metadata": {
      "needs_background": "light"
     },
     "output_type": "display_data"
    }
   ],
   "source": [
    "sns.pairplot(df[['school','age']])"
   ]
  },
  {
   "cell_type": "code",
   "execution_count": 193,
   "metadata": {},
   "outputs": [
    {
     "data": {
      "text/plain": [
       "<matplotlib.axes._subplots.AxesSubplot at 0x1b5442c4f28>"
      ]
     },
     "execution_count": 193,
     "metadata": {},
     "output_type": "execute_result"
    },
    {
     "data": {
      "image/png": "[encoded data removed]",
      "text/plain": [
       "<Figure size 432x288 with 1 Axes>"
      ]
     },
     "metadata": {
      "needs_background": "light"
     },
     "output_type": "display_data"
    }
   ],
   "source": [
    "df['age'].hist()"
   ]
  },
  {
   "cell_type": "code",
   "execution_count": 194,
   "metadata": {},
   "outputs": [],
   "source": [
    "###############################QUESTION 11##############################################################"
   ]
  },
  {
   "cell_type": "code",
   "execution_count": 195,
   "metadata": {},
   "outputs": [],
   "source": [
    "X = df.drop('G3', axis=1)\n",
    "Y = df['G3']\n",
    "\n",
    "num_train = round(300/len(X)*100) ## 300 records out of len(X) records\n",
    "# Set the number of testing points\n",
    "num_test = 100 - num_train ##\n",
    "num_train  = num_train/100"
   ]
  },
  {
   "cell_type": "code",
   "execution_count": 198,
   "metadata": {},
   "outputs": [],
   "source": [
    "x_train, x_test, y_train,y_test = train_test_split(X, Y, train_size = 0.76, random_state=1)"
   ]
  },
  {
   "cell_type": "code",
   "execution_count": 199,
   "metadata": {},
   "outputs": [
    {
     "data": {
      "text/plain": [
       "(300, 26)"
      ]
     },
     "execution_count": 199,
     "metadata": {},
     "output_type": "execute_result"
    }
   ],
   "source": [
    "x_train.shape"
   ]
  },
  {
   "cell_type": "code",
   "execution_count": 200,
   "metadata": {},
   "outputs": [
    {
     "data": {
      "text/plain": [
       "(300,)"
      ]
     },
     "execution_count": 200,
     "metadata": {},
     "output_type": "execute_result"
    }
   ],
   "source": [
    "y_train.shape"
   ]
  },
  {
   "cell_type": "code",
   "execution_count": 201,
   "metadata": {},
   "outputs": [],
   "source": [
    "#SO WE CAN PASS train_size = 0.76 or test_size = 0.24 (95/395)"
   ]
  },
  {
   "cell_type": "code",
   "execution_count": 202,
   "metadata": {},
   "outputs": [],
   "source": [
    "#TESTING MODELS WITH THE 300 - 95 SPLIT "
   ]
  },
  {
   "cell_type": "code",
   "execution_count": 203,
   "metadata": {},
   "outputs": [
    {
     "name": "stdout",
     "output_type": "stream",
     "text": [
      "LogisticRegression(C=1.0, class_weight=None, dual=False, fit_intercept=True,\n",
      "          intercept_scaling=1, max_iter=100, multi_class='warn',\n",
      "          n_jobs=None, penalty='l2', random_state=None, solver='liblinear',\n",
      "          tol=0.0001, verbose=0, warm_start=False)\n",
      "___________________________________________________\n",
      "\n",
      "Confustion Matrix for y_test and y_pred :\t\n",
      "TN  FP\n",
      "FN  TP\n",
      "\n",
      "[[25  3]\n",
      " [ 6 61]]\n",
      "\n",
      "\n",
      "Accuray = (TP+TN)/(TP + TN + FP + FN)\n",
      "\n",
      "Precission = TP/(TP + FP)\n",
      "\n",
      "Recall = TP/(TP + FN)\n",
      "\n",
      "\n",
      "\n",
      "Accuracy Score  : 0.9052631578947369\n",
      "\n",
      "Precision Score : 0.953125\n",
      "\n",
      "Recall Score    : 0.9104477611940298\n",
      "\n",
      "F1 Score        : 0.931297709923664\n",
      "\n",
      "___________________________________________________\n",
      "\n",
      "y_test(Red) and y_pred(Green) --- Distributions \n",
      "\n"
     ]
    },
    {
     "data": {
      "image/png": "[encoded data removed]",
      "text/plain": [
       "<Figure size 432x288 with 1 Axes>"
      ]
     },
     "metadata": {
      "needs_background": "light"
     },
     "output_type": "display_data"
    }
   ],
   "source": [
    "Use_LogisticRegression(df, 0, 'G3', t_size=(95/395), r_state=1,plot=True)"
   ]
  },
  {
   "cell_type": "code",
   "execution_count": 204,
   "metadata": {},
   "outputs": [
    {
     "name": "stdout",
     "output_type": "stream",
     "text": [
      "KNeighborsClassifier(algorithm='auto', leaf_size=30, metric='minkowski',\n",
      "           metric_params=None, n_jobs=None, n_neighbors=5, p=2,\n",
      "           weights='uniform')\n",
      "___________________________________________________\n",
      "\n",
      "Confustion Matrix for y_test and y_pred :\t\n",
      "TN  FP\n",
      "FN  TP\n",
      "\n",
      "[[12 16]\n",
      " [ 9 58]]\n",
      "\n",
      "\n",
      "Accuray = (TP+TN)/(TP + TN + FP + FN)\n",
      "\n",
      "Precission = TP/(TP + FP)\n",
      "\n",
      "Recall = TP/(TP + FN)\n",
      "\n",
      "\n",
      "\n",
      "Accuracy Score  : 0.7368421052631579\n",
      "\n",
      "Precision Score : 0.7837837837837838\n",
      "\n",
      "Recall Score    : 0.8656716417910447\n",
      "\n",
      "F1 Score        : 0.8226950354609929\n",
      "\n",
      "___________________________________________________\n",
      "\n",
      "y_test(Red) and y_pred(Green) --- Distributions \n",
      "\n"
     ]
    },
    {
     "data": {
      "image/png": "[encoded data removed]",
      "text/plain": [
       "<Figure size 432x288 with 1 Axes>"
      ]
     },
     "metadata": {
      "needs_background": "light"
     },
     "output_type": "display_data"
    }
   ],
   "source": [
    "Use_KNeighborsClassifier(df, 0, 'G3', t_size=(95/395), r_state=1,knn_neigh=5,plot=True)"
   ]
  },
  {
   "cell_type": "code",
   "execution_count": 205,
   "metadata": {},
   "outputs": [
    {
     "name": "stdout",
     "output_type": "stream",
     "text": [
      "GaussianNB(priors=None, var_smoothing=1e-09)\n",
      "___________________________________________________\n",
      "\n",
      "Confustion Matrix for y_test and y_pred :\t\n",
      "TN  FP\n",
      "FN  TP\n",
      "\n",
      "[[25  3]\n",
      " [ 8 59]]\n",
      "\n",
      "\n",
      "Accuray = (TP+TN)/(TP + TN + FP + FN)\n",
      "\n",
      "Precission = TP/(TP + FP)\n",
      "\n",
      "Recall = TP/(TP + FN)\n",
      "\n",
      "\n",
      "\n",
      "Accuracy Score  : 0.8842105263157894\n",
      "\n",
      "Precision Score : 0.9516129032258065\n",
      "\n",
      "Recall Score    : 0.8805970149253731\n",
      "\n",
      "F1 Score        : 0.9147286821705426\n",
      "\n",
      "___________________________________________________\n",
      "\n",
      "y_test(Red) and y_pred(Green) --- Distributions \n",
      "\n"
     ]
    },
    {
     "data": {
      "image/png": "[encoded data removed]",
      "text/plain": [
       "<Figure size 432x288 with 1 Axes>"
      ]
     },
     "metadata": {
      "needs_background": "light"
     },
     "output_type": "display_data"
    }
   ],
   "source": [
    "Use_NaiveBayes(df, 0, 'G3', t_size=(95/395), r_state=1,plot=True)"
   ]
  },
  {
   "cell_type": "code",
   "execution_count": null,
   "metadata": {},
   "outputs": [],
   "source": []
  },
  {
   "cell_type": "code",
   "execution_count": null,
   "metadata": {},
   "outputs": [],
   "source": []
  }
 ],
 "metadata": {
  "kernelspec": {
   "display_name": "Python 3",
   "language": "python",
   "name": "python3"
  },
  "language_info": {
   "codemirror_mode": {
    "name": "ipython",
    "version": 3
   },
   "file_extension": ".py",
   "mimetype": "text/x-python",
   "name": "python",
   "nbconvert_exporter": "python",
   "pygments_lexer": "ipython3",
   "version": "3.7.3"
  }
 },
 "nbformat": 4,
 "nbformat_minor": 2
}
