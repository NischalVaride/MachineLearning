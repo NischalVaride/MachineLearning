{
 "cells": [
  {
   "cell_type": "code",
   "execution_count": 1,
   "metadata": {},
   "outputs": [],
   "source": [
    "import numpy as np\n",
    "import pandas as pd\n",
    "from pandas.plotting import scatter_matrix\n",
    "import matplotlib as mp\n",
    "import matplotlib.pyplot as plt\n",
    "import seaborn as sns\n",
    "import scipy.stats as stats\n",
    "import statsmodels.api as sm\n"
   ]
  },
  {
   "cell_type": "code",
   "execution_count": 2,
   "metadata": {},
   "outputs": [],
   "source": [
    "#Reading CSV\n",
    "df = pd.read_csv('insurance.csv')"
   ]
  },
  {
   "cell_type": "code",
   "execution_count": 3,
   "metadata": {},
   "outputs": [],
   "source": [
    "#Setting Rows and Columns to Be Displayed to Rows and Columns of The Dataset\n",
    "pd.set_option.max_rows =df.shape[0]\n",
    "pd.set_option.max_columns = df.shape[1]"
   ]
  },
  {
   "cell_type": "code",
   "execution_count": 4,
   "metadata": {},
   "outputs": [
    {
     "data": {
      "text/plain": [
       "age         0\n",
       "sex         0\n",
       "bmi         0\n",
       "children    0\n",
       "smoker      0\n",
       "region      0\n",
       "charges     0\n",
       "dtype: int64"
      ]
     },
     "execution_count": 4,
     "metadata": {},
     "output_type": "execute_result"
    }
   ],
   "source": [
    "#Checking For Null Values - 1\n",
    "df.isnull().sum()"
   ]
  },
  {
   "cell_type": "code",
   "execution_count": 5,
   "metadata": {},
   "outputs": [
    {
     "data": {
      "text/plain": [
       "age           int64\n",
       "sex          object\n",
       "bmi         float64\n",
       "children      int64\n",
       "smoker       object\n",
       "region       object\n",
       "charges     float64\n",
       "dtype: object"
      ]
     },
     "execution_count": 5,
     "metadata": {},
     "output_type": "execute_result"
    }
   ],
   "source": [
    "#Checking For Types\n",
    "df.dtypes"
   ]
  },
  {
   "cell_type": "code",
   "execution_count": 5,
   "metadata": {},
   "outputs": [
    {
     "name": "stdout",
     "output_type": "stream",
     "text": [
      "<class 'pandas.core.frame.DataFrame'>\n",
      "RangeIndex: 1338 entries, 0 to 1337\n",
      "Data columns (total 7 columns):\n",
      "age         1338 non-null int64\n",
      "sex         1338 non-null object\n",
      "bmi         1338 non-null float64\n",
      "children    1338 non-null int64\n",
      "smoker      1338 non-null object\n",
      "region      1338 non-null object\n",
      "charges     1338 non-null float64\n",
      "dtypes: float64(2), int64(2), object(3)\n",
      "memory usage: 73.2+ KB\n"
     ]
    }
   ],
   "source": [
    "#Checking for both Null Values and Types\n",
    "df.info()"
   ]
  },
  {
   "cell_type": "code",
   "execution_count": 6,
   "metadata": {},
   "outputs": [
    {
     "data": {
      "text/html": [
       "<div>\n",
       "<style scoped>\n",
       "    .dataframe tbody tr th:only-of-type {\n",
       "        vertical-align: middle;\n",
       "    }\n",
       "\n",
       "    .dataframe tbody tr th {\n",
       "        vertical-align: top;\n",
       "    }\n",
       "\n",
       "    .dataframe thead th {\n",
       "        text-align: right;\n",
       "    }\n",
       "</style>\n",
       "<table border=\"1\" class=\"dataframe\">\n",
       "  <thead>\n",
       "    <tr style=\"text-align: right;\">\n",
       "      <th></th>\n",
       "      <th>age</th>\n",
       "      <th>bmi</th>\n",
       "      <th>children</th>\n",
       "      <th>charges</th>\n",
       "    </tr>\n",
       "  </thead>\n",
       "  <tbody>\n",
       "    <tr>\n",
       "      <th>count</th>\n",
       "      <td>1338.000000</td>\n",
       "      <td>1338.000000</td>\n",
       "      <td>1338.000000</td>\n",
       "      <td>1338.000000</td>\n",
       "    </tr>\n",
       "    <tr>\n",
       "      <th>mean</th>\n",
       "      <td>39.207025</td>\n",
       "      <td>30.663397</td>\n",
       "      <td>1.094918</td>\n",
       "      <td>13270.422265</td>\n",
       "    </tr>\n",
       "    <tr>\n",
       "      <th>std</th>\n",
       "      <td>14.049960</td>\n",
       "      <td>6.098187</td>\n",
       "      <td>1.205493</td>\n",
       "      <td>12110.011237</td>\n",
       "    </tr>\n",
       "    <tr>\n",
       "      <th>min</th>\n",
       "      <td>18.000000</td>\n",
       "      <td>15.960000</td>\n",
       "      <td>0.000000</td>\n",
       "      <td>1121.873900</td>\n",
       "    </tr>\n",
       "    <tr>\n",
       "      <th>25%</th>\n",
       "      <td>27.000000</td>\n",
       "      <td>26.296250</td>\n",
       "      <td>0.000000</td>\n",
       "      <td>4740.287150</td>\n",
       "    </tr>\n",
       "    <tr>\n",
       "      <th>50%</th>\n",
       "      <td>39.000000</td>\n",
       "      <td>30.400000</td>\n",
       "      <td>1.000000</td>\n",
       "      <td>9382.033000</td>\n",
       "    </tr>\n",
       "    <tr>\n",
       "      <th>75%</th>\n",
       "      <td>51.000000</td>\n",
       "      <td>34.693750</td>\n",
       "      <td>2.000000</td>\n",
       "      <td>16639.912515</td>\n",
       "    </tr>\n",
       "    <tr>\n",
       "      <th>max</th>\n",
       "      <td>64.000000</td>\n",
       "      <td>53.130000</td>\n",
       "      <td>5.000000</td>\n",
       "      <td>63770.428010</td>\n",
       "    </tr>\n",
       "  </tbody>\n",
       "</table>\n",
       "</div>"
      ],
      "text/plain": [
       "               age          bmi     children       charges\n",
       "count  1338.000000  1338.000000  1338.000000   1338.000000\n",
       "mean     39.207025    30.663397     1.094918  13270.422265\n",
       "std      14.049960     6.098187     1.205493  12110.011237\n",
       "min      18.000000    15.960000     0.000000   1121.873900\n",
       "25%      27.000000    26.296250     0.000000   4740.287150\n",
       "50%      39.000000    30.400000     1.000000   9382.033000\n",
       "75%      51.000000    34.693750     2.000000  16639.912515\n",
       "max      64.000000    53.130000     5.000000  63770.428010"
      ]
     },
     "execution_count": 6,
     "metadata": {},
     "output_type": "execute_result"
    }
   ],
   "source": [
    "#5 Point Summary of Numerical Attributes\n",
    "df.describe()"
   ]
  },
  {
   "cell_type": "code",
   "execution_count": 7,
   "metadata": {},
   "outputs": [
    {
     "data": {
      "text/plain": [
       "8.3975"
      ]
     },
     "execution_count": 7,
     "metadata": {},
     "output_type": "execute_result"
    }
   ],
   "source": [
    "#For 5 Point Summary of Numerical Attributes only IQR is mising in describe() and mode too.\n",
    "#IQR For Bmi\n",
    "df.describe()['bmi']['75%'] - df.describe()['bmi']['25%']"
   ]
  },
  {
   "cell_type": "code",
   "execution_count": 8,
   "metadata": {},
   "outputs": [
    {
     "data": {
      "text/plain": [
       "24.0"
      ]
     },
     "execution_count": 8,
     "metadata": {},
     "output_type": "execute_result"
    }
   ],
   "source": [
    "#IQR for Age\n",
    "df.describe()['age']['75%'] - df.describe()['age']['25%']"
   ]
  },
  {
   "cell_type": "code",
   "execution_count": 9,
   "metadata": {},
   "outputs": [
    {
     "data": {
      "text/plain": [
       "11899.625365"
      ]
     },
     "execution_count": 9,
     "metadata": {},
     "output_type": "execute_result"
    }
   ],
   "source": [
    "#IQR for Charges\n",
    "df.describe()['charges']['75%'] - df.describe()['charges']['25%']"
   ]
  },
  {
   "cell_type": "code",
   "execution_count": 10,
   "metadata": {},
   "outputs": [
    {
     "data": {
      "text/html": [
       "<div>\n",
       "<style scoped>\n",
       "    .dataframe tbody tr th:only-of-type {\n",
       "        vertical-align: middle;\n",
       "    }\n",
       "\n",
       "    .dataframe tbody tr th {\n",
       "        vertical-align: top;\n",
       "    }\n",
       "\n",
       "    .dataframe thead th {\n",
       "        text-align: right;\n",
       "    }\n",
       "</style>\n",
       "<table border=\"1\" class=\"dataframe\">\n",
       "  <thead>\n",
       "    <tr style=\"text-align: right;\">\n",
       "      <th></th>\n",
       "      <th>age</th>\n",
       "      <th>bmi</th>\n",
       "      <th>charges</th>\n",
       "      <th>children</th>\n",
       "    </tr>\n",
       "  </thead>\n",
       "  <tbody>\n",
       "    <tr>\n",
       "      <th>0</th>\n",
       "      <td>18</td>\n",
       "      <td>32.3</td>\n",
       "      <td>1639.5631</td>\n",
       "      <td>0</td>\n",
       "    </tr>\n",
       "  </tbody>\n",
       "</table>\n",
       "</div>"
      ],
      "text/plain": [
       "   age   bmi    charges  children\n",
       "0   18  32.3  1639.5631         0"
      ]
     },
     "execution_count": 10,
     "metadata": {},
     "output_type": "execute_result"
    }
   ],
   "source": [
    "#Calculating Mode\n",
    "df[['age','bmi','charges','children']].mode()"
   ]
  },
  {
   "cell_type": "code",
   "execution_count": 11,
   "metadata": {},
   "outputs": [],
   "source": [
    "#Quick Visualization to Understand Data ##########################################################################"
   ]
  },
  {
   "cell_type": "code",
   "execution_count": 12,
   "metadata": {},
   "outputs": [
    {
     "data": {
      "text/plain": [
       "<matplotlib.axes._subplots.AxesSubplot at 0x1eb192b00b8>"
      ]
     },
     "execution_count": 12,
     "metadata": {},
     "output_type": "execute_result"
    },
    {
     "data": {
      "image/png": "[encoded data removed]",
      "text/plain": [
       "<Figure size 432x288 with 1 Axes>"
      ]
     },
     "metadata": {
      "needs_background": "light"
     },
     "output_type": "display_data"
    }
   ],
   "source": [
    "#Looks like Charges column has most Outliers :)\n",
    "df.boxplot()"
   ]
  },
  {
   "cell_type": "code",
   "execution_count": 13,
   "metadata": {},
   "outputs": [],
   "source": [
    "#Looks Like Charges Field has Most Outliers"
   ]
  },
  {
   "cell_type": "code",
   "execution_count": 14,
   "metadata": {},
   "outputs": [
    {
     "data": {
      "text/plain": [
       "array([[<matplotlib.axes._subplots.AxesSubplot object at 0x000001EB1429CD30>,\n",
       "        <matplotlib.axes._subplots.AxesSubplot object at 0x000001EB19757748>],\n",
       "       [<matplotlib.axes._subplots.AxesSubplot object at 0x000001EB1977DC50>,\n",
       "        <matplotlib.axes._subplots.AxesSubplot object at 0x000001EB197B0208>]],\n",
       "      dtype=object)"
      ]
     },
     "execution_count": 14,
     "metadata": {},
     "output_type": "execute_result"
    },
    {
     "data": {
      "image/png": "[encoded data removed]",
      "text/plain": [
       "<Figure size 432x288 with 4 Axes>"
      ]
     },
     "metadata": {
      "needs_background": "light"
     },
     "output_type": "display_data"
    }
   ],
   "source": [
    "df.hist()"
   ]
  },
  {
   "cell_type": "code",
   "execution_count": 15,
   "metadata": {},
   "outputs": [
    {
     "data": {
      "text/plain": [
       "<seaborn.axisgrid.PairGrid at 0x1eb1988ac18>"
      ]
     },
     "execution_count": 15,
     "metadata": {},
     "output_type": "execute_result"
    },
    {
     "data": {
      "image/png": "[encoded data removed]",
      "text/plain": [
       "<Figure size 773.25x720 with 20 Axes>"
      ]
     },
     "metadata": {
      "needs_background": "light"
     },
     "output_type": "display_data"
    }
   ],
   "source": [
    "#Its VERY CLEAR  'charge' COLUMN  is in Great CORRELATION  with 'smoker'\n",
    "sns.pairplot(df, hue='smoker')"
   ]
  },
  {
   "cell_type": "code",
   "execution_count": 16,
   "metadata": {},
   "outputs": [],
   "source": [
    "#Making All Columns Ready###############################################################################################"
   ]
  },
  {
   "cell_type": "code",
   "execution_count": 17,
   "metadata": {},
   "outputs": [],
   "source": [
    "#Making 'smoker' Column\n",
    "df['smoker'] = df['smoker'].apply(lambda x : 1 if(x == 'yes') else 0)"
   ]
  },
  {
   "cell_type": "code",
   "execution_count": 18,
   "metadata": {},
   "outputs": [],
   "source": [
    "#Making 'sex' Column\n",
    "df['sex'] = df['sex'].apply(lambda x : 1 if(x == 'male') else 0)"
   ]
  },
  {
   "cell_type": "code",
   "execution_count": 19,
   "metadata": {},
   "outputs": [
    {
     "name": "stdout",
     "output_type": "stream",
     "text": [
      "southwest - 0\n",
      "southeast - 1\n",
      "northwest - 2\n",
      "northeast - 3\n"
     ]
    }
   ],
   "source": [
    "#Making Region Column Ready - Might not be very useful Column - But for the fun of coding :)\n",
    "#Just Displaying the number with which strings are getting Replaced .\n",
    "for i in range(len(list(df['region'].drop_duplicates()))):\n",
    "    print('{0} - {1}'.format(list(df['region'].drop_duplicates())[i],i))\n",
    "             "
   ]
  },
  {
   "cell_type": "code",
   "execution_count": 20,
   "metadata": {},
   "outputs": [],
   "source": [
    "#Making Region Column Ready - This is the shortest code possible I think :)\n",
    "df['region'] = df['region'].apply(lambda x : (list(df['region'].drop_duplicates()).index(x)) if(x) else x)"
   ]
  },
  {
   "cell_type": "code",
   "execution_count": 21,
   "metadata": {},
   "outputs": [
    {
     "data": {
      "text/plain": [
       "0       0\n",
       "1       1\n",
       "2       1\n",
       "3       2\n",
       "4       2\n",
       "5       1\n",
       "6       1\n",
       "7       2\n",
       "8       3\n",
       "9       2\n",
       "10      3\n",
       "11      1\n",
       "12      0\n",
       "13      1\n",
       "14      1\n",
       "15      0\n",
       "16      3\n",
       "17      3\n",
       "18      0\n",
       "19      0\n",
       "20      3\n",
       "21      0\n",
       "22      1\n",
       "23      3\n",
       "24      2\n",
       "25      1\n",
       "26      3\n",
       "27      2\n",
       "28      2\n",
       "29      0\n",
       "       ..\n",
       "1308    0\n",
       "1309    0\n",
       "1310    2\n",
       "1311    2\n",
       "1312    0\n",
       "1313    0\n",
       "1314    2\n",
       "1315    3\n",
       "1316    0\n",
       "1317    1\n",
       "1318    3\n",
       "1319    2\n",
       "1320    2\n",
       "1321    3\n",
       "1322    1\n",
       "1323    1\n",
       "1324    2\n",
       "1325    3\n",
       "1326    3\n",
       "1327    1\n",
       "1328    3\n",
       "1329    0\n",
       "1330    1\n",
       "1331    0\n",
       "1332    0\n",
       "1333    2\n",
       "1334    3\n",
       "1335    1\n",
       "1336    0\n",
       "1337    2\n",
       "Name: region, Length: 1338, dtype: int64"
      ]
     },
     "execution_count": 21,
     "metadata": {},
     "output_type": "execute_result"
    }
   ],
   "source": [
    "df['region']"
   ]
  },
  {
   "cell_type": "code",
   "execution_count": 22,
   "metadata": {},
   "outputs": [
    {
     "data": {
      "text/plain": [
       "<matplotlib.axes._subplots.AxesSubplot at 0x1eb1a2df6d8>"
      ]
     },
     "execution_count": 22,
     "metadata": {},
     "output_type": "execute_result"
    },
    {
     "data": {
      "image/png": "[encoded data removed]",
      "text/plain": [
       "<Figure size 432x288 with 1 Axes>"
      ]
     },
     "metadata": {
      "needs_background": "light"
     },
     "output_type": "display_data"
    }
   ],
   "source": [
    "df['region'].plot(kind='kde')"
   ]
  },
  {
   "cell_type": "code",
   "execution_count": 23,
   "metadata": {},
   "outputs": [
    {
     "data": {
      "text/plain": [
       "age           int64\n",
       "sex           int64\n",
       "bmi         float64\n",
       "children      int64\n",
       "smoker        int64\n",
       "region        int64\n",
       "charges     float64\n",
       "dtype: object"
      ]
     },
     "execution_count": 23,
     "metadata": {},
     "output_type": "execute_result"
    }
   ],
   "source": [
    "df.dtypes"
   ]
  },
  {
   "cell_type": "code",
   "execution_count": 24,
   "metadata": {},
   "outputs": [],
   "source": [
    "#Dropping the Region Column and before that copying in to a series Variable for Later Use :)\n",
    "s = pd.Series()\n",
    "s = df['region']\n",
    "del(df['region'])"
   ]
  },
  {
   "cell_type": "code",
   "execution_count": 25,
   "metadata": {},
   "outputs": [
    {
     "data": {
      "text/plain": [
       "Index(['age', 'sex', 'bmi', 'children', 'smoker', 'charges'], dtype='object')"
      ]
     },
     "execution_count": 25,
     "metadata": {},
     "output_type": "execute_result"
    }
   ],
   "source": [
    "#Checking Columns\n",
    "df.columns"
   ]
  },
  {
   "cell_type": "code",
   "execution_count": 26,
   "metadata": {},
   "outputs": [
    {
     "data": {
      "text/plain": [
       "array([[<matplotlib.axes._subplots.AxesSubplot object at 0x000001EB1A5C3518>,\n",
       "        <matplotlib.axes._subplots.AxesSubplot object at 0x000001EB1A5F5198>,\n",
       "        <matplotlib.axes._subplots.AxesSubplot object at 0x000001EB1A618630>,\n",
       "        <matplotlib.axes._subplots.AxesSubplot object at 0x000001EB1A641BA8>,\n",
       "        <matplotlib.axes._subplots.AxesSubplot object at 0x000001EB1A670160>,\n",
       "        <matplotlib.axes._subplots.AxesSubplot object at 0x000001EB1A6966D8>],\n",
       "       [<matplotlib.axes._subplots.AxesSubplot object at 0x000001EB1A6C0C50>,\n",
       "        <matplotlib.axes._subplots.AxesSubplot object at 0x000001EB1A6F1240>,\n",
       "        <matplotlib.axes._subplots.AxesSubplot object at 0x000001EB1A6F1278>,\n",
       "        <matplotlib.axes._subplots.AxesSubplot object at 0x000001EB1A73DCF8>,\n",
       "        <matplotlib.axes._subplots.AxesSubplot object at 0x000001EB1A7702B0>,\n",
       "        <matplotlib.axes._subplots.AxesSubplot object at 0x000001EB1A795828>],\n",
       "       [<matplotlib.axes._subplots.AxesSubplot object at 0x000001EB1A7BCDA0>,\n",
       "        <matplotlib.axes._subplots.AxesSubplot object at 0x000001EB1A7EE358>,\n",
       "        <matplotlib.axes._subplots.AxesSubplot object at 0x000001EB1A8158D0>,\n",
       "        <matplotlib.axes._subplots.AxesSubplot object at 0x000001EB1A83EE48>,\n",
       "        <matplotlib.axes._subplots.AxesSubplot object at 0x000001EB1A86E400>,\n",
       "        <matplotlib.axes._subplots.AxesSubplot object at 0x000001EB1A897978>],\n",
       "       [<matplotlib.axes._subplots.AxesSubplot object at 0x000001EB1A8BEEF0>,\n",
       "        <matplotlib.axes._subplots.AxesSubplot object at 0x000001EB1A8EE4A8>,\n",
       "        <matplotlib.axes._subplots.AxesSubplot object at 0x000001EB1A917A20>,\n",
       "        <matplotlib.axes._subplots.AxesSubplot object at 0x000001EB1A941F98>,\n",
       "        <matplotlib.axes._subplots.AxesSubplot object at 0x000001EB1A96A0F0>,\n",
       "        <matplotlib.axes._subplots.AxesSubplot object at 0x000001EB1A991668>],\n",
       "       [<matplotlib.axes._subplots.AxesSubplot object at 0x000001EB1A9B9BE0>,\n",
       "        <matplotlib.axes._subplots.AxesSubplot object at 0x000001EB1A9EA198>,\n",
       "        <matplotlib.axes._subplots.AxesSubplot object at 0x000001EB1AA12710>,\n",
       "        <matplotlib.axes._subplots.AxesSubplot object at 0x000001EB1BA0AC88>,\n",
       "        <matplotlib.axes._subplots.AxesSubplot object at 0x000001EB1BA3C240>,\n",
       "        <matplotlib.axes._subplots.AxesSubplot object at 0x000001EB1BA647B8>],\n",
       "       [<matplotlib.axes._subplots.AxesSubplot object at 0x000001EB1BA8CD30>,\n",
       "        <matplotlib.axes._subplots.AxesSubplot object at 0x000001EB1BABD2E8>,\n",
       "        <matplotlib.axes._subplots.AxesSubplot object at 0x000001EB1BAE3860>,\n",
       "        <matplotlib.axes._subplots.AxesSubplot object at 0x000001EB1BB0DDD8>,\n",
       "        <matplotlib.axes._subplots.AxesSubplot object at 0x000001EB1BB3D390>,\n",
       "        <matplotlib.axes._subplots.AxesSubplot object at 0x000001EB1BB64908>]],\n",
       "      dtype=object)"
      ]
     },
     "execution_count": 26,
     "metadata": {},
     "output_type": "execute_result"
    },
    {
     "data": {
      "image/png": "[encoded data removed]",
      "text/plain": [
       "<Figure size 432x432 with 36 Axes>"
      ]
     },
     "metadata": {
      "needs_background": "light"
     },
     "output_type": "display_data"
    }
   ],
   "source": [
    "#QUICKY OVERVIEW OF DISTRIBUTIONS OF ALL THE COLUMNS \n",
    "scatter_matrix(df, alpha=0.2, figsize=(6, 6), diagonal='kde')"
   ]
  },
  {
   "cell_type": "code",
   "execution_count": 27,
   "metadata": {
    "scrolled": true
   },
   "outputs": [
    {
     "data": {
      "text/plain": [
       "<matplotlib.axes._subplots.AxesSubplot at 0x1eb1a3165f8>"
      ]
     },
     "execution_count": 27,
     "metadata": {},
     "output_type": "execute_result"
    },
    {
     "data": {
      "image/png": "[encoded data removed]",
      "text/plain": [
       "<Figure size 432x288 with 1 Axes>"
      ]
     },
     "metadata": {
      "needs_background": "light"
     },
     "output_type": "display_data"
    }
   ],
   "source": [
    "#Distribution for all Categorical columns ------(can be done on single coulmn too seperately)\n",
    "df[['sex','smoker', 'children']].plot(kind='kde')"
   ]
  },
  {
   "cell_type": "code",
   "execution_count": 28,
   "metadata": {},
   "outputs": [],
   "source": [
    "#Can also be done using a distplot from seaborn"
   ]
  },
  {
   "cell_type": "code",
   "execution_count": 29,
   "metadata": {},
   "outputs": [
    {
     "data": {
      "text/plain": [
       "<matplotlib.axes._subplots.AxesSubplot at 0x1eb1bdee470>"
      ]
     },
     "execution_count": 29,
     "metadata": {},
     "output_type": "execute_result"
    },
    {
     "data": {
      "image/png": "[encoded data removed]",
      "text/plain": [
       "<Figure size 432x288 with 1 Axes>"
      ]
     },
     "metadata": {
      "needs_background": "light"
     },
     "output_type": "display_data"
    }
   ],
   "source": [
    "#sns.distplot(df['children'], kde=True, rug=True)\n",
    "#sns.distplot(df['smoker'], kde=True, rug=True)\n",
    "sns.distplot(df['sex'], kde=True, rug=True)"
   ]
  },
  {
   "cell_type": "code",
   "execution_count": 30,
   "metadata": {},
   "outputs": [
    {
     "data": {
      "text/plain": [
       "<matplotlib.axes._subplots.AxesSubplot at 0x1eb1bf0ce48>"
      ]
     },
     "execution_count": 30,
     "metadata": {},
     "output_type": "execute_result"
    },
    {
     "data": {
      "image/png": "[encoded data removed]",
      "text/plain": [
       "<Figure size 432x288 with 1 Axes>"
      ]
     },
     "metadata": {
      "needs_background": "light"
     },
     "output_type": "display_data"
    }
   ],
   "source": [
    "#Distribution of Age\n",
    "sns.distplot(df['age'], kde=True, rug=True)"
   ]
  },
  {
   "cell_type": "code",
   "execution_count": 31,
   "metadata": {},
   "outputs": [
    {
     "data": {
      "text/plain": [
       "0.05567251565299186"
      ]
     },
     "execution_count": 31,
     "metadata": {},
     "output_type": "execute_result"
    }
   ],
   "source": [
    "#Skewness of Age - Its has a positive Skew\n",
    "df['age'].skew()"
   ]
  },
  {
   "cell_type": "code",
   "execution_count": 32,
   "metadata": {
    "scrolled": true
   },
   "outputs": [
    {
     "data": {
      "text/plain": [
       "<matplotlib.axes._subplots.AxesSubplot at 0x1eb1c03b0b8>"
      ]
     },
     "execution_count": 32,
     "metadata": {},
     "output_type": "execute_result"
    },
    {
     "data": {
      "image/png": "[encoded data removed]",
      "text/plain": [
       "<Figure size 432x288 with 1 Axes>"
      ]
     },
     "metadata": {
      "needs_background": "light"
     },
     "output_type": "display_data"
    }
   ],
   "source": [
    "#Distribution of BMI\n",
    "sns.distplot(df['bmi'], kde=True, rug=True)"
   ]
  },
  {
   "cell_type": "code",
   "execution_count": 33,
   "metadata": {},
   "outputs": [
    {
     "data": {
      "text/plain": [
       "0.2840471105987448"
      ]
     },
     "execution_count": 33,
     "metadata": {},
     "output_type": "execute_result"
    }
   ],
   "source": [
    "#Skewness of 'bmi' - Its Positively Skeyed Distribution\n",
    "df['bmi'].skew()"
   ]
  },
  {
   "cell_type": "code",
   "execution_count": 34,
   "metadata": {},
   "outputs": [
    {
     "data": {
      "text/plain": [
       "<matplotlib.axes._subplots.AxesSubplot at 0x1eb1c1842b0>"
      ]
     },
     "execution_count": 34,
     "metadata": {},
     "output_type": "execute_result"
    },
    {
     "data": {
      "image/png": "[encoded data removed]",
      "text/plain": [
       "<Figure size 432x288 with 1 Axes>"
      ]
     },
     "metadata": {
      "needs_background": "light"
     },
     "output_type": "display_data"
    }
   ],
   "source": [
    "#Distribution of Children\n",
    "sns.distplot(df['children'], kde=True, rug=True)"
   ]
  },
  {
   "cell_type": "code",
   "execution_count": 35,
   "metadata": {},
   "outputs": [
    {
     "data": {
      "text/plain": [
       "0.9383804401702414"
      ]
     },
     "execution_count": 35,
     "metadata": {},
     "output_type": "execute_result"
    }
   ],
   "source": [
    "#skewness of children - Its positively skewed\n",
    "df['children'].skew()"
   ]
  },
  {
   "cell_type": "code",
   "execution_count": 36,
   "metadata": {},
   "outputs": [],
   "source": [
    "###########################################################################################################################\n",
    "#Do charges of people who smoke differ significantly from the people who don't?\n",
    "###########################################################################################################################"
   ]
  },
  {
   "cell_type": "code",
   "execution_count": 37,
   "metadata": {},
   "outputs": [],
   "source": [
    "#LETS NULL-HYPOTHESIS TO Find Out How Correlated thse Columns Charges and Smokers are based on P-Value\n",
    "#H0 - Charges of People who Smoke =  Charges of people who do not smoke\n",
    "#H1 - Charges of people who Smoke  -not-equal-to  Charges of People who do not smoke"
   ]
  },
  {
   "cell_type": "code",
   "execution_count": 38,
   "metadata": {},
   "outputs": [
    {
     "data": {
      "text/plain": [
       "Ttest_indResult(statistic=46.664921172723716, pvalue=8.271435842177219e-283)"
      ]
     },
     "execution_count": 38,
     "metadata": {},
     "output_type": "execute_result"
    }
   ],
   "source": [
    "#stats.ttest_ind(df.groupby('smoker')['charges'].get_group(1),df.groupby('smoker')['charges'].get_group(0))\n",
    "\n",
    "stats.ttest_ind(df.loc[df['smoker'] == 1, 'charges'],df.loc[df['smoker'] == 0, 'charges'])"
   ]
  },
  {
   "cell_type": "code",
   "execution_count": 39,
   "metadata": {},
   "outputs": [],
   "source": [
    "#As P-value is extremly small we can reject the Null Hypothesis (i.e reject H0)"
   ]
  },
  {
   "cell_type": "code",
   "execution_count": 40,
   "metadata": {},
   "outputs": [],
   "source": [
    "#The above results shows that there is a Very High Correleation between 'smoker' and 'charge' as the P-Value is \n",
    "#extremely small---------------Lets See the Correlatoin Visually using a pairplot"
   ]
  },
  {
   "cell_type": "code",
   "execution_count": 42,
   "metadata": {},
   "outputs": [
    {
     "data": {
      "text/plain": [
       "<seaborn.axisgrid.PairGrid at 0x1eb1c4ad278>"
      ]
     },
     "execution_count": 42,
     "metadata": {},
     "output_type": "execute_result"
    },
    {
     "data": {
      "image/png": "[encoded data removed]",
      "text/plain": [
       "<Figure size 404.875x360 with 6 Axes>"
      ]
     },
     "metadata": {
      "needs_background": "light"
     },
     "output_type": "display_data"
    }
   ],
   "source": [
    "sns.pairplot(data=df[['smoker','charges']], hue='smoker')"
   ]
  },
  {
   "cell_type": "code",
   "execution_count": 43,
   "metadata": {},
   "outputs": [],
   "source": [
    "#Again it Confirms High Correlation between 'smoker' and 'charges' columns as there is a clear seperation"
   ]
  },
  {
   "cell_type": "code",
   "execution_count": 44,
   "metadata": {},
   "outputs": [
    {
     "data": {
      "text/html": [
       "<div>\n",
       "<style scoped>\n",
       "    .dataframe tbody tr th:only-of-type {\n",
       "        vertical-align: middle;\n",
       "    }\n",
       "\n",
       "    .dataframe tbody tr th {\n",
       "        vertical-align: top;\n",
       "    }\n",
       "\n",
       "    .dataframe thead th {\n",
       "        text-align: right;\n",
       "    }\n",
       "</style>\n",
       "<table border=\"1\" class=\"dataframe\">\n",
       "  <thead>\n",
       "    <tr style=\"text-align: right;\">\n",
       "      <th></th>\n",
       "      <th>count</th>\n",
       "      <th>mean</th>\n",
       "      <th>std</th>\n",
       "      <th>min</th>\n",
       "      <th>25%</th>\n",
       "      <th>50%</th>\n",
       "      <th>75%</th>\n",
       "      <th>max</th>\n",
       "    </tr>\n",
       "    <tr>\n",
       "      <th>smoker</th>\n",
       "      <th></th>\n",
       "      <th></th>\n",
       "      <th></th>\n",
       "      <th></th>\n",
       "      <th></th>\n",
       "      <th></th>\n",
       "      <th></th>\n",
       "      <th></th>\n",
       "    </tr>\n",
       "  </thead>\n",
       "  <tbody>\n",
       "    <tr>\n",
       "      <th>0</th>\n",
       "      <td>1064.0</td>\n",
       "      <td>8434.268298</td>\n",
       "      <td>5993.781819</td>\n",
       "      <td>1121.8739</td>\n",
       "      <td>3986.438700</td>\n",
       "      <td>7345.40530</td>\n",
       "      <td>11362.887050</td>\n",
       "      <td>36910.60803</td>\n",
       "    </tr>\n",
       "    <tr>\n",
       "      <th>1</th>\n",
       "      <td>274.0</td>\n",
       "      <td>32050.231832</td>\n",
       "      <td>11541.547176</td>\n",
       "      <td>12829.4551</td>\n",
       "      <td>20826.244213</td>\n",
       "      <td>34456.34845</td>\n",
       "      <td>41019.207275</td>\n",
       "      <td>63770.42801</td>\n",
       "    </tr>\n",
       "  </tbody>\n",
       "</table>\n",
       "</div>"
      ],
      "text/plain": [
       "         count          mean           std         min           25%  \\\n",
       "smoker                                                                 \n",
       "0       1064.0   8434.268298   5993.781819   1121.8739   3986.438700   \n",
       "1        274.0  32050.231832  11541.547176  12829.4551  20826.244213   \n",
       "\n",
       "                50%           75%          max  \n",
       "smoker                                          \n",
       "0        7345.40530  11362.887050  36910.60803  \n",
       "1       34456.34845  41019.207275  63770.42801  "
      ]
     },
     "execution_count": 44,
     "metadata": {},
     "output_type": "execute_result"
    }
   ],
   "source": [
    "#Simple Correlation check by GroupBy\n",
    "df.groupby('smoker')['charges'].describe()"
   ]
  },
  {
   "cell_type": "code",
   "execution_count": 45,
   "metadata": {},
   "outputs": [],
   "source": [
    "#Here its clear a Smoker mean charge is much higher than for non-smokers"
   ]
  },
  {
   "cell_type": "code",
   "execution_count": null,
   "metadata": {},
   "outputs": [],
   "source": []
  },
  {
   "cell_type": "code",
   "execution_count": 46,
   "metadata": {},
   "outputs": [],
   "source": [
    "##########################################################################################################################\n",
    "#Does bmi of males differ significantly from that of females?\n",
    "##########################################################################################################################"
   ]
  },
  {
   "cell_type": "code",
   "execution_count": 47,
   "metadata": {},
   "outputs": [],
   "source": [
    "#USING INFERENTIAL Statistics - Null Hypothesis"
   ]
  },
  {
   "cell_type": "code",
   "execution_count": 48,
   "metadata": {},
   "outputs": [
    {
     "data": {
      "text/plain": [
       "Ttest_indResult(statistic=1.696752635752224, pvalue=0.08997637178984932)"
      ]
     },
     "execution_count": 48,
     "metadata": {},
     "output_type": "execute_result"
    }
   ],
   "source": [
    "stats.ttest_ind(df.loc[df['sex'] == 1, 'bmi'], df.loc[df['sex'] == 0, 'bmi'])"
   ]
  },
  {
   "cell_type": "code",
   "execution_count": 49,
   "metadata": {},
   "outputs": [],
   "source": [
    "#The P-Value is is greater than 0.05 so the Null Hypothesis(i.e both bmi's are equal) can not be rejected."
   ]
  },
  {
   "cell_type": "code",
   "execution_count": 50,
   "metadata": {},
   "outputs": [],
   "source": [
    "#Lets See Visually How Correlated are Sex and BMI columns "
   ]
  },
  {
   "cell_type": "code",
   "execution_count": 51,
   "metadata": {},
   "outputs": [
    {
     "data": {
      "text/plain": [
       "<seaborn.axisgrid.PairGrid at 0x1eb1c67fa90>"
      ]
     },
     "execution_count": 51,
     "metadata": {},
     "output_type": "execute_result"
    },
    {
     "data": {
      "image/png": "[encoded data removed]",
      "text/plain": [
       "<Figure size 402.375x360 with 6 Axes>"
      ]
     },
     "metadata": {
      "needs_background": "light"
     },
     "output_type": "display_data"
    }
   ],
   "source": [
    "sns.pairplot(data=df[['sex','bmi']], hue='sex')"
   ]
  },
  {
   "cell_type": "code",
   "execution_count": 52,
   "metadata": {},
   "outputs": [],
   "source": [
    "#There is no Seperation and the this Show that they are not Correlated to each other."
   ]
  },
  {
   "cell_type": "code",
   "execution_count": 53,
   "metadata": {},
   "outputs": [],
   "source": [
    "#Lets use Simple Describe to see if it confirms the pairplot and Null-Hypothesis"
   ]
  },
  {
   "cell_type": "code",
   "execution_count": 54,
   "metadata": {},
   "outputs": [
    {
     "data": {
      "text/html": [
       "<div>\n",
       "<style scoped>\n",
       "    .dataframe tbody tr th:only-of-type {\n",
       "        vertical-align: middle;\n",
       "    }\n",
       "\n",
       "    .dataframe tbody tr th {\n",
       "        vertical-align: top;\n",
       "    }\n",
       "\n",
       "    .dataframe thead th {\n",
       "        text-align: right;\n",
       "    }\n",
       "</style>\n",
       "<table border=\"1\" class=\"dataframe\">\n",
       "  <thead>\n",
       "    <tr style=\"text-align: right;\">\n",
       "      <th></th>\n",
       "      <th>count</th>\n",
       "      <th>mean</th>\n",
       "      <th>std</th>\n",
       "      <th>min</th>\n",
       "      <th>25%</th>\n",
       "      <th>50%</th>\n",
       "      <th>75%</th>\n",
       "      <th>max</th>\n",
       "    </tr>\n",
       "    <tr>\n",
       "      <th>sex</th>\n",
       "      <th></th>\n",
       "      <th></th>\n",
       "      <th></th>\n",
       "      <th></th>\n",
       "      <th></th>\n",
       "      <th></th>\n",
       "      <th></th>\n",
       "      <th></th>\n",
       "    </tr>\n",
       "  </thead>\n",
       "  <tbody>\n",
       "    <tr>\n",
       "      <th>0</th>\n",
       "      <td>662.0</td>\n",
       "      <td>30.377749</td>\n",
       "      <td>6.046023</td>\n",
       "      <td>16.815</td>\n",
       "      <td>26.125</td>\n",
       "      <td>30.1075</td>\n",
       "      <td>34.31375</td>\n",
       "      <td>48.07</td>\n",
       "    </tr>\n",
       "    <tr>\n",
       "      <th>1</th>\n",
       "      <td>676.0</td>\n",
       "      <td>30.943129</td>\n",
       "      <td>6.140435</td>\n",
       "      <td>15.960</td>\n",
       "      <td>26.410</td>\n",
       "      <td>30.6875</td>\n",
       "      <td>34.99250</td>\n",
       "      <td>53.13</td>\n",
       "    </tr>\n",
       "  </tbody>\n",
       "</table>\n",
       "</div>"
      ],
      "text/plain": [
       "     count       mean       std     min     25%      50%       75%    max\n",
       "sex                                                                      \n",
       "0    662.0  30.377749  6.046023  16.815  26.125  30.1075  34.31375  48.07\n",
       "1    676.0  30.943129  6.140435  15.960  26.410  30.6875  34.99250  53.13"
      ]
     },
     "execution_count": 54,
     "metadata": {},
     "output_type": "execute_result"
    }
   ],
   "source": [
    "df.groupby('sex')['bmi'].describe()"
   ]
  },
  {
   "cell_type": "code",
   "execution_count": 55,
   "metadata": {},
   "outputs": [],
   "source": [
    "#The Mean Values for BMI for both male and female are almost close and so is the std ....So it again confirms \n",
    "#that bmi and sex are not correlated to each other as both male and females average bmi is really close."
   ]
  },
  {
   "cell_type": "code",
   "execution_count": 56,
   "metadata": {},
   "outputs": [],
   "source": [
    "#bmi of males does not differ significantly from that of females****************************************************"
   ]
  },
  {
   "cell_type": "code",
   "execution_count": null,
   "metadata": {},
   "outputs": [],
   "source": []
  },
  {
   "cell_type": "code",
   "execution_count": 57,
   "metadata": {},
   "outputs": [],
   "source": [
    "#########################################################################################################################\n",
    "#Is the proportion of smokers significantly different in different genders?\n",
    "#########################################################################################################################"
   ]
  },
  {
   "cell_type": "code",
   "execution_count": 58,
   "metadata": {},
   "outputs": [
    {
     "data": {
      "text/html": [
       "<div>\n",
       "<style scoped>\n",
       "    .dataframe tbody tr th:only-of-type {\n",
       "        vertical-align: middle;\n",
       "    }\n",
       "\n",
       "    .dataframe tbody tr th {\n",
       "        vertical-align: top;\n",
       "    }\n",
       "\n",
       "    .dataframe thead th {\n",
       "        text-align: right;\n",
       "    }\n",
       "</style>\n",
       "<table border=\"1\" class=\"dataframe\">\n",
       "  <thead>\n",
       "    <tr style=\"text-align: right;\">\n",
       "      <th>smoker</th>\n",
       "      <th>0</th>\n",
       "      <th>1</th>\n",
       "    </tr>\n",
       "    <tr>\n",
       "      <th>sex</th>\n",
       "      <th></th>\n",
       "      <th></th>\n",
       "    </tr>\n",
       "  </thead>\n",
       "  <tbody>\n",
       "    <tr>\n",
       "      <th>0</th>\n",
       "      <td>547</td>\n",
       "      <td>115</td>\n",
       "    </tr>\n",
       "    <tr>\n",
       "      <th>1</th>\n",
       "      <td>517</td>\n",
       "      <td>159</td>\n",
       "    </tr>\n",
       "  </tbody>\n",
       "</table>\n",
       "</div>"
      ],
      "text/plain": [
       "smoker    0    1\n",
       "sex             \n",
       "0       547  115\n",
       "1       517  159"
      ]
     },
     "execution_count": 58,
     "metadata": {},
     "output_type": "execute_result"
    }
   ],
   "source": [
    "#Comapiring Sex and Smoker Using a Cross Tab \n",
    "pd.crosstab(df['sex'],df['smoker'])"
   ]
  },
  {
   "cell_type": "code",
   "execution_count": 59,
   "metadata": {},
   "outputs": [
    {
     "data": {
      "text/plain": [
       "0.23520710059171598"
      ]
     },
     "execution_count": 59,
     "metadata": {},
     "output_type": "execute_result"
    }
   ],
   "source": [
    "#Percentage of Males who Smoke  - (males who smoke)/(total number of males)(159/676)\n",
    "(df.loc[(df['sex'] == 1) & (df['smoker'] == 1),].shape[0]) / (df.loc[df['sex'] == 1,].shape[0])"
   ]
  },
  {
   "cell_type": "code",
   "execution_count": 60,
   "metadata": {},
   "outputs": [
    {
     "data": {
      "text/plain": [
       "0.17371601208459214"
      ]
     },
     "execution_count": 60,
     "metadata": {},
     "output_type": "execute_result"
    }
   ],
   "source": [
    "#Percentage of Females who Smoke  - (females who smoke)/(total number of females)(115/662)\n",
    "(df.loc[(df['sex'] == 0) & (df['smoker'] == 1),].shape[0]) / (df.loc[df['sex'] == 0,].shape[0])"
   ]
  },
  {
   "cell_type": "code",
   "execution_count": 61,
   "metadata": {},
   "outputs": [],
   "source": [
    "#So 23% of Males Smoke and 17% of Females Smoke :)---------------------This too Shows a slight Correlation..."
   ]
  },
  {
   "cell_type": "code",
   "execution_count": 62,
   "metadata": {},
   "outputs": [
    {
     "data": {
      "text/plain": [
       "<matplotlib.axes._subplots.AxesSubplot at 0x1eb1d8505f8>"
      ]
     },
     "execution_count": 62,
     "metadata": {},
     "output_type": "execute_result"
    },
    {
     "data": {
      "image/png": "[encoded data removed]",
      "text/plain": [
       "<Figure size 432x288 with 1 Axes>"
      ]
     },
     "metadata": {
      "needs_background": "light"
     },
     "output_type": "display_data"
    }
   ],
   "source": [
    "pd.crosstab(df['sex'].apply(lambda x:'male' if(x==1) else 'female') , df['smoker'].apply(lambda x:'smoker' if(x==1) else 'non-smoker')).plot.bar()"
   ]
  },
  {
   "cell_type": "code",
   "execution_count": 63,
   "metadata": {},
   "outputs": [],
   "source": [
    "#Since Both Are Categorical Variable - CHI-SQURE Test would be Approprite - we can pass the crosstab to CHI-SQUARE\n",
    "#H0 - Proportion of Smokers in Male = Proportion of Smokers in Female\n",
    "#Ha - Proportion of Smokers in Male -notequa-  Proportion of Smokers in Female"
   ]
  },
  {
   "cell_type": "code",
   "execution_count": 64,
   "metadata": {},
   "outputs": [
    {
     "data": {
      "text/plain": [
       "(7.39291081459996,\n",
       " 0.006548143503580696,\n",
       " 1,\n",
       " array([[526.43348281, 135.56651719],\n",
       "        [537.56651719, 138.43348281]]))"
      ]
     },
     "execution_count": 64,
     "metadata": {},
     "output_type": "execute_result"
    }
   ],
   "source": [
    "stats.chi2_contingency(pd.crosstab(df['sex'],df['smoker']))"
   ]
  },
  {
   "cell_type": "code",
   "execution_count": 65,
   "metadata": {},
   "outputs": [],
   "source": [
    "#Chi2 value = 7.3, p = 0.0065, degreeofFreedom = 1\n",
    "#The Chi2 > 1 (degrees of freeome)(but Not very large) and p < 0.05 (but not extremely small)\n",
    "#So Rejecting Null Hypothesis ...\n",
    "#So There is a Moderate Correlation between 'Sex' and 'Smoker'\n"
   ]
  },
  {
   "cell_type": "code",
   "execution_count": 66,
   "metadata": {},
   "outputs": [],
   "source": [
    "# So proportion of smokers moderately different in different genders"
   ]
  },
  {
   "cell_type": "code",
   "execution_count": 67,
   "metadata": {},
   "outputs": [],
   "source": [
    "#Verifying The Same with Proportions_Ztest*****************************************************************************"
   ]
  },
  {
   "cell_type": "code",
   "execution_count": 68,
   "metadata": {},
   "outputs": [
    {
     "data": {
      "text/html": [
       "<div>\n",
       "<style scoped>\n",
       "    .dataframe tbody tr th:only-of-type {\n",
       "        vertical-align: middle;\n",
       "    }\n",
       "\n",
       "    .dataframe tbody tr th {\n",
       "        vertical-align: top;\n",
       "    }\n",
       "\n",
       "    .dataframe thead th {\n",
       "        text-align: right;\n",
       "    }\n",
       "</style>\n",
       "<table border=\"1\" class=\"dataframe\">\n",
       "  <thead>\n",
       "    <tr style=\"text-align: right;\">\n",
       "      <th>smoker</th>\n",
       "      <th>0</th>\n",
       "      <th>1</th>\n",
       "    </tr>\n",
       "    <tr>\n",
       "      <th>sex</th>\n",
       "      <th></th>\n",
       "      <th></th>\n",
       "    </tr>\n",
       "  </thead>\n",
       "  <tbody>\n",
       "    <tr>\n",
       "      <th>0</th>\n",
       "      <td>547</td>\n",
       "      <td>115</td>\n",
       "    </tr>\n",
       "    <tr>\n",
       "      <th>1</th>\n",
       "      <td>517</td>\n",
       "      <td>159</td>\n",
       "    </tr>\n",
       "  </tbody>\n",
       "</table>\n",
       "</div>"
      ],
      "text/plain": [
       "smoker    0    1\n",
       "sex             \n",
       "0       547  115\n",
       "1       517  159"
      ]
     },
     "execution_count": 68,
     "metadata": {},
     "output_type": "execute_result"
    }
   ],
   "source": [
    "pd.crosstab(df['sex'], df['smoker'])"
   ]
  },
  {
   "cell_type": "code",
   "execution_count": 69,
   "metadata": {},
   "outputs": [],
   "source": [
    "count = [115, 159]\n",
    "nobs = [(547+115),(517+159)]"
   ]
  },
  {
   "cell_type": "code",
   "execution_count": 70,
   "metadata": {},
   "outputs": [
    {
     "data": {
      "text/plain": [
       "(-2.7867402154855503, 0.005324114164320532)"
      ]
     },
     "execution_count": 70,
     "metadata": {},
     "output_type": "execute_result"
    }
   ],
   "source": [
    "sm.stats.proportions_ztest(count, nobs)"
   ]
  },
  {
   "cell_type": "code",
   "execution_count": 71,
   "metadata": {},
   "outputs": [],
   "source": [
    "#The p-value is < 0.05 so again we can reject the Null Hypothesis and go with Alternate ...\n",
    "#Alternate says that proportion of smokers differe in different genders\n",
    "#So we can Conclude that ----- Proportion of Smokers Differ in Different Genders"
   ]
  },
  {
   "cell_type": "code",
   "execution_count": null,
   "metadata": {},
   "outputs": [],
   "source": []
  },
  {
   "cell_type": "code",
   "execution_count": 72,
   "metadata": {},
   "outputs": [],
   "source": [
    "#########################################################################################################################\n",
    "#Is the distribution of bmi across women with no children, one child and two children, the same ?\n",
    "#########################################################################################################################"
   ]
  },
  {
   "cell_type": "code",
   "execution_count": 73,
   "metadata": {},
   "outputs": [],
   "source": [
    "#HERE Categorical Variables are women_child0, women_child1, women_child2 and Numerical variable is BMI\n",
    "#and we Are trying to find a Relationship between Categorical variables and Numericla Variable\n",
    "\n",
    "women_child0 =  df.loc[(df['sex'] == 0) &(df['children'] == 0),'bmi'] \n",
    "women_child1 =  df.loc[(df['sex'] == 0) &(df['children'] == 1),'bmi']\n",
    "women_child2 =  df.loc[(df['sex'] == 0) &(df['children'] == 2),'bmi']"
   ]
  },
  {
   "cell_type": "code",
   "execution_count": 74,
   "metadata": {},
   "outputs": [
    {
     "data": {
      "text/plain": [
       "F_onewayResult(statistic=0.3344720147757968, pvalue=0.7158579926754841)"
      ]
     },
     "execution_count": 74,
     "metadata": {},
     "output_type": "execute_result"
    }
   ],
   "source": [
    "#Using ANOVA \n",
    "stats.f_oneway(women_child0,women_child1,women_child2)"
   ]
  },
  {
   "cell_type": "code",
   "execution_count": 75,
   "metadata": {},
   "outputs": [],
   "source": [
    "#Pvalue is large and we can straight forward say that the there is no relation between womenwithchildren(0,1,2) \n",
    "#and their bmi.........so cant Reject the Null-Hypothesis"
   ]
  },
  {
   "cell_type": "code",
   "execution_count": 76,
   "metadata": {},
   "outputs": [],
   "source": [
    "#Null Hypothesis is distribution of bmi across women_child0, women_child1,women_chil2 is same .......\n",
    "#Alternate Hypothesis is that they are not Same...since p > 0.05 we are rejecting the Alternate ...."
   ]
  },
  {
   "cell_type": "code",
   "execution_count": 77,
   "metadata": {},
   "outputs": [],
   "source": [
    "#Since No Correlation their Distrution Should Overlap .....Lets see a PairPlot to Confirm the same "
   ]
  },
  {
   "cell_type": "code",
   "execution_count": 78,
   "metadata": {},
   "outputs": [
    {
     "data": {
      "text/plain": [
       "<seaborn.axisgrid.PairGrid at 0x1eb1d8e11d0>"
      ]
     },
     "execution_count": 78,
     "metadata": {},
     "output_type": "execute_result"
    },
    {
     "data": {
      "image/png": "[encoded data removed]",
      "text/plain": [
       "<Figure size 408.625x360 with 6 Axes>"
      ]
     },
     "metadata": {
      "needs_background": "light"
     },
     "output_type": "display_data"
    }
   ],
   "source": [
    " sns.pairplot(df.loc[((df['sex'] == 0) & (df['children'] < 3)),['children','bmi']],diag_kind='kde', hue='children')"
   ]
  },
  {
   "cell_type": "code",
   "execution_count": 79,
   "metadata": {},
   "outputs": [],
   "source": [
    "#Looks Like the Distribution of BMI across womenwithchild(0,1,2) Overlap and so we say VERY SIMILAR Distributions..........\n",
    "#i.e No Correlation"
   ]
  },
  {
   "cell_type": "code",
   "execution_count": 80,
   "metadata": {},
   "outputs": [],
   "source": [
    "#From the Below Groupby too we can see the mean and std of womenchild(0,1,2) are almost close :)"
   ]
  },
  {
   "cell_type": "code",
   "execution_count": 81,
   "metadata": {},
   "outputs": [
    {
     "data": {
      "text/html": [
       "<div>\n",
       "<style scoped>\n",
       "    .dataframe tbody tr th:only-of-type {\n",
       "        vertical-align: middle;\n",
       "    }\n",
       "\n",
       "    .dataframe tbody tr th {\n",
       "        vertical-align: top;\n",
       "    }\n",
       "\n",
       "    .dataframe thead th {\n",
       "        text-align: right;\n",
       "    }\n",
       "</style>\n",
       "<table border=\"1\" class=\"dataframe\">\n",
       "  <thead>\n",
       "    <tr style=\"text-align: right;\">\n",
       "      <th></th>\n",
       "      <th>count</th>\n",
       "      <th>mean</th>\n",
       "      <th>std</th>\n",
       "      <th>min</th>\n",
       "      <th>25%</th>\n",
       "      <th>50%</th>\n",
       "      <th>75%</th>\n",
       "      <th>max</th>\n",
       "    </tr>\n",
       "    <tr>\n",
       "      <th>children</th>\n",
       "      <th></th>\n",
       "      <th></th>\n",
       "      <th></th>\n",
       "      <th></th>\n",
       "      <th></th>\n",
       "      <th></th>\n",
       "      <th></th>\n",
       "      <th></th>\n",
       "    </tr>\n",
       "  </thead>\n",
       "  <tbody>\n",
       "    <tr>\n",
       "      <th>0</th>\n",
       "      <td>289.0</td>\n",
       "      <td>30.361522</td>\n",
       "      <td>5.966934</td>\n",
       "      <td>17.290</td>\n",
       "      <td>26.2000</td>\n",
       "      <td>29.9250</td>\n",
       "      <td>34.6000</td>\n",
       "      <td>47.41</td>\n",
       "    </tr>\n",
       "    <tr>\n",
       "      <th>1</th>\n",
       "      <td>158.0</td>\n",
       "      <td>30.052658</td>\n",
       "      <td>5.786831</td>\n",
       "      <td>16.815</td>\n",
       "      <td>25.9825</td>\n",
       "      <td>29.5675</td>\n",
       "      <td>33.9425</td>\n",
       "      <td>46.09</td>\n",
       "    </tr>\n",
       "    <tr>\n",
       "      <th>2</th>\n",
       "      <td>119.0</td>\n",
       "      <td>30.649790</td>\n",
       "      <td>6.628200</td>\n",
       "      <td>17.195</td>\n",
       "      <td>25.7700</td>\n",
       "      <td>31.3000</td>\n",
       "      <td>34.7500</td>\n",
       "      <td>48.07</td>\n",
       "    </tr>\n",
       "  </tbody>\n",
       "</table>\n",
       "</div>"
      ],
      "text/plain": [
       "          count       mean       std     min      25%      50%      75%    max\n",
       "children                                                                      \n",
       "0         289.0  30.361522  5.966934  17.290  26.2000  29.9250  34.6000  47.41\n",
       "1         158.0  30.052658  5.786831  16.815  25.9825  29.5675  33.9425  46.09\n",
       "2         119.0  30.649790  6.628200  17.195  25.7700  31.3000  34.7500  48.07"
      ]
     },
     "execution_count": 81,
     "metadata": {},
     "output_type": "execute_result"
    }
   ],
   "source": [
    "df.loc[(df['sex'] == 0) & (df['children'] < 3),].groupby('children')['bmi'].describe()"
   ]
  },
  {
   "cell_type": "code",
   "execution_count": 82,
   "metadata": {},
   "outputs": [],
   "source": [
    " # So the distribution of bmi across women with no children, one child and two children is  the same"
   ]
  },
  {
   "cell_type": "code",
   "execution_count": null,
   "metadata": {},
   "outputs": [],
   "source": []
  },
  {
   "cell_type": "code",
   "execution_count": 83,
   "metadata": {},
   "outputs": [],
   "source": [
    "#########################################################################################################################\n",
    "#########################################################################################################################"
   ]
  },
  {
   "cell_type": "code",
   "execution_count": 84,
   "metadata": {},
   "outputs": [],
   "source": [
    "# HERE ENDS THE ANSWER TO ALL THE QUESTIONS POSTED IN THE PDF GIVEN IN THE PROJECT"
   ]
  },
  {
   "cell_type": "code",
   "execution_count": 85,
   "metadata": {},
   "outputs": [],
   "source": [
    "#########################################################################################################################\n",
    "#########################################################################################################################"
   ]
  },
  {
   "cell_type": "code",
   "execution_count": 86,
   "metadata": {},
   "outputs": [],
   "source": [
    "################################################  FURTHER ANALYSYS ######################################################"
   ]
  },
  {
   "cell_type": "code",
   "execution_count": 87,
   "metadata": {},
   "outputs": [],
   "source": [
    "#CREATING A NEW FEATURE COLUM - NAMED HEALTH"
   ]
  },
  {
   "cell_type": "code",
   "execution_count": 88,
   "metadata": {},
   "outputs": [
    {
     "data": {
      "text/html": [
       "<div>\n",
       "<style scoped>\n",
       "    .dataframe tbody tr th:only-of-type {\n",
       "        vertical-align: middle;\n",
       "    }\n",
       "\n",
       "    .dataframe tbody tr th {\n",
       "        vertical-align: top;\n",
       "    }\n",
       "\n",
       "    .dataframe thead th {\n",
       "        text-align: right;\n",
       "    }\n",
       "</style>\n",
       "<table border=\"1\" class=\"dataframe\">\n",
       "  <thead>\n",
       "    <tr style=\"text-align: right;\">\n",
       "      <th></th>\n",
       "      <th>bmi</th>\n",
       "      <th>charges</th>\n",
       "    </tr>\n",
       "  </thead>\n",
       "  <tbody>\n",
       "    <tr>\n",
       "      <th>bmi</th>\n",
       "      <td>1.000000</td>\n",
       "      <td>0.198341</td>\n",
       "    </tr>\n",
       "    <tr>\n",
       "      <th>charges</th>\n",
       "      <td>0.198341</td>\n",
       "      <td>1.000000</td>\n",
       "    </tr>\n",
       "  </tbody>\n",
       "</table>\n",
       "</div>"
      ],
      "text/plain": [
       "              bmi   charges\n",
       "bmi      1.000000  0.198341\n",
       "charges  0.198341  1.000000"
      ]
     },
     "execution_count": 88,
     "metadata": {},
     "output_type": "execute_result"
    }
   ],
   "source": [
    "#There is No Good Correlation between bmi and charge\n",
    "df[['bmi','charges']].corr()"
   ]
  },
  {
   "cell_type": "code",
   "execution_count": 89,
   "metadata": {},
   "outputs": [],
   "source": [
    "#So is it possible to Create an other column out of 'bmi' which will be in high Correlation with 'charges'? :) ..Lets See\n",
    "#From Problem Statement pdf we have bmi in the range of 18.5 to 24.9 as Healthy and above it is either obese or unhelathy..\n"
   ]
  },
  {
   "cell_type": "code",
   "execution_count": 90,
   "metadata": {},
   "outputs": [],
   "source": [
    "def bmi_to_health(bmi):\n",
    "    if(bmi < 18.5):\n",
    "        return 'healthy'\n",
    "    if((bmi >= 18.5) & (bmi <= 24.9)):\n",
    "        return 'healthy'\n",
    "    if((bmi >= 25) & (bmi <= 29.9)):\n",
    "        return 'overweight'\n",
    "    if((bmi >= 30) & (bmi <= 53.13)):\n",
    "        return 'obese'"
   ]
  },
  {
   "cell_type": "code",
   "execution_count": 91,
   "metadata": {},
   "outputs": [],
   "source": [
    "df['health'] = df['bmi'].apply(bmi_to_health)\n"
   ]
  },
  {
   "cell_type": "code",
   "execution_count": 92,
   "metadata": {},
   "outputs": [
    {
     "data": {
      "text/plain": [
       "0       overweight\n",
       "1            obese\n",
       "2            obese\n",
       "3          healthy\n",
       "4       overweight\n",
       "5       overweight\n",
       "6            obese\n",
       "7       overweight\n",
       "8       overweight\n",
       "9       overweight\n",
       "10      overweight\n",
       "11      overweight\n",
       "12           obese\n",
       "13           obese\n",
       "14           obese\n",
       "15         healthy\n",
       "16           obese\n",
       "17         healthy\n",
       "18           obese\n",
       "19           obese\n",
       "20           obese\n",
       "21           obese\n",
       "22           obese\n",
       "23           obese\n",
       "24      overweight\n",
       "25      overweight\n",
       "26         healthy\n",
       "27           obese\n",
       "28         healthy\n",
       "29           obese\n",
       "           ...    \n",
       "1308         obese\n",
       "1309         obese\n",
       "1310    overweight\n",
       "1311    overweight\n",
       "1312         obese\n",
       "1313         obese\n",
       "1314       healthy\n",
       "1315    overweight\n",
       "1316       healthy\n",
       "1317         obese\n",
       "1318         obese\n",
       "1319    overweight\n",
       "1320         obese\n",
       "1321    overweight\n",
       "1322         obese\n",
       "1323         obese\n",
       "1324    overweight\n",
       "1325         obese\n",
       "1326         obese\n",
       "1327         obese\n",
       "1328       healthy\n",
       "1329         obese\n",
       "1330    overweight\n",
       "1331         obese\n",
       "1332         obese\n",
       "1333         obese\n",
       "1334         obese\n",
       "1335         obese\n",
       "1336    overweight\n",
       "1337    overweight\n",
       "Name: health, Length: 1338, dtype: object"
      ]
     },
     "execution_count": 92,
     "metadata": {},
     "output_type": "execute_result"
    }
   ],
   "source": [
    "df['health']"
   ]
  },
  {
   "cell_type": "code",
   "execution_count": 93,
   "metadata": {},
   "outputs": [
    {
     "data": {
      "text/plain": [
       "F_onewayResult(statistic=27.69150802374464, pvalue=1.6543954086263793e-12)"
      ]
     },
     "execution_count": 93,
     "metadata": {},
     "output_type": "execute_result"
    }
   ],
   "source": [
    "#NOW Lets See How Correlated the new Column \"health\" is with \"Charges\" Using Hypothesis testing \n",
    "stats.f_oneway(df.loc[df['health'] == 'healthy', 'charges'],df.loc[df['health'] == 'overweight', 'charges'],df.loc[df['health'] == 'obese', 'charges'])"
   ]
  },
  {
   "cell_type": "code",
   "execution_count": 94,
   "metadata": {},
   "outputs": [],
   "source": [
    "#pvalue is very small so there is a decent correlation between \"Health\" and \"Charges\" Column -- Lets see a pairplot\n",
    "#Since there is a visible seperation ..we can say \"health\" and \"charges\" they are correlated"
   ]
  },
  {
   "cell_type": "code",
   "execution_count": 95,
   "metadata": {},
   "outputs": [
    {
     "data": {
      "text/plain": [
       "<seaborn.axisgrid.PairGrid at 0x1eb1daf2198>"
      ]
     },
     "execution_count": 95,
     "metadata": {},
     "output_type": "execute_result"
    },
    {
     "data": {
      "image/png": "[encoded data removed]",
      "text/plain": [
       "<Figure size 271.875x180 with 2 Axes>"
      ]
     },
     "metadata": {
      "needs_background": "light"
     },
     "output_type": "display_data"
    }
   ],
   "source": [
    "sns.pairplot(df[['health','charges']], hue='health')"
   ]
  },
  {
   "cell_type": "code",
   "execution_count": 96,
   "metadata": {},
   "outputs": [],
   "source": [
    "#Which Clients should the Insurance Company give Insurance to and whom should they reject So that they run into profits :) :)"
   ]
  },
  {
   "cell_type": "code",
   "execution_count": 97,
   "metadata": {},
   "outputs": [],
   "source": [
    "#My Plan is to use 'Health' and 'Smoker' Column to Create a Final output column 'Insurance',predicting \n",
    "#the clients who should be given insurance and who should be rejected to make best profits for the Insurance Company."
   ]
  },
  {
   "cell_type": "code",
   "execution_count": 98,
   "metadata": {},
   "outputs": [
    {
     "data": {
      "text/html": [
       "<div>\n",
       "<style scoped>\n",
       "    .dataframe tbody tr th:only-of-type {\n",
       "        vertical-align: middle;\n",
       "    }\n",
       "\n",
       "    .dataframe tbody tr th {\n",
       "        vertical-align: top;\n",
       "    }\n",
       "\n",
       "    .dataframe thead th {\n",
       "        text-align: right;\n",
       "    }\n",
       "</style>\n",
       "<table border=\"1\" class=\"dataframe\">\n",
       "  <thead>\n",
       "    <tr style=\"text-align: right;\">\n",
       "      <th></th>\n",
       "      <th></th>\n",
       "      <th>age</th>\n",
       "      <th>bmi</th>\n",
       "      <th>charges</th>\n",
       "      <th>children</th>\n",
       "      <th>sex</th>\n",
       "    </tr>\n",
       "    <tr>\n",
       "      <th>health</th>\n",
       "      <th>smoker</th>\n",
       "      <th></th>\n",
       "      <th></th>\n",
       "      <th></th>\n",
       "      <th></th>\n",
       "      <th></th>\n",
       "    </tr>\n",
       "  </thead>\n",
       "  <tbody>\n",
       "    <tr>\n",
       "      <th rowspan=\"2\" valign=\"top\">healthy</th>\n",
       "      <th>0</th>\n",
       "      <td>36.112299</td>\n",
       "      <td>22.137807</td>\n",
       "      <td>7433.864413</td>\n",
       "      <td>1.074866</td>\n",
       "      <td>0.486631</td>\n",
       "    </tr>\n",
       "    <tr>\n",
       "      <th>1</th>\n",
       "      <td>37.309091</td>\n",
       "      <td>22.277182</td>\n",
       "      <td>19839.278309</td>\n",
       "      <td>1.236364</td>\n",
       "      <td>0.418182</td>\n",
       "    </tr>\n",
       "    <tr>\n",
       "      <th rowspan=\"2\" valign=\"top\">obese</th>\n",
       "      <th>0</th>\n",
       "      <td>40.658363</td>\n",
       "      <td>35.203959</td>\n",
       "      <td>8842.691548</td>\n",
       "      <td>1.108541</td>\n",
       "      <td>0.498221</td>\n",
       "    </tr>\n",
       "    <tr>\n",
       "      <th>1</th>\n",
       "      <td>39.124138</td>\n",
       "      <td>35.506517</td>\n",
       "      <td>41557.989840</td>\n",
       "      <td>1.096552</td>\n",
       "      <td>0.641379</td>\n",
       "    </tr>\n",
       "    <tr>\n",
       "      <th rowspan=\"2\" valign=\"top\">overweight</th>\n",
       "      <th>0</th>\n",
       "      <td>39.137705</td>\n",
       "      <td>27.556475</td>\n",
       "      <td>8306.378031</td>\n",
       "      <td>1.068852</td>\n",
       "      <td>0.472131</td>\n",
       "    </tr>\n",
       "    <tr>\n",
       "      <th>1</th>\n",
       "      <td>37.888889</td>\n",
       "      <td>27.508056</td>\n",
       "      <td>22379.034063</td>\n",
       "      <td>1.027778</td>\n",
       "      <td>0.583333</td>\n",
       "    </tr>\n",
       "  </tbody>\n",
       "</table>\n",
       "</div>"
      ],
      "text/plain": [
       "                         age        bmi       charges  children       sex\n",
       "health     smoker                                                        \n",
       "healthy    0       36.112299  22.137807   7433.864413  1.074866  0.486631\n",
       "           1       37.309091  22.277182  19839.278309  1.236364  0.418182\n",
       "obese      0       40.658363  35.203959   8842.691548  1.108541  0.498221\n",
       "           1       39.124138  35.506517  41557.989840  1.096552  0.641379\n",
       "overweight 0       39.137705  27.556475   8306.378031  1.068852  0.472131\n",
       "           1       37.888889  27.508056  22379.034063  1.027778  0.583333"
      ]
     },
     "execution_count": 98,
     "metadata": {},
     "output_type": "execute_result"
    }
   ],
   "source": [
    "#Smoker -1     Non-Smoker - 0\n",
    "pd.pivot_table(df, index=['health','smoker'])"
   ]
  },
  {
   "cell_type": "code",
   "execution_count": 99,
   "metadata": {},
   "outputs": [],
   "source": [
    "#from Pivot table its cleanr (healthy,non-smoker) spends less towards medicines so priority1 and so on ...........\n",
    "#(healthy, non-smoker) - priority1\n",
    "#(overweight, non-smoker) - priority2\n",
    "#(obese , non-smoker) - priority3\n",
    "#(healthy, smoker) - priority4\n",
    "#(overweight, smoker) - reject2(2nd high priority reject)\n",
    "#(obese, smoker) - reject1 (1st high priority reject)\n",
    "\n",
    "def insurance(cols):\n",
    "    health, smoker = cols\n",
    "    if((health == 'healthy') & (smoker == 0)):\n",
    "        return 'priority1'\n",
    "    if((health == 'overweight') & (smoker == 0)):\n",
    "        return 'priority2'\n",
    "    if((health == 'obese') & (smoker == 0)):\n",
    "        return 'priority3'\n",
    "    if((health == 'healthy') & (smoker == 1)):\n",
    "        return 'priority4'\n",
    "    if((health == 'overweight') & (smoker == 1)):\n",
    "        return 'reject2'\n",
    "    if((health == 'obese') & (smoker == 1)):\n",
    "        return 'reject1'"
   ]
  },
  {
   "cell_type": "code",
   "execution_count": 100,
   "metadata": {},
   "outputs": [],
   "source": [
    "#Creating a New Colum 'Insurance' out of 'Health' and \"Smoker\" Columns\n",
    "df['Insurance'] = df[['health','smoker']].apply(insurance, axis=1)"
   ]
  },
  {
   "cell_type": "code",
   "execution_count": 101,
   "metadata": {},
   "outputs": [
    {
     "data": {
      "text/html": [
       "<div>\n",
       "<style scoped>\n",
       "    .dataframe tbody tr th:only-of-type {\n",
       "        vertical-align: middle;\n",
       "    }\n",
       "\n",
       "    .dataframe tbody tr th {\n",
       "        vertical-align: top;\n",
       "    }\n",
       "\n",
       "    .dataframe thead th {\n",
       "        text-align: right;\n",
       "    }\n",
       "</style>\n",
       "<table border=\"1\" class=\"dataframe\">\n",
       "  <thead>\n",
       "    <tr style=\"text-align: right;\">\n",
       "      <th></th>\n",
       "      <th>age</th>\n",
       "      <th>sex</th>\n",
       "      <th>bmi</th>\n",
       "      <th>children</th>\n",
       "      <th>smoker</th>\n",
       "      <th>charges</th>\n",
       "      <th>health</th>\n",
       "      <th>Insurance</th>\n",
       "    </tr>\n",
       "  </thead>\n",
       "  <tbody>\n",
       "    <tr>\n",
       "      <th>0</th>\n",
       "      <td>19</td>\n",
       "      <td>0</td>\n",
       "      <td>27.900</td>\n",
       "      <td>0</td>\n",
       "      <td>1</td>\n",
       "      <td>16884.92400</td>\n",
       "      <td>overweight</td>\n",
       "      <td>reject2</td>\n",
       "    </tr>\n",
       "    <tr>\n",
       "      <th>1</th>\n",
       "      <td>18</td>\n",
       "      <td>1</td>\n",
       "      <td>33.770</td>\n",
       "      <td>1</td>\n",
       "      <td>0</td>\n",
       "      <td>1725.55230</td>\n",
       "      <td>obese</td>\n",
       "      <td>priority3</td>\n",
       "    </tr>\n",
       "    <tr>\n",
       "      <th>2</th>\n",
       "      <td>28</td>\n",
       "      <td>1</td>\n",
       "      <td>33.000</td>\n",
       "      <td>3</td>\n",
       "      <td>0</td>\n",
       "      <td>4449.46200</td>\n",
       "      <td>obese</td>\n",
       "      <td>priority3</td>\n",
       "    </tr>\n",
       "    <tr>\n",
       "      <th>3</th>\n",
       "      <td>33</td>\n",
       "      <td>1</td>\n",
       "      <td>22.705</td>\n",
       "      <td>0</td>\n",
       "      <td>0</td>\n",
       "      <td>21984.47061</td>\n",
       "      <td>healthy</td>\n",
       "      <td>priority1</td>\n",
       "    </tr>\n",
       "    <tr>\n",
       "      <th>4</th>\n",
       "      <td>32</td>\n",
       "      <td>1</td>\n",
       "      <td>28.880</td>\n",
       "      <td>0</td>\n",
       "      <td>0</td>\n",
       "      <td>3866.85520</td>\n",
       "      <td>overweight</td>\n",
       "      <td>priority2</td>\n",
       "    </tr>\n",
       "    <tr>\n",
       "      <th>5</th>\n",
       "      <td>31</td>\n",
       "      <td>0</td>\n",
       "      <td>25.740</td>\n",
       "      <td>0</td>\n",
       "      <td>0</td>\n",
       "      <td>3756.62160</td>\n",
       "      <td>overweight</td>\n",
       "      <td>priority2</td>\n",
       "    </tr>\n",
       "    <tr>\n",
       "      <th>6</th>\n",
       "      <td>46</td>\n",
       "      <td>0</td>\n",
       "      <td>33.440</td>\n",
       "      <td>1</td>\n",
       "      <td>0</td>\n",
       "      <td>8240.58960</td>\n",
       "      <td>obese</td>\n",
       "      <td>priority3</td>\n",
       "    </tr>\n",
       "    <tr>\n",
       "      <th>7</th>\n",
       "      <td>37</td>\n",
       "      <td>0</td>\n",
       "      <td>27.740</td>\n",
       "      <td>3</td>\n",
       "      <td>0</td>\n",
       "      <td>7281.50560</td>\n",
       "      <td>overweight</td>\n",
       "      <td>priority2</td>\n",
       "    </tr>\n",
       "    <tr>\n",
       "      <th>8</th>\n",
       "      <td>37</td>\n",
       "      <td>1</td>\n",
       "      <td>29.830</td>\n",
       "      <td>2</td>\n",
       "      <td>0</td>\n",
       "      <td>6406.41070</td>\n",
       "      <td>overweight</td>\n",
       "      <td>priority2</td>\n",
       "    </tr>\n",
       "    <tr>\n",
       "      <th>9</th>\n",
       "      <td>60</td>\n",
       "      <td>0</td>\n",
       "      <td>25.840</td>\n",
       "      <td>0</td>\n",
       "      <td>0</td>\n",
       "      <td>28923.13692</td>\n",
       "      <td>overweight</td>\n",
       "      <td>priority2</td>\n",
       "    </tr>\n",
       "    <tr>\n",
       "      <th>10</th>\n",
       "      <td>25</td>\n",
       "      <td>1</td>\n",
       "      <td>26.220</td>\n",
       "      <td>0</td>\n",
       "      <td>0</td>\n",
       "      <td>2721.32080</td>\n",
       "      <td>overweight</td>\n",
       "      <td>priority2</td>\n",
       "    </tr>\n",
       "    <tr>\n",
       "      <th>11</th>\n",
       "      <td>62</td>\n",
       "      <td>0</td>\n",
       "      <td>26.290</td>\n",
       "      <td>0</td>\n",
       "      <td>1</td>\n",
       "      <td>27808.72510</td>\n",
       "      <td>overweight</td>\n",
       "      <td>reject2</td>\n",
       "    </tr>\n",
       "    <tr>\n",
       "      <th>12</th>\n",
       "      <td>23</td>\n",
       "      <td>1</td>\n",
       "      <td>34.400</td>\n",
       "      <td>0</td>\n",
       "      <td>0</td>\n",
       "      <td>1826.84300</td>\n",
       "      <td>obese</td>\n",
       "      <td>priority3</td>\n",
       "    </tr>\n",
       "    <tr>\n",
       "      <th>13</th>\n",
       "      <td>56</td>\n",
       "      <td>0</td>\n",
       "      <td>39.820</td>\n",
       "      <td>0</td>\n",
       "      <td>0</td>\n",
       "      <td>11090.71780</td>\n",
       "      <td>obese</td>\n",
       "      <td>priority3</td>\n",
       "    </tr>\n",
       "    <tr>\n",
       "      <th>14</th>\n",
       "      <td>27</td>\n",
       "      <td>1</td>\n",
       "      <td>42.130</td>\n",
       "      <td>0</td>\n",
       "      <td>1</td>\n",
       "      <td>39611.75770</td>\n",
       "      <td>obese</td>\n",
       "      <td>reject1</td>\n",
       "    </tr>\n",
       "    <tr>\n",
       "      <th>15</th>\n",
       "      <td>19</td>\n",
       "      <td>1</td>\n",
       "      <td>24.600</td>\n",
       "      <td>1</td>\n",
       "      <td>0</td>\n",
       "      <td>1837.23700</td>\n",
       "      <td>healthy</td>\n",
       "      <td>priority1</td>\n",
       "    </tr>\n",
       "    <tr>\n",
       "      <th>16</th>\n",
       "      <td>52</td>\n",
       "      <td>0</td>\n",
       "      <td>30.780</td>\n",
       "      <td>1</td>\n",
       "      <td>0</td>\n",
       "      <td>10797.33620</td>\n",
       "      <td>obese</td>\n",
       "      <td>priority3</td>\n",
       "    </tr>\n",
       "    <tr>\n",
       "      <th>17</th>\n",
       "      <td>23</td>\n",
       "      <td>1</td>\n",
       "      <td>23.845</td>\n",
       "      <td>0</td>\n",
       "      <td>0</td>\n",
       "      <td>2395.17155</td>\n",
       "      <td>healthy</td>\n",
       "      <td>priority1</td>\n",
       "    </tr>\n",
       "    <tr>\n",
       "      <th>18</th>\n",
       "      <td>56</td>\n",
       "      <td>1</td>\n",
       "      <td>40.300</td>\n",
       "      <td>0</td>\n",
       "      <td>0</td>\n",
       "      <td>10602.38500</td>\n",
       "      <td>obese</td>\n",
       "      <td>priority3</td>\n",
       "    </tr>\n",
       "    <tr>\n",
       "      <th>19</th>\n",
       "      <td>30</td>\n",
       "      <td>1</td>\n",
       "      <td>35.300</td>\n",
       "      <td>0</td>\n",
       "      <td>1</td>\n",
       "      <td>36837.46700</td>\n",
       "      <td>obese</td>\n",
       "      <td>reject1</td>\n",
       "    </tr>\n",
       "    <tr>\n",
       "      <th>20</th>\n",
       "      <td>60</td>\n",
       "      <td>0</td>\n",
       "      <td>36.005</td>\n",
       "      <td>0</td>\n",
       "      <td>0</td>\n",
       "      <td>13228.84695</td>\n",
       "      <td>obese</td>\n",
       "      <td>priority3</td>\n",
       "    </tr>\n",
       "    <tr>\n",
       "      <th>21</th>\n",
       "      <td>30</td>\n",
       "      <td>0</td>\n",
       "      <td>32.400</td>\n",
       "      <td>1</td>\n",
       "      <td>0</td>\n",
       "      <td>4149.73600</td>\n",
       "      <td>obese</td>\n",
       "      <td>priority3</td>\n",
       "    </tr>\n",
       "    <tr>\n",
       "      <th>22</th>\n",
       "      <td>18</td>\n",
       "      <td>1</td>\n",
       "      <td>34.100</td>\n",
       "      <td>0</td>\n",
       "      <td>0</td>\n",
       "      <td>1137.01100</td>\n",
       "      <td>obese</td>\n",
       "      <td>priority3</td>\n",
       "    </tr>\n",
       "    <tr>\n",
       "      <th>23</th>\n",
       "      <td>34</td>\n",
       "      <td>0</td>\n",
       "      <td>31.920</td>\n",
       "      <td>1</td>\n",
       "      <td>1</td>\n",
       "      <td>37701.87680</td>\n",
       "      <td>obese</td>\n",
       "      <td>reject1</td>\n",
       "    </tr>\n",
       "    <tr>\n",
       "      <th>24</th>\n",
       "      <td>37</td>\n",
       "      <td>1</td>\n",
       "      <td>28.025</td>\n",
       "      <td>2</td>\n",
       "      <td>0</td>\n",
       "      <td>6203.90175</td>\n",
       "      <td>overweight</td>\n",
       "      <td>priority2</td>\n",
       "    </tr>\n",
       "    <tr>\n",
       "      <th>25</th>\n",
       "      <td>59</td>\n",
       "      <td>0</td>\n",
       "      <td>27.720</td>\n",
       "      <td>3</td>\n",
       "      <td>0</td>\n",
       "      <td>14001.13380</td>\n",
       "      <td>overweight</td>\n",
       "      <td>priority2</td>\n",
       "    </tr>\n",
       "    <tr>\n",
       "      <th>26</th>\n",
       "      <td>63</td>\n",
       "      <td>0</td>\n",
       "      <td>23.085</td>\n",
       "      <td>0</td>\n",
       "      <td>0</td>\n",
       "      <td>14451.83515</td>\n",
       "      <td>healthy</td>\n",
       "      <td>priority1</td>\n",
       "    </tr>\n",
       "    <tr>\n",
       "      <th>27</th>\n",
       "      <td>55</td>\n",
       "      <td>0</td>\n",
       "      <td>32.775</td>\n",
       "      <td>2</td>\n",
       "      <td>0</td>\n",
       "      <td>12268.63225</td>\n",
       "      <td>obese</td>\n",
       "      <td>priority3</td>\n",
       "    </tr>\n",
       "    <tr>\n",
       "      <th>28</th>\n",
       "      <td>23</td>\n",
       "      <td>1</td>\n",
       "      <td>17.385</td>\n",
       "      <td>1</td>\n",
       "      <td>0</td>\n",
       "      <td>2775.19215</td>\n",
       "      <td>healthy</td>\n",
       "      <td>priority1</td>\n",
       "    </tr>\n",
       "    <tr>\n",
       "      <th>29</th>\n",
       "      <td>31</td>\n",
       "      <td>1</td>\n",
       "      <td>36.300</td>\n",
       "      <td>2</td>\n",
       "      <td>1</td>\n",
       "      <td>38711.00000</td>\n",
       "      <td>obese</td>\n",
       "      <td>reject1</td>\n",
       "    </tr>\n",
       "  </tbody>\n",
       "</table>\n",
       "</div>"
      ],
      "text/plain": [
       "    age  sex     bmi  children  smoker      charges      health  Insurance\n",
       "0    19    0  27.900         0       1  16884.92400  overweight    reject2\n",
       "1    18    1  33.770         1       0   1725.55230       obese  priority3\n",
       "2    28    1  33.000         3       0   4449.46200       obese  priority3\n",
       "3    33    1  22.705         0       0  21984.47061     healthy  priority1\n",
       "4    32    1  28.880         0       0   3866.85520  overweight  priority2\n",
       "5    31    0  25.740         0       0   3756.62160  overweight  priority2\n",
       "6    46    0  33.440         1       0   8240.58960       obese  priority3\n",
       "7    37    0  27.740         3       0   7281.50560  overweight  priority2\n",
       "8    37    1  29.830         2       0   6406.41070  overweight  priority2\n",
       "9    60    0  25.840         0       0  28923.13692  overweight  priority2\n",
       "10   25    1  26.220         0       0   2721.32080  overweight  priority2\n",
       "11   62    0  26.290         0       1  27808.72510  overweight    reject2\n",
       "12   23    1  34.400         0       0   1826.84300       obese  priority3\n",
       "13   56    0  39.820         0       0  11090.71780       obese  priority3\n",
       "14   27    1  42.130         0       1  39611.75770       obese    reject1\n",
       "15   19    1  24.600         1       0   1837.23700     healthy  priority1\n",
       "16   52    0  30.780         1       0  10797.33620       obese  priority3\n",
       "17   23    1  23.845         0       0   2395.17155     healthy  priority1\n",
       "18   56    1  40.300         0       0  10602.38500       obese  priority3\n",
       "19   30    1  35.300         0       1  36837.46700       obese    reject1\n",
       "20   60    0  36.005         0       0  13228.84695       obese  priority3\n",
       "21   30    0  32.400         1       0   4149.73600       obese  priority3\n",
       "22   18    1  34.100         0       0   1137.01100       obese  priority3\n",
       "23   34    0  31.920         1       1  37701.87680       obese    reject1\n",
       "24   37    1  28.025         2       0   6203.90175  overweight  priority2\n",
       "25   59    0  27.720         3       0  14001.13380  overweight  priority2\n",
       "26   63    0  23.085         0       0  14451.83515     healthy  priority1\n",
       "27   55    0  32.775         2       0  12268.63225       obese  priority3\n",
       "28   23    1  17.385         1       0   2775.19215     healthy  priority1\n",
       "29   31    1  36.300         2       1  38711.00000       obese    reject1"
      ]
     },
     "execution_count": 101,
     "metadata": {},
     "output_type": "execute_result"
    }
   ],
   "source": [
    "#Almost all the Rejects what we derived from (health, smoker) columns has high expenditure ...So Predictions is working :)\n",
    "df.head(30)"
   ]
  },
  {
   "cell_type": "code",
   "execution_count": 102,
   "metadata": {},
   "outputs": [
    {
     "data": {
      "text/html": [
       "<div>\n",
       "<style scoped>\n",
       "    .dataframe tbody tr th:only-of-type {\n",
       "        vertical-align: middle;\n",
       "    }\n",
       "\n",
       "    .dataframe tbody tr th {\n",
       "        vertical-align: top;\n",
       "    }\n",
       "\n",
       "    .dataframe thead th {\n",
       "        text-align: right;\n",
       "    }\n",
       "</style>\n",
       "<table border=\"1\" class=\"dataframe\">\n",
       "  <thead>\n",
       "    <tr style=\"text-align: right;\">\n",
       "      <th></th>\n",
       "      <th></th>\n",
       "      <th>age</th>\n",
       "      <th>charges</th>\n",
       "    </tr>\n",
       "    <tr>\n",
       "      <th>Insurance</th>\n",
       "      <th>children</th>\n",
       "      <th></th>\n",
       "      <th></th>\n",
       "    </tr>\n",
       "  </thead>\n",
       "  <tbody>\n",
       "    <tr>\n",
       "      <th rowspan=\"6\" valign=\"top\">priority1</th>\n",
       "      <th>0</th>\n",
       "      <td>36.204819</td>\n",
       "      <td>6801.883913</td>\n",
       "    </tr>\n",
       "    <tr>\n",
       "      <th>1</th>\n",
       "      <td>36.500000</td>\n",
       "      <td>8113.764052</td>\n",
       "    </tr>\n",
       "    <tr>\n",
       "      <th>2</th>\n",
       "      <td>34.676471</td>\n",
       "      <td>7965.946691</td>\n",
       "    </tr>\n",
       "    <tr>\n",
       "      <th>3</th>\n",
       "      <td>36.800000</td>\n",
       "      <td>7408.797295</td>\n",
       "    </tr>\n",
       "    <tr>\n",
       "      <th>4</th>\n",
       "      <td>51.000000</td>\n",
       "      <td>11520.099850</td>\n",
       "    </tr>\n",
       "    <tr>\n",
       "      <th>5</th>\n",
       "      <td>35.200000</td>\n",
       "      <td>7606.485790</td>\n",
       "    </tr>\n",
       "    <tr>\n",
       "      <th rowspan=\"6\" valign=\"top\">priority2</th>\n",
       "      <th>0</th>\n",
       "      <td>38.568182</td>\n",
       "      <td>7468.692929</td>\n",
       "    </tr>\n",
       "    <tr>\n",
       "      <th>1</th>\n",
       "      <td>39.000000</td>\n",
       "      <td>7969.857973</td>\n",
       "    </tr>\n",
       "    <tr>\n",
       "      <th>2</th>\n",
       "      <td>39.333333</td>\n",
       "      <td>9552.402664</td>\n",
       "    </tr>\n",
       "    <tr>\n",
       "      <th>3</th>\n",
       "      <td>42.758621</td>\n",
       "      <td>10180.946206</td>\n",
       "    </tr>\n",
       "    <tr>\n",
       "      <th>4</th>\n",
       "      <td>38.000000</td>\n",
       "      <td>10771.924542</td>\n",
       "    </tr>\n",
       "    <tr>\n",
       "      <th>5</th>\n",
       "      <td>36.000000</td>\n",
       "      <td>9056.991550</td>\n",
       "    </tr>\n",
       "    <tr>\n",
       "      <th rowspan=\"6\" valign=\"top\">priority3</th>\n",
       "      <th>0</th>\n",
       "      <td>39.870833</td>\n",
       "      <td>7971.681121</td>\n",
       "    </tr>\n",
       "    <tr>\n",
       "      <th>1</th>\n",
       "      <td>40.684211</td>\n",
       "      <td>8634.383890</td>\n",
       "    </tr>\n",
       "    <tr>\n",
       "      <th>2</th>\n",
       "      <td>41.284314</td>\n",
       "      <td>9938.117662</td>\n",
       "    </tr>\n",
       "    <tr>\n",
       "      <th>3</th>\n",
       "      <td>42.884058</td>\n",
       "      <td>10015.795685</td>\n",
       "    </tr>\n",
       "    <tr>\n",
       "      <th>4</th>\n",
       "      <td>41.272727</td>\n",
       "      <td>13402.748337</td>\n",
       "    </tr>\n",
       "    <tr>\n",
       "      <th>5</th>\n",
       "      <td>35.142857</td>\n",
       "      <td>7972.569679</td>\n",
       "    </tr>\n",
       "    <tr>\n",
       "      <th rowspan=\"5\" valign=\"top\">priority4</th>\n",
       "      <th>0</th>\n",
       "      <td>35.869565</td>\n",
       "      <td>19667.341679</td>\n",
       "    </tr>\n",
       "    <tr>\n",
       "      <th>1</th>\n",
       "      <td>42.000000</td>\n",
       "      <td>19977.375606</td>\n",
       "    </tr>\n",
       "    <tr>\n",
       "      <th>2</th>\n",
       "      <td>36.357143</td>\n",
       "      <td>19570.599296</td>\n",
       "    </tr>\n",
       "    <tr>\n",
       "      <th>3</th>\n",
       "      <td>38.111111</td>\n",
       "      <td>20664.532594</td>\n",
       "    </tr>\n",
       "    <tr>\n",
       "      <th>5</th>\n",
       "      <td>39.000000</td>\n",
       "      <td>19023.260000</td>\n",
       "    </tr>\n",
       "    <tr>\n",
       "      <th rowspan=\"5\" valign=\"top\">reject1</th>\n",
       "      <th>0</th>\n",
       "      <td>36.803279</td>\n",
       "      <td>40272.106227</td>\n",
       "    </tr>\n",
       "    <tr>\n",
       "      <th>1</th>\n",
       "      <td>41.633333</td>\n",
       "      <td>42731.659531</td>\n",
       "    </tr>\n",
       "    <tr>\n",
       "      <th>2</th>\n",
       "      <td>39.882353</td>\n",
       "      <td>42020.367136</td>\n",
       "    </tr>\n",
       "    <tr>\n",
       "      <th>3</th>\n",
       "      <td>41.368421</td>\n",
       "      <td>43078.185914</td>\n",
       "    </tr>\n",
       "    <tr>\n",
       "      <th>4</th>\n",
       "      <td>37.000000</td>\n",
       "      <td>40182.246000</td>\n",
       "    </tr>\n",
       "    <tr>\n",
       "      <th rowspan=\"5\" valign=\"top\">reject2</th>\n",
       "      <th>0</th>\n",
       "      <td>37.451613</td>\n",
       "      <td>22429.339232</td>\n",
       "    </tr>\n",
       "    <tr>\n",
       "      <th>1</th>\n",
       "      <td>36.545455</td>\n",
       "      <td>21679.594540</td>\n",
       "    </tr>\n",
       "    <tr>\n",
       "      <th>2</th>\n",
       "      <td>44.142857</td>\n",
       "      <td>22678.870536</td>\n",
       "    </tr>\n",
       "    <tr>\n",
       "      <th>3</th>\n",
       "      <td>40.100000</td>\n",
       "      <td>24086.317794</td>\n",
       "    </tr>\n",
       "    <tr>\n",
       "      <th>4</th>\n",
       "      <td>26.500000</td>\n",
       "      <td>19707.292400</td>\n",
       "    </tr>\n",
       "  </tbody>\n",
       "</table>\n",
       "</div>"
      ],
      "text/plain": [
       "                          age       charges\n",
       "Insurance children                         \n",
       "priority1 0         36.204819   6801.883913\n",
       "          1         36.500000   8113.764052\n",
       "          2         34.676471   7965.946691\n",
       "          3         36.800000   7408.797295\n",
       "          4         51.000000  11520.099850\n",
       "          5         35.200000   7606.485790\n",
       "priority2 0         38.568182   7468.692929\n",
       "          1         39.000000   7969.857973\n",
       "          2         39.333333   9552.402664\n",
       "          3         42.758621  10180.946206\n",
       "          4         38.000000  10771.924542\n",
       "          5         36.000000   9056.991550\n",
       "priority3 0         39.870833   7971.681121\n",
       "          1         40.684211   8634.383890\n",
       "          2         41.284314   9938.117662\n",
       "          3         42.884058  10015.795685\n",
       "          4         41.272727  13402.748337\n",
       "          5         35.142857   7972.569679\n",
       "priority4 0         35.869565  19667.341679\n",
       "          1         42.000000  19977.375606\n",
       "          2         36.357143  19570.599296\n",
       "          3         38.111111  20664.532594\n",
       "          5         39.000000  19023.260000\n",
       "reject1   0         36.803279  40272.106227\n",
       "          1         41.633333  42731.659531\n",
       "          2         39.882353  42020.367136\n",
       "          3         41.368421  43078.185914\n",
       "          4         37.000000  40182.246000\n",
       "reject2   0         37.451613  22429.339232\n",
       "          1         36.545455  21679.594540\n",
       "          2         44.142857  22678.870536\n",
       "          3         40.100000  24086.317794\n",
       "          4         26.500000  19707.292400"
      ]
     },
     "execution_count": 102,
     "metadata": {},
     "output_type": "execute_result"
    }
   ],
   "source": [
    "#Pivort table shows that the Prediction given by 'Insurance' Column works most of the times :) \n",
    "pd.pivot_table(df, index=['Insurance','children'], aggfunc = {'age':np.mean, 'charges':np.mean})"
   ]
  },
  {
   "cell_type": "code",
   "execution_count": 103,
   "metadata": {},
   "outputs": [],
   "source": [
    "#Cant Remove the Children Column as it shows a slight correlation to charges when kids are (0,1,2)......................"
   ]
  },
  {
   "cell_type": "code",
   "execution_count": 104,
   "metadata": {},
   "outputs": [
    {
     "data": {
      "text/plain": [
       "F_onewayResult(statistic=4.345477145846477, pvalue=0.013181717660802504)"
      ]
     },
     "execution_count": 104,
     "metadata": {},
     "output_type": "execute_result"
    }
   ],
   "source": [
    "stats.f_oneway(df.loc[df['children'] == 0, 'charges'],df.loc[df['children'] == 1, 'charges'],df.loc[df['children'] == 2, 'charges'])"
   ]
  },
  {
   "cell_type": "code",
   "execution_count": 107,
   "metadata": {},
   "outputs": [],
   "source": [
    "#pvalue < 0.05  (i.e 0.013 < 0.05)-Slight Relation."
   ]
  },
  {
   "cell_type": "code",
   "execution_count": 108,
   "metadata": {},
   "outputs": [
    {
     "data": {
      "text/plain": [
       "<seaborn.axisgrid.PairGrid at 0x1eb1dd10ac8>"
      ]
     },
     "execution_count": 108,
     "metadata": {},
     "output_type": "execute_result"
    },
    {
     "data": {
      "image/png": "[encoded data removed]",
      "text/plain": [
       "<Figure size 408.625x360 with 6 Axes>"
      ]
     },
     "metadata": {
      "needs_background": "light"
     },
     "output_type": "display_data"
    }
   ],
   "source": [
    "sns.pairplot(df.loc[df['children'] < 3,['children','charges']],diag_kind='kde', hue='children')"
   ]
  },
  {
   "cell_type": "code",
   "execution_count": 109,
   "metadata": {},
   "outputs": [],
   "source": [
    "#####--HOW TO MAKE USE OF REGION COLUMN ###########################################################################"
   ]
  },
  {
   "cell_type": "code",
   "execution_count": 110,
   "metadata": {},
   "outputs": [],
   "source": [
    "df['region'] = s"
   ]
  },
  {
   "cell_type": "code",
   "execution_count": 111,
   "metadata": {},
   "outputs": [
    {
     "data": {
      "text/plain": [
       "Index(['age', 'sex', 'bmi', 'children', 'smoker', 'charges', 'health',\n",
       "       'Insurance', 'region'],\n",
       "      dtype='object')"
      ]
     },
     "execution_count": 111,
     "metadata": {},
     "output_type": "execute_result"
    }
   ],
   "source": [
    "df.columns"
   ]
  },
  {
   "cell_type": "code",
   "execution_count": 112,
   "metadata": {},
   "outputs": [
    {
     "data": {
      "text/html": [
       "<div>\n",
       "<style scoped>\n",
       "    .dataframe tbody tr th:only-of-type {\n",
       "        vertical-align: middle;\n",
       "    }\n",
       "\n",
       "    .dataframe tbody tr th {\n",
       "        vertical-align: top;\n",
       "    }\n",
       "\n",
       "    .dataframe thead th {\n",
       "        text-align: right;\n",
       "    }\n",
       "</style>\n",
       "<table border=\"1\" class=\"dataframe\">\n",
       "  <thead>\n",
       "    <tr style=\"text-align: right;\">\n",
       "      <th></th>\n",
       "      <th>count</th>\n",
       "      <th>mean</th>\n",
       "      <th>std</th>\n",
       "      <th>min</th>\n",
       "      <th>25%</th>\n",
       "      <th>50%</th>\n",
       "      <th>75%</th>\n",
       "      <th>max</th>\n",
       "    </tr>\n",
       "    <tr>\n",
       "      <th>region</th>\n",
       "      <th></th>\n",
       "      <th></th>\n",
       "      <th></th>\n",
       "      <th></th>\n",
       "      <th></th>\n",
       "      <th></th>\n",
       "      <th></th>\n",
       "      <th></th>\n",
       "    </tr>\n",
       "  </thead>\n",
       "  <tbody>\n",
       "    <tr>\n",
       "      <th>1</th>\n",
       "      <td>364.0</td>\n",
       "      <td>14735.411438</td>\n",
       "      <td>13971.098589</td>\n",
       "      <td>1121.8739</td>\n",
       "      <td>4440.886200</td>\n",
       "      <td>9294.131950</td>\n",
       "      <td>19526.2869</td>\n",
       "      <td>63770.42801</td>\n",
       "    </tr>\n",
       "    <tr>\n",
       "      <th>3</th>\n",
       "      <td>324.0</td>\n",
       "      <td>13406.384516</td>\n",
       "      <td>11255.803066</td>\n",
       "      <td>1694.7964</td>\n",
       "      <td>5194.322288</td>\n",
       "      <td>10057.652025</td>\n",
       "      <td>16687.3641</td>\n",
       "      <td>58571.07448</td>\n",
       "    </tr>\n",
       "    <tr>\n",
       "      <th>2</th>\n",
       "      <td>325.0</td>\n",
       "      <td>12417.575374</td>\n",
       "      <td>11072.276928</td>\n",
       "      <td>1621.3402</td>\n",
       "      <td>4719.736550</td>\n",
       "      <td>8965.795750</td>\n",
       "      <td>14711.7438</td>\n",
       "      <td>60021.39897</td>\n",
       "    </tr>\n",
       "    <tr>\n",
       "      <th>0</th>\n",
       "      <td>325.0</td>\n",
       "      <td>12346.937377</td>\n",
       "      <td>11557.179101</td>\n",
       "      <td>1241.5650</td>\n",
       "      <td>4751.070000</td>\n",
       "      <td>8798.593000</td>\n",
       "      <td>13462.5200</td>\n",
       "      <td>52590.82939</td>\n",
       "    </tr>\n",
       "  </tbody>\n",
       "</table>\n",
       "</div>"
      ],
      "text/plain": [
       "        count          mean           std        min          25%  \\\n",
       "region                                                              \n",
       "1       364.0  14735.411438  13971.098589  1121.8739  4440.886200   \n",
       "3       324.0  13406.384516  11255.803066  1694.7964  5194.322288   \n",
       "2       325.0  12417.575374  11072.276928  1621.3402  4719.736550   \n",
       "0       325.0  12346.937377  11557.179101  1241.5650  4751.070000   \n",
       "\n",
       "                 50%         75%          max  \n",
       "region                                         \n",
       "1        9294.131950  19526.2869  63770.42801  \n",
       "3       10057.652025  16687.3641  58571.07448  \n",
       "2        8965.795750  14711.7438  60021.39897  \n",
       "0        8798.593000  13462.5200  52590.82939  "
      ]
     },
     "execution_count": 112,
     "metadata": {},
     "output_type": "execute_result"
    }
   ],
   "source": [
    "df.groupby('region')['charges'].describe().sort_values(by = 'mean', ascending=False)"
   ]
  },
  {
   "cell_type": "code",
   "execution_count": 113,
   "metadata": {},
   "outputs": [],
   "source": [
    "#southwest - 0\n",
    "#southeast - 1\n",
    "#northwest - 2\n",
    "#northeast - 3"
   ]
  },
  {
   "cell_type": "code",
   "execution_count": 114,
   "metadata": {},
   "outputs": [
    {
     "data": {
      "text/html": [
       "<div>\n",
       "<style scoped>\n",
       "    .dataframe tbody tr th:only-of-type {\n",
       "        vertical-align: middle;\n",
       "    }\n",
       "\n",
       "    .dataframe tbody tr th {\n",
       "        vertical-align: top;\n",
       "    }\n",
       "\n",
       "    .dataframe thead th {\n",
       "        text-align: right;\n",
       "    }\n",
       "</style>\n",
       "<table border=\"1\" class=\"dataframe\">\n",
       "  <thead>\n",
       "    <tr style=\"text-align: right;\">\n",
       "      <th>health</th>\n",
       "      <th>healthy</th>\n",
       "      <th>obese</th>\n",
       "      <th>overweight</th>\n",
       "    </tr>\n",
       "    <tr>\n",
       "      <th>region</th>\n",
       "      <th></th>\n",
       "      <th></th>\n",
       "      <th></th>\n",
       "    </tr>\n",
       "  </thead>\n",
       "  <tbody>\n",
       "    <tr>\n",
       "      <th>0</th>\n",
       "      <td>51</td>\n",
       "      <td>173</td>\n",
       "      <td>101</td>\n",
       "    </tr>\n",
       "    <tr>\n",
       "      <th>1</th>\n",
       "      <td>40</td>\n",
       "      <td>243</td>\n",
       "      <td>74</td>\n",
       "    </tr>\n",
       "    <tr>\n",
       "      <th>2</th>\n",
       "      <td>69</td>\n",
       "      <td>148</td>\n",
       "      <td>105</td>\n",
       "    </tr>\n",
       "    <tr>\n",
       "      <th>3</th>\n",
       "      <td>82</td>\n",
       "      <td>143</td>\n",
       "      <td>97</td>\n",
       "    </tr>\n",
       "  </tbody>\n",
       "</table>\n",
       "</div>"
      ],
      "text/plain": [
       "health  healthy  obese  overweight\n",
       "region                            \n",
       "0            51    173         101\n",
       "1            40    243          74\n",
       "2            69    148         105\n",
       "3            82    143          97"
      ]
     },
     "execution_count": 114,
     "metadata": {},
     "output_type": "execute_result"
    }
   ],
   "source": [
    "pd.crosstab(df['region'],df['health'])"
   ]
  },
  {
   "cell_type": "code",
   "execution_count": 115,
   "metadata": {},
   "outputs": [],
   "source": [
    "#Region 1 has Highest Number of Obese people and Lowest Number of Healthy People and \n",
    "#the 'charge' spend on medicine too is more in Region 1 compared to other 3 regions\n",
    "#so its double confirmation :)"
   ]
  },
  {
   "cell_type": "code",
   "execution_count": 116,
   "metadata": {},
   "outputs": [],
   "source": [
    "#Region 1 - Unhealthy Region (highest number of obese and lowest number of healthy)\n",
    "#Region 3 - Most Healthy Region(highest number of healthy and lowest number of obese)\n",
    "#Region 0,2 - Healthy Region"
   ]
  },
  {
   "cell_type": "code",
   "execution_count": 117,
   "metadata": {},
   "outputs": [],
   "source": [
    "def region_func(x):\n",
    "    if(x == 1):\n",
    "        return 'Unhealthy-Region'\n",
    "    if(x == 3):\n",
    "        return 'MostHealthy-Region'\n",
    "    else:\n",
    "        return 'Healthy-Region'"
   ]
  },
  {
   "cell_type": "code",
   "execution_count": 118,
   "metadata": {},
   "outputs": [],
   "source": [
    "df['region'] = df['region'].apply(region_func)"
   ]
  },
  {
   "cell_type": "code",
   "execution_count": 119,
   "metadata": {},
   "outputs": [],
   "source": [
    "#Below Popping is to Just to push the Priority Column to End"
   ]
  },
  {
   "cell_type": "code",
   "execution_count": 120,
   "metadata": {},
   "outputs": [],
   "source": [
    "insurance_col = df.pop('Insurance')"
   ]
  },
  {
   "cell_type": "code",
   "execution_count": 121,
   "metadata": {},
   "outputs": [],
   "source": [
    "df['insurance'] = insurance_col"
   ]
  },
  {
   "cell_type": "code",
   "execution_count": 122,
   "metadata": {},
   "outputs": [
    {
     "data": {
      "text/html": [
       "<div>\n",
       "<style scoped>\n",
       "    .dataframe tbody tr th:only-of-type {\n",
       "        vertical-align: middle;\n",
       "    }\n",
       "\n",
       "    .dataframe tbody tr th {\n",
       "        vertical-align: top;\n",
       "    }\n",
       "\n",
       "    .dataframe thead th {\n",
       "        text-align: right;\n",
       "    }\n",
       "</style>\n",
       "<table border=\"1\" class=\"dataframe\">\n",
       "  <thead>\n",
       "    <tr style=\"text-align: right;\">\n",
       "      <th></th>\n",
       "      <th>age</th>\n",
       "      <th>sex</th>\n",
       "      <th>bmi</th>\n",
       "      <th>children</th>\n",
       "      <th>smoker</th>\n",
       "      <th>charges</th>\n",
       "      <th>health</th>\n",
       "      <th>region</th>\n",
       "      <th>insurance</th>\n",
       "    </tr>\n",
       "  </thead>\n",
       "  <tbody>\n",
       "    <tr>\n",
       "      <th>0</th>\n",
       "      <td>19</td>\n",
       "      <td>0</td>\n",
       "      <td>27.900</td>\n",
       "      <td>0</td>\n",
       "      <td>1</td>\n",
       "      <td>16884.92400</td>\n",
       "      <td>overweight</td>\n",
       "      <td>Healthy-Region</td>\n",
       "      <td>reject2</td>\n",
       "    </tr>\n",
       "    <tr>\n",
       "      <th>1</th>\n",
       "      <td>18</td>\n",
       "      <td>1</td>\n",
       "      <td>33.770</td>\n",
       "      <td>1</td>\n",
       "      <td>0</td>\n",
       "      <td>1725.55230</td>\n",
       "      <td>obese</td>\n",
       "      <td>Unhealthy-Region</td>\n",
       "      <td>priority3</td>\n",
       "    </tr>\n",
       "    <tr>\n",
       "      <th>2</th>\n",
       "      <td>28</td>\n",
       "      <td>1</td>\n",
       "      <td>33.000</td>\n",
       "      <td>3</td>\n",
       "      <td>0</td>\n",
       "      <td>4449.46200</td>\n",
       "      <td>obese</td>\n",
       "      <td>Unhealthy-Region</td>\n",
       "      <td>priority3</td>\n",
       "    </tr>\n",
       "    <tr>\n",
       "      <th>3</th>\n",
       "      <td>33</td>\n",
       "      <td>1</td>\n",
       "      <td>22.705</td>\n",
       "      <td>0</td>\n",
       "      <td>0</td>\n",
       "      <td>21984.47061</td>\n",
       "      <td>healthy</td>\n",
       "      <td>Healthy-Region</td>\n",
       "      <td>priority1</td>\n",
       "    </tr>\n",
       "    <tr>\n",
       "      <th>4</th>\n",
       "      <td>32</td>\n",
       "      <td>1</td>\n",
       "      <td>28.880</td>\n",
       "      <td>0</td>\n",
       "      <td>0</td>\n",
       "      <td>3866.85520</td>\n",
       "      <td>overweight</td>\n",
       "      <td>Healthy-Region</td>\n",
       "      <td>priority2</td>\n",
       "    </tr>\n",
       "    <tr>\n",
       "      <th>5</th>\n",
       "      <td>31</td>\n",
       "      <td>0</td>\n",
       "      <td>25.740</td>\n",
       "      <td>0</td>\n",
       "      <td>0</td>\n",
       "      <td>3756.62160</td>\n",
       "      <td>overweight</td>\n",
       "      <td>Unhealthy-Region</td>\n",
       "      <td>priority2</td>\n",
       "    </tr>\n",
       "    <tr>\n",
       "      <th>6</th>\n",
       "      <td>46</td>\n",
       "      <td>0</td>\n",
       "      <td>33.440</td>\n",
       "      <td>1</td>\n",
       "      <td>0</td>\n",
       "      <td>8240.58960</td>\n",
       "      <td>obese</td>\n",
       "      <td>Unhealthy-Region</td>\n",
       "      <td>priority3</td>\n",
       "    </tr>\n",
       "    <tr>\n",
       "      <th>7</th>\n",
       "      <td>37</td>\n",
       "      <td>0</td>\n",
       "      <td>27.740</td>\n",
       "      <td>3</td>\n",
       "      <td>0</td>\n",
       "      <td>7281.50560</td>\n",
       "      <td>overweight</td>\n",
       "      <td>Healthy-Region</td>\n",
       "      <td>priority2</td>\n",
       "    </tr>\n",
       "    <tr>\n",
       "      <th>8</th>\n",
       "      <td>37</td>\n",
       "      <td>1</td>\n",
       "      <td>29.830</td>\n",
       "      <td>2</td>\n",
       "      <td>0</td>\n",
       "      <td>6406.41070</td>\n",
       "      <td>overweight</td>\n",
       "      <td>MostHealthy-Region</td>\n",
       "      <td>priority2</td>\n",
       "    </tr>\n",
       "    <tr>\n",
       "      <th>9</th>\n",
       "      <td>60</td>\n",
       "      <td>0</td>\n",
       "      <td>25.840</td>\n",
       "      <td>0</td>\n",
       "      <td>0</td>\n",
       "      <td>28923.13692</td>\n",
       "      <td>overweight</td>\n",
       "      <td>Healthy-Region</td>\n",
       "      <td>priority2</td>\n",
       "    </tr>\n",
       "    <tr>\n",
       "      <th>10</th>\n",
       "      <td>25</td>\n",
       "      <td>1</td>\n",
       "      <td>26.220</td>\n",
       "      <td>0</td>\n",
       "      <td>0</td>\n",
       "      <td>2721.32080</td>\n",
       "      <td>overweight</td>\n",
       "      <td>MostHealthy-Region</td>\n",
       "      <td>priority2</td>\n",
       "    </tr>\n",
       "    <tr>\n",
       "      <th>11</th>\n",
       "      <td>62</td>\n",
       "      <td>0</td>\n",
       "      <td>26.290</td>\n",
       "      <td>0</td>\n",
       "      <td>1</td>\n",
       "      <td>27808.72510</td>\n",
       "      <td>overweight</td>\n",
       "      <td>Unhealthy-Region</td>\n",
       "      <td>reject2</td>\n",
       "    </tr>\n",
       "    <tr>\n",
       "      <th>12</th>\n",
       "      <td>23</td>\n",
       "      <td>1</td>\n",
       "      <td>34.400</td>\n",
       "      <td>0</td>\n",
       "      <td>0</td>\n",
       "      <td>1826.84300</td>\n",
       "      <td>obese</td>\n",
       "      <td>Healthy-Region</td>\n",
       "      <td>priority3</td>\n",
       "    </tr>\n",
       "    <tr>\n",
       "      <th>13</th>\n",
       "      <td>56</td>\n",
       "      <td>0</td>\n",
       "      <td>39.820</td>\n",
       "      <td>0</td>\n",
       "      <td>0</td>\n",
       "      <td>11090.71780</td>\n",
       "      <td>obese</td>\n",
       "      <td>Unhealthy-Region</td>\n",
       "      <td>priority3</td>\n",
       "    </tr>\n",
       "    <tr>\n",
       "      <th>14</th>\n",
       "      <td>27</td>\n",
       "      <td>1</td>\n",
       "      <td>42.130</td>\n",
       "      <td>0</td>\n",
       "      <td>1</td>\n",
       "      <td>39611.75770</td>\n",
       "      <td>obese</td>\n",
       "      <td>Unhealthy-Region</td>\n",
       "      <td>reject1</td>\n",
       "    </tr>\n",
       "    <tr>\n",
       "      <th>15</th>\n",
       "      <td>19</td>\n",
       "      <td>1</td>\n",
       "      <td>24.600</td>\n",
       "      <td>1</td>\n",
       "      <td>0</td>\n",
       "      <td>1837.23700</td>\n",
       "      <td>healthy</td>\n",
       "      <td>Healthy-Region</td>\n",
       "      <td>priority1</td>\n",
       "    </tr>\n",
       "    <tr>\n",
       "      <th>16</th>\n",
       "      <td>52</td>\n",
       "      <td>0</td>\n",
       "      <td>30.780</td>\n",
       "      <td>1</td>\n",
       "      <td>0</td>\n",
       "      <td>10797.33620</td>\n",
       "      <td>obese</td>\n",
       "      <td>MostHealthy-Region</td>\n",
       "      <td>priority3</td>\n",
       "    </tr>\n",
       "    <tr>\n",
       "      <th>17</th>\n",
       "      <td>23</td>\n",
       "      <td>1</td>\n",
       "      <td>23.845</td>\n",
       "      <td>0</td>\n",
       "      <td>0</td>\n",
       "      <td>2395.17155</td>\n",
       "      <td>healthy</td>\n",
       "      <td>MostHealthy-Region</td>\n",
       "      <td>priority1</td>\n",
       "    </tr>\n",
       "    <tr>\n",
       "      <th>18</th>\n",
       "      <td>56</td>\n",
       "      <td>1</td>\n",
       "      <td>40.300</td>\n",
       "      <td>0</td>\n",
       "      <td>0</td>\n",
       "      <td>10602.38500</td>\n",
       "      <td>obese</td>\n",
       "      <td>Healthy-Region</td>\n",
       "      <td>priority3</td>\n",
       "    </tr>\n",
       "    <tr>\n",
       "      <th>19</th>\n",
       "      <td>30</td>\n",
       "      <td>1</td>\n",
       "      <td>35.300</td>\n",
       "      <td>0</td>\n",
       "      <td>1</td>\n",
       "      <td>36837.46700</td>\n",
       "      <td>obese</td>\n",
       "      <td>Healthy-Region</td>\n",
       "      <td>reject1</td>\n",
       "    </tr>\n",
       "  </tbody>\n",
       "</table>\n",
       "</div>"
      ],
      "text/plain": [
       "    age  sex     bmi  children  smoker      charges      health  \\\n",
       "0    19    0  27.900         0       1  16884.92400  overweight   \n",
       "1    18    1  33.770         1       0   1725.55230       obese   \n",
       "2    28    1  33.000         3       0   4449.46200       obese   \n",
       "3    33    1  22.705         0       0  21984.47061     healthy   \n",
       "4    32    1  28.880         0       0   3866.85520  overweight   \n",
       "5    31    0  25.740         0       0   3756.62160  overweight   \n",
       "6    46    0  33.440         1       0   8240.58960       obese   \n",
       "7    37    0  27.740         3       0   7281.50560  overweight   \n",
       "8    37    1  29.830         2       0   6406.41070  overweight   \n",
       "9    60    0  25.840         0       0  28923.13692  overweight   \n",
       "10   25    1  26.220         0       0   2721.32080  overweight   \n",
       "11   62    0  26.290         0       1  27808.72510  overweight   \n",
       "12   23    1  34.400         0       0   1826.84300       obese   \n",
       "13   56    0  39.820         0       0  11090.71780       obese   \n",
       "14   27    1  42.130         0       1  39611.75770       obese   \n",
       "15   19    1  24.600         1       0   1837.23700     healthy   \n",
       "16   52    0  30.780         1       0  10797.33620       obese   \n",
       "17   23    1  23.845         0       0   2395.17155     healthy   \n",
       "18   56    1  40.300         0       0  10602.38500       obese   \n",
       "19   30    1  35.300         0       1  36837.46700       obese   \n",
       "\n",
       "                region  insurance  \n",
       "0       Healthy-Region    reject2  \n",
       "1     Unhealthy-Region  priority3  \n",
       "2     Unhealthy-Region  priority3  \n",
       "3       Healthy-Region  priority1  \n",
       "4       Healthy-Region  priority2  \n",
       "5     Unhealthy-Region  priority2  \n",
       "6     Unhealthy-Region  priority3  \n",
       "7       Healthy-Region  priority2  \n",
       "8   MostHealthy-Region  priority2  \n",
       "9       Healthy-Region  priority2  \n",
       "10  MostHealthy-Region  priority2  \n",
       "11    Unhealthy-Region    reject2  \n",
       "12      Healthy-Region  priority3  \n",
       "13    Unhealthy-Region  priority3  \n",
       "14    Unhealthy-Region    reject1  \n",
       "15      Healthy-Region  priority1  \n",
       "16  MostHealthy-Region  priority3  \n",
       "17  MostHealthy-Region  priority1  \n",
       "18      Healthy-Region  priority3  \n",
       "19      Healthy-Region    reject1  "
      ]
     },
     "execution_count": 122,
     "metadata": {},
     "output_type": "execute_result"
    }
   ],
   "source": [
    "df.head(20)"
   ]
  },
  {
   "cell_type": "code",
   "execution_count": 123,
   "metadata": {},
   "outputs": [],
   "source": [
    "#Insurance is not Accepted or Rejected Using Region ...An Obese person who smokes from HealthyRegion can also be Rejected\n",
    "#Or a Helathy person from Unhealthy Region can be in Priroty 2 etc"
   ]
  },
  {
   "cell_type": "code",
   "execution_count": 124,
   "metadata": {},
   "outputs": [],
   "source": [
    "#But if we Observe most of the Prioriy1 and prority2 fall Under MostHealthy or Healthy Regions....."
   ]
  },
  {
   "cell_type": "code",
   "execution_count": 125,
   "metadata": {},
   "outputs": [],
   "source": [
    "# FROM REGION COLUMN WE CAN SAY THAT ----- MORE HOSPITALS, GYMS , MEDICAL SHOPS CAN COME IN 'Unhealthy-Region'.....\n",
    "# TO GET PROFITS INSURANCE COMPANY SHOULD OPEN THEIR BRANCH IN Healthy Regions as the healthy person takes Insurance he \n",
    "#spends less money on medicine"
   ]
  },
  {
   "cell_type": "code",
   "execution_count": 126,
   "metadata": {},
   "outputs": [
    {
     "data": {
      "text/html": [
       "<div>\n",
       "<style scoped>\n",
       "    .dataframe tbody tr th:only-of-type {\n",
       "        vertical-align: middle;\n",
       "    }\n",
       "\n",
       "    .dataframe tbody tr th {\n",
       "        vertical-align: top;\n",
       "    }\n",
       "\n",
       "    .dataframe thead th {\n",
       "        text-align: right;\n",
       "    }\n",
       "</style>\n",
       "<table border=\"1\" class=\"dataframe\">\n",
       "  <thead>\n",
       "    <tr style=\"text-align: right;\">\n",
       "      <th>smoker</th>\n",
       "      <th>0</th>\n",
       "      <th>1</th>\n",
       "    </tr>\n",
       "    <tr>\n",
       "      <th>region</th>\n",
       "      <th></th>\n",
       "      <th></th>\n",
       "    </tr>\n",
       "  </thead>\n",
       "  <tbody>\n",
       "    <tr>\n",
       "      <th>Healthy-Region</th>\n",
       "      <td>534</td>\n",
       "      <td>116</td>\n",
       "    </tr>\n",
       "    <tr>\n",
       "      <th>MostHealthy-Region</th>\n",
       "      <td>257</td>\n",
       "      <td>67</td>\n",
       "    </tr>\n",
       "    <tr>\n",
       "      <th>Unhealthy-Region</th>\n",
       "      <td>273</td>\n",
       "      <td>91</td>\n",
       "    </tr>\n",
       "  </tbody>\n",
       "</table>\n",
       "</div>"
      ],
      "text/plain": [
       "smoker                0    1\n",
       "region                      \n",
       "Healthy-Region      534  116\n",
       "MostHealthy-Region  257   67\n",
       "Unhealthy-Region    273   91"
      ]
     },
     "execution_count": 126,
     "metadata": {},
     "output_type": "execute_result"
    }
   ],
   "source": [
    "pd.crosstab(df['region'],df['smoker'])"
   ]
  },
  {
   "cell_type": "code",
   "execution_count": 127,
   "metadata": {},
   "outputs": [],
   "source": [
    "#LOT OF INFORMATION CAN BE DERIVER FROM REGION COLUMN----MIGHT NOT BE RELATED TO INSURANCE BUT IN GENERAL"
   ]
  },
  {
   "cell_type": "code",
   "execution_count": 128,
   "metadata": {},
   "outputs": [],
   "source": [
    "# northeast is the most healthy region \n",
    "# southeast in unhealthy region \n",
    "# But we have more cigarete shops in (southwest & northwest) - (as smokers are more in this area)"
   ]
  },
  {
   "cell_type": "code",
   "execution_count": null,
   "metadata": {},
   "outputs": [],
   "source": []
  }
 ],
 "metadata": {
  "kernelspec": {
   "display_name": "Python 3",
   "language": "python",
   "name": "python3"
  },
  "language_info": {
   "codemirror_mode": {
    "name": "ipython",
    "version": 3
   },
   "file_extension": ".py",
   "mimetype": "text/x-python",
   "name": "python",
   "nbconvert_exporter": "python",
   "pygments_lexer": "ipython3",
   "version": "3.7.3"
  }
 },
 "nbformat": 4,
 "nbformat_minor": 2
}
