{
 "cells": [
  {
   "cell_type": "code",
   "execution_count": 2,
   "metadata": {},
   "outputs": [],
   "source": [
    "########################################IMPORTS FOR READING IMAGES FROM A FOLDER ########################################\n",
    "from pathlib import Path\n",
    "import glob\n",
    "import pandas as pd\n",
    "import numpy as np\n",
    "from PIL import Image\n",
    "from resizeimage import resizeimage\n",
    "import matplotlib as mp\n",
    "import matplotlib.pyplot as plt\n",
    "import cv2\n",
    "import os\n",
    "\n",
    "#######################################################General Imports######################################################\n",
    "import numpy as np\n",
    "import pandas as pd\n",
    "import matplotlib as mp\n",
    "import matplotlib.pyplot as plt\n",
    "from sklearn.model_selection import train_test_split\n",
    "from sklearn.metrics import r2_score\n",
    "from sklearn.metrics import accuracy_score\n",
    "from sklearn.metrics import precision_score\n",
    "from sklearn.metrics import recall_score\n",
    "from sklearn.metrics import confusion_matrix\n",
    "from sklearn.metrics import f1_score\n",
    "from sklearn.metrics import classification_report\n",
    "from tensorflow.keras.datasets import fashion_mnist\n",
    "from sklearn.preprocessing import LabelEncoder\n",
    "from sklearn.preprocessing import StandardScaler\n",
    "from sklearn.preprocessing import Normalizer\n",
    "from sklearn.preprocessing import OneHotEncoder\n",
    "from sklearn.metrics import mean_absolute_error\n",
    "from tensorflow.keras.initializers import he_uniform\n",
    "from tensorflow.keras.preprocessing.image import ImageDataGenerator\n",
    "from tensorflow.keras.datasets import cifar10\n",
    "from tensorflow.keras import backend as K\n",
    "from catboost import CatBoostClassifier\n",
    "from sklearn.naive_bayes import GaussianNB\n",
    "from tensorflow.keras.applications.vgg16 import VGG16\n",
    "from tensorflow.keras.applications.inception_resnet_v2 import InceptionResNetV2\n",
    "from tensorflow.keras.models import Model\n",
    "from tensorflow.keras.datasets import mnist\n",
    "from sklearn.feature_extraction.text import CountVectorizer\n",
    "from sklearn.ensemble import RandomForestClassifier\n",
    "from sklearn.linear_model import LogisticRegression\n",
    "import seaborn as sns\n",
    "import tensorflow as tf\n",
    "from tensorflow.keras import layers\n",
    "import pydot\n",
    "import pydotplus\n",
    "from pydotplus import graphviz\n",
    "from IPython.display import Image \n",
    "import os\n",
    "import math\n",
    "import h5py\n",
    "import tkinter as tk\n",
    "from tkinter import ttk\n",
    "import re"
   ]
  },
  {
   "cell_type": "code",
   "execution_count": 68,
   "metadata": {},
   "outputs": [],
   "source": [
    "(x_train, y_train), (x_test, y_test) = mnist.load_data()"
   ]
  },
  {
   "cell_type": "code",
   "execution_count": 65,
   "metadata": {},
   "outputs": [
    {
     "data": {
      "image/png": "[encoded data removed]",
      "text/plain": [
       "<Figure size 1440x1440 with 10 Axes>"
      ]
     },
     "metadata": {
      "needs_background": "light"
     },
     "output_type": "display_data"
    }
   ],
   "source": [
    "#Vizualizing First 10 Images\n",
    "plt.figure(figsize=(20,20))\n",
    "for i in range(10):\n",
    "    i = i + 1\n",
    "    plt.subplot(4,4,1+i)\n",
    "    plt.title(\"Label: {}\".format(y_train[i]))\n",
    "    plt.imshow(x_train[i], cmap='gray')"
   ]
  },
  {
   "cell_type": "code",
   "execution_count": 69,
   "metadata": {},
   "outputs": [],
   "source": [
    "#Create two datasets¶\n",
    "#First having digits from 0 to 4\n",
    "#Second having digits from 5 to 9"
   ]
  },
  {
   "cell_type": "code",
   "execution_count": 70,
   "metadata": {},
   "outputs": [],
   "source": [
    "x_train_04 = x_train[y_train < 5]\n",
    "y_train_04 = y_train[y_train < 5]\n",
    "x_test_04  = x_test[y_test < 5]\n",
    "y_test_04  = y_test[y_test < 5]\n",
    "\n",
    "x_train_59 = x_train[y_train >= 5]\n",
    "y_train_59 = y_train[y_train >= 5]\n",
    "x_test_59  = x_test[y_test >= 5]\n",
    "y_test_59  = y_test[y_test >= 5]\n"
   ]
  },
  {
   "cell_type": "code",
   "execution_count": 71,
   "metadata": {},
   "outputs": [],
   "source": [
    "#Print shape of the data"
   ]
  },
  {
   "cell_type": "code",
   "execution_count": 38,
   "metadata": {},
   "outputs": [
    {
     "data": {
      "text/plain": [
       "(30596, 28, 28)"
      ]
     },
     "execution_count": 38,
     "metadata": {},
     "output_type": "execute_result"
    }
   ],
   "source": [
    "x_train_04.shape"
   ]
  },
  {
   "cell_type": "code",
   "execution_count": 39,
   "metadata": {},
   "outputs": [
    {
     "data": {
      "text/plain": [
       "(5139, 28, 28)"
      ]
     },
     "execution_count": 39,
     "metadata": {},
     "output_type": "execute_result"
    }
   ],
   "source": [
    "x_test_04.shape"
   ]
  },
  {
   "cell_type": "code",
   "execution_count": null,
   "metadata": {},
   "outputs": [],
   "source": [
    "#Reshape data#############################################################"
   ]
  },
  {
   "cell_type": "code",
   "execution_count": 40,
   "metadata": {},
   "outputs": [],
   "source": [
    "x_train_04 = x_train_04.reshape(x_train_04.shape[0], x_train_04.shape[1],x_train_04.shape[2],1)\n",
    "x_test_04 = x_test_04.reshape(x_test_04.shape[0], x_test_04.shape[1],x_test_04.shape[2],1)"
   ]
  },
  {
   "cell_type": "code",
   "execution_count": 41,
   "metadata": {},
   "outputs": [
    {
     "data": {
      "text/plain": [
       "(30596, 28, 28, 1)"
      ]
     },
     "execution_count": 41,
     "metadata": {},
     "output_type": "execute_result"
    }
   ],
   "source": [
    "x_train_04.shape"
   ]
  },
  {
   "cell_type": "code",
   "execution_count": 43,
   "metadata": {},
   "outputs": [
    {
     "data": {
      "text/plain": [
       "(5139, 28, 28, 1)"
      ]
     },
     "execution_count": 43,
     "metadata": {},
     "output_type": "execute_result"
    }
   ],
   "source": [
    "x_test_04.shape"
   ]
  },
  {
   "cell_type": "code",
   "execution_count": null,
   "metadata": {},
   "outputs": [],
   "source": [
    "#Normalize Data"
   ]
  },
  {
   "cell_type": "code",
   "execution_count": 44,
   "metadata": {},
   "outputs": [],
   "source": [
    "x_train_04 = x_train_04.astype('float32')/255\n",
    "x_test_04 = x_test_04.astype('float32')/255"
   ]
  },
  {
   "cell_type": "code",
   "execution_count": 45,
   "metadata": {},
   "outputs": [
    {
     "data": {
      "text/plain": [
       "(30596, 28, 28, 1)"
      ]
     },
     "execution_count": 45,
     "metadata": {},
     "output_type": "execute_result"
    }
   ],
   "source": [
    "#Here 30596 is the no of images\n",
    "x_train_04.shape"
   ]
  },
  {
   "cell_type": "code",
   "execution_count": 46,
   "metadata": {},
   "outputs": [
    {
     "data": {
      "text/plain": [
       "(5139, 28, 28, 1)"
      ]
     },
     "execution_count": 46,
     "metadata": {},
     "output_type": "execute_result"
    }
   ],
   "source": [
    "x_test_04.shape"
   ]
  },
  {
   "cell_type": "code",
   "execution_count": 47,
   "metadata": {},
   "outputs": [
    {
     "data": {
      "text/plain": [
       "30596"
      ]
     },
     "execution_count": 47,
     "metadata": {},
     "output_type": "execute_result"
    }
   ],
   "source": [
    "#No of Image is \n",
    "x_train_04.shape[0]"
   ]
  },
  {
   "cell_type": "code",
   "execution_count": 48,
   "metadata": {},
   "outputs": [
    {
     "data": {
      "text/plain": [
       "5139"
      ]
     },
     "execution_count": 48,
     "metadata": {},
     "output_type": "execute_result"
    }
   ],
   "source": [
    "x_test_04.shape[0]"
   ]
  },
  {
   "cell_type": "code",
   "execution_count": null,
   "metadata": {},
   "outputs": [],
   "source": [
    "#One-hot encode the class vector"
   ]
  },
  {
   "cell_type": "code",
   "execution_count": 52,
   "metadata": {},
   "outputs": [],
   "source": [
    "y_train_04 = tf.keras.utils.to_categorical(y_train_04, num_classes=len(np.unique(y_train_04)))\n",
    "y_test_04 = tf.keras.utils.to_categorical(y_test_04, num_classes= len(np.unique(y_test_04)))"
   ]
  },
  {
   "cell_type": "code",
   "execution_count": 53,
   "metadata": {},
   "outputs": [
    {
     "data": {
      "text/plain": [
       "array([[1., 0., 0., 0., 0.],\n",
       "       [0., 0., 0., 0., 1.],\n",
       "       [0., 1., 0., 0., 0.],\n",
       "       ...,\n",
       "       [0., 0., 1., 0., 0.],\n",
       "       [0., 1., 0., 0., 0.],\n",
       "       [0., 0., 0., 1., 0.]], dtype=float32)"
      ]
     },
     "execution_count": 53,
     "metadata": {},
     "output_type": "execute_result"
    }
   ],
   "source": [
    "y_train_04"
   ]
  },
  {
   "cell_type": "code",
   "execution_count": null,
   "metadata": {},
   "outputs": [],
   "source": [
    "#Initialize a sequential model¶\n",
    "#define a sequential model\n",
    "#add 2 convolutional layers\n",
    "#no of filters: 32\n",
    "#kernel size: 3x3\n",
    "#activation: \"relu\"\n",
    "#input shape: (28, 28, 1) for first layer\n",
    "#add a max pooling layer of size 2x2\n",
    "#add a dropout layer\n",
    "#dropout layers fight with the overfitting by disregarding some of the neurons while training\n",
    "#use dropout rate 0.2\n",
    "\n",
    "\n",
    "#Add classification layers\n",
    "#do this after doing question 6\n",
    "#flatten the data\n",
    "#add Flatten later\n",
    "#flatten layers flatten 2D arrays to 1D array before building the fully connected layers\n",
    "#add 2 dense layers\n",
    "#number of neurons in first layer: 128\n",
    "#number of neurons in last layer: number of classes\n",
    "#activation function in first layer: relu\n",
    "#activation function in last layer: softmax\n",
    "#we may experiment with any number of neurons for the first Dense layer; however, the final Dense layer must have neurons equal to the number of output classes\n",
    "#you can add a dropout layer in between, if necessary"
   ]
  },
  {
   "cell_type": "code",
   "execution_count": 54,
   "metadata": {},
   "outputs": [
    {
     "name": "stdout",
     "output_type": "stream",
     "text": [
      "WARNING:tensorflow:From C:\\ProgramData\\Anaconda3\\lib\\site-packages\\tensorflow\\python\\ops\\resource_variable_ops.py:435: colocate_with (from tensorflow.python.framework.ops) is deprecated and will be removed in a future version.\n",
      "Instructions for updating:\n",
      "Colocations handled automatically by placer.\n",
      "WARNING:tensorflow:From C:\\ProgramData\\Anaconda3\\lib\\site-packages\\tensorflow\\python\\keras\\layers\\core.py:143: calling dropout (from tensorflow.python.ops.nn_ops) with keep_prob is deprecated and will be removed in a future version.\n",
      "Instructions for updating:\n",
      "Please use `rate` instead of `keep_prob`. Rate should be set to `rate = 1 - keep_prob`.\n"
     ]
    }
   ],
   "source": [
    "model = tf.keras.Sequential()\n",
    "model.add(layers.Conv2D(32, kernel_size=(3,3), activation='relu', input_shape=(28,28,1)))\n",
    "model.add(layers.Conv2D(32, kernel_size=(3,3), activation='relu'))\n",
    "model.add(layers.MaxPool2D(2,2))\n",
    "model.add(layers.Dropout(0.2))\n",
    "model.add(layers.Flatten())\n",
    "model.add(layers.Dense(128, activation='relu'))\n",
    "model.add(layers.Dense(5, activation='softmax'))     "
   ]
  },
  {
   "cell_type": "code",
   "execution_count": 55,
   "metadata": {},
   "outputs": [
    {
     "name": "stdout",
     "output_type": "stream",
     "text": [
      "_________________________________________________________________\n",
      "Layer (type)                 Output Shape              Param #   \n",
      "=================================================================\n",
      "conv2d (Conv2D)              (None, 26, 26, 32)        320       \n",
      "_________________________________________________________________\n",
      "conv2d_1 (Conv2D)            (None, 24, 24, 32)        9248      \n",
      "_________________________________________________________________\n",
      "max_pooling2d (MaxPooling2D) (None, 12, 12, 32)        0         \n",
      "_________________________________________________________________\n",
      "dropout (Dropout)            (None, 12, 12, 32)        0         \n",
      "_________________________________________________________________\n",
      "flatten (Flatten)            (None, 4608)              0         \n",
      "_________________________________________________________________\n",
      "dense (Dense)                (None, 128)               589952    \n",
      "_________________________________________________________________\n",
      "dense_1 (Dense)              (None, 5)                 645       \n",
      "=================================================================\n",
      "Total params: 600,165\n",
      "Trainable params: 600,165\n",
      "Non-trainable params: 0\n",
      "_________________________________________________________________\n"
     ]
    }
   ],
   "source": [
    "model.summary()"
   ]
  },
  {
   "cell_type": "code",
   "execution_count": null,
   "metadata": {},
   "outputs": [],
   "source": [
    "#Compile and fit the model"
   ]
  },
  {
   "cell_type": "code",
   "execution_count": 56,
   "metadata": {},
   "outputs": [],
   "source": [
    "model.compile(loss='categorical_crossentropy', optimizer='adam', metrics=['accuracy']) "
   ]
  },
  {
   "cell_type": "code",
   "execution_count": 57,
   "metadata": {},
   "outputs": [
    {
     "name": "stdout",
     "output_type": "stream",
     "text": [
      "WARNING:tensorflow:The `nb_epoch` argument in `fit` has been renamed `epochs`.\n",
      "Train on 30596 samples, validate on 5139 samples\n",
      "WARNING:tensorflow:From C:\\ProgramData\\Anaconda3\\lib\\site-packages\\tensorflow\\python\\ops\\math_ops.py:3066: to_int32 (from tensorflow.python.ops.math_ops) is deprecated and will be removed in a future version.\n",
      "Instructions for updating:\n",
      "Use tf.cast instead.\n",
      "Epoch 1/10\n",
      "30596/30596 [==============================] - 38s 1ms/sample - loss: 0.1114 - acc: 0.9679 - val_loss: 0.0213 - val_acc: 0.9928\n",
      "Epoch 2/10\n",
      "30596/30596 [==============================] - 40s 1ms/sample - loss: 0.0273 - acc: 0.9912 - val_loss: 0.0111 - val_acc: 0.9969\n",
      "Epoch 3/10\n",
      "30596/30596 [==============================] - 41s 1ms/sample - loss: 0.0165 - acc: 0.9952 - val_loss: 0.0090 - val_acc: 0.9973\n",
      "Epoch 4/10\n",
      "30596/30596 [==============================] - 40s 1ms/sample - loss: 0.0112 - acc: 0.9967 - val_loss: 0.0073 - val_acc: 0.9973\n",
      "Epoch 5/10\n",
      "30596/30596 [==============================] - 40s 1ms/sample - loss: 0.0101 - acc: 0.9965 - val_loss: 0.0074 - val_acc: 0.9973\n",
      "Epoch 6/10\n",
      "30596/30596 [==============================] - 40s 1ms/sample - loss: 0.0060 - acc: 0.9982 - val_loss: 0.0075 - val_acc: 0.9975\n",
      "Epoch 7/10\n",
      "30596/30596 [==============================] - 40s 1ms/sample - loss: 0.0036 - acc: 0.9989 - val_loss: 0.0058 - val_acc: 0.9977\n",
      "Epoch 8/10\n",
      "30596/30596 [==============================] - 42s 1ms/sample - loss: 0.0041 - acc: 0.9986 - val_loss: 0.0060 - val_acc: 0.9982\n",
      "Epoch 9/10\n",
      "30596/30596 [==============================] - 43s 1ms/sample - loss: 0.0031 - acc: 0.9990 - val_loss: 0.0112 - val_acc: 0.9971\n",
      "Epoch 10/10\n",
      "30596/30596 [==============================] - 43s 1ms/sample - loss: 0.0044 - acc: 0.9987 - val_loss: 0.0094 - val_acc: 0.9969\n"
     ]
    }
   ],
   "source": [
    "ckpt_callback = tf.keras.callbacks.ModelCheckpoint(filepath='r8_lab_ckpt', save_best_only=True, verbose=False)\n",
    "training = model.fit(x_train_04, y_train_04, batch_size=128, nb_epoch=10, validation_data=(x_test_04, y_test_04),verbose=True, callbacks=[ckpt_callback])"
   ]
  },
  {
   "cell_type": "code",
   "execution_count": 58,
   "metadata": {},
   "outputs": [
    {
     "name": "stdout",
     "output_type": "stream",
     "text": [
      "5139/5139 [==============================] - 2s 326us/sample - loss: 0.0058 - acc: 0.9977\n"
     ]
    },
    {
     "data": {
      "text/plain": [
       "[0.005763353696507844, 0.9976649]"
      ]
     },
     "execution_count": 58,
     "metadata": {},
     "output_type": "execute_result"
    }
   ],
   "source": [
    "model.load_weights('r8_lab_ckpt')\n",
    "model.evaluate(x_test_04,y_test_04)"
   ]
  },
  {
   "cell_type": "code",
   "execution_count": 59,
   "metadata": {},
   "outputs": [],
   "source": [
    "#Just saved the model but not reloading it , as its already in memory in our case :)\n",
    "model.save('base_model')"
   ]
  },
  {
   "cell_type": "code",
   "execution_count": 63,
   "metadata": {},
   "outputs": [
    {
     "name": "stdout",
     "output_type": "stream",
     "text": [
      "_________________________________________________________________\n",
      "Layer (type)                 Output Shape              Param #   \n",
      "=================================================================\n",
      "conv2d (Conv2D)              (None, 26, 26, 32)        320       \n",
      "_________________________________________________________________\n",
      "conv2d_1 (Conv2D)            (None, 24, 24, 32)        9248      \n",
      "_________________________________________________________________\n",
      "max_pooling2d (MaxPooling2D) (None, 12, 12, 32)        0         \n",
      "_________________________________________________________________\n",
      "dropout (Dropout)            (None, 12, 12, 32)        0         \n",
      "_________________________________________________________________\n",
      "flatten (Flatten)            (None, 4608)              0         \n",
      "_________________________________________________________________\n",
      "dense (Dense)                (None, 128)               589952    \n",
      "_________________________________________________________________\n",
      "dense_1 (Dense)              (None, 5)                 645       \n",
      "=================================================================\n",
      "WARNING:tensorflow:Discrepancy between trainable weights and collected trainable weights, did you set `model.trainable` without calling `model.compile` after ?\n",
      "Total params: 609,733\n",
      "Trainable params: 600,165\n",
      "Non-trainable params: 9,568\n",
      "_________________________________________________________________\n"
     ]
    }
   ],
   "source": [
    "model.summary()"
   ]
  },
  {
   "cell_type": "code",
   "execution_count": null,
   "metadata": {},
   "outputs": [],
   "source": [
    "#Transfer learning¶\n",
    "#Now we will apply this model on second dataset (5-9 digits)\n",
    "\n",
    "#fix the first convolution layers so that the weights in the convolution layers dont get updated in the process of training\n",
    "#get the second dataset\n",
    "#train the last 2 dense layers\n",
    "#predict the accuracy and loss"
   ]
  },
  {
   "cell_type": "code",
   "execution_count": 61,
   "metadata": {},
   "outputs": [],
   "source": [
    "#Freezing all the Convolution Layers\n",
    "for layer in model.layers:\n",
    "    if('dense' not in layer.name):\n",
    "        layer.trainable = False"
   ]
  },
  {
   "cell_type": "code",
   "execution_count": 64,
   "metadata": {},
   "outputs": [
    {
     "name": "stdout",
     "output_type": "stream",
     "text": [
      "False\n",
      "False\n",
      "False\n",
      "False\n",
      "False\n",
      "True\n",
      "True\n"
     ]
    }
   ],
   "source": [
    "for layer in model.layers:\n",
    "    print(layer.trainable)"
   ]
  },
  {
   "cell_type": "code",
   "execution_count": null,
   "metadata": {},
   "outputs": [],
   "source": [
    "#Modify Data\n",
    "#Reshape data\n",
    "#Normalize data\n"
   ]
  },
  {
   "cell_type": "code",
   "execution_count": 65,
   "metadata": {},
   "outputs": [],
   "source": [
    "y_train_59 = y_train_59 - 5\n",
    "y_test_59 = y_test_59 - 5"
   ]
  },
  {
   "cell_type": "code",
   "execution_count": 66,
   "metadata": {},
   "outputs": [],
   "source": [
    "x_train_59 = x_train_59.reshape(x_train_59.shape[0], x_train_59.shape[1],x_train_59.shape[2],1)\n",
    "x_test_59 = x_test_59.reshape(x_test_59.shape[0], x_test_59.shape[1],x_test_59.shape[2],1)"
   ]
  },
  {
   "cell_type": "code",
   "execution_count": null,
   "metadata": {},
   "outputs": [],
   "source": [
    "#Print shape of data and number of images"
   ]
  },
  {
   "cell_type": "code",
   "execution_count": 67,
   "metadata": {},
   "outputs": [
    {
     "data": {
      "text/plain": [
       "(29404, 28, 28, 1)"
      ]
     },
     "execution_count": 67,
     "metadata": {},
     "output_type": "execute_result"
    }
   ],
   "source": [
    "x_train_59.shape"
   ]
  },
  {
   "cell_type": "code",
   "execution_count": 68,
   "metadata": {},
   "outputs": [
    {
     "data": {
      "text/plain": [
       "(4861, 28, 28, 1)"
      ]
     },
     "execution_count": 68,
     "metadata": {},
     "output_type": "execute_result"
    }
   ],
   "source": [
    "x_test_59.shape"
   ]
  },
  {
   "cell_type": "code",
   "execution_count": 69,
   "metadata": {},
   "outputs": [],
   "source": [
    "x_train_59 = x_train_59.astype('float32')/255\n",
    "x_test_59 = x_test_59.astype('float32')/255"
   ]
  },
  {
   "cell_type": "code",
   "execution_count": 70,
   "metadata": {},
   "outputs": [
    {
     "data": {
      "text/plain": [
       "(29404, 28, 28, 1)"
      ]
     },
     "execution_count": 70,
     "metadata": {},
     "output_type": "execute_result"
    }
   ],
   "source": [
    "#29404 is no of Images\n",
    "x_train_59.shape"
   ]
  },
  {
   "cell_type": "code",
   "execution_count": 71,
   "metadata": {},
   "outputs": [
    {
     "data": {
      "text/plain": [
       "(4861, 28, 28, 1)"
      ]
     },
     "execution_count": 71,
     "metadata": {},
     "output_type": "execute_result"
    }
   ],
   "source": [
    "#4861 is no of Images\n",
    "x_test_59.shape"
   ]
  },
  {
   "cell_type": "code",
   "execution_count": null,
   "metadata": {},
   "outputs": [],
   "source": [
    "#One Hot Encode"
   ]
  },
  {
   "cell_type": "code",
   "execution_count": 73,
   "metadata": {},
   "outputs": [],
   "source": [
    "y_train_59 = tf.keras.utils.to_categorical(y_train_59, num_classes=len(np.unique(y_train_59)))\n",
    "y_test_59 = tf.keras.utils.to_categorical(y_test_59, num_classes= len(np.unique(y_test_59)))"
   ]
  },
  {
   "cell_type": "code",
   "execution_count": 76,
   "metadata": {},
   "outputs": [
    {
     "data": {
      "text/plain": [
       "(29404, 5)"
      ]
     },
     "execution_count": 76,
     "metadata": {},
     "output_type": "execute_result"
    }
   ],
   "source": [
    "y_train_59.shape"
   ]
  },
  {
   "cell_type": "code",
   "execution_count": 77,
   "metadata": {},
   "outputs": [
    {
     "data": {
      "text/plain": [
       "(4861, 5)"
      ]
     },
     "execution_count": 77,
     "metadata": {},
     "output_type": "execute_result"
    }
   ],
   "source": [
    "y_test_59.shape"
   ]
  },
  {
   "cell_type": "code",
   "execution_count": null,
   "metadata": {},
   "outputs": [],
   "source": [
    "#Fit the model\n",
    "#give train data - features and labels\n",
    "#batch size: 128\n",
    "#epochs: 10\n",
    "#give validation data - features and labels\n",
    "\n",
    "\n",
    "#Evaluate model¶\n",
    "#evaluate your model and get accuracy\n",
    "#use test features and labels"
   ]
  },
  {
   "cell_type": "code",
   "execution_count": 78,
   "metadata": {},
   "outputs": [
    {
     "name": "stdout",
     "output_type": "stream",
     "text": [
      "WARNING:tensorflow:The `nb_epoch` argument in `fit` has been renamed `epochs`.\n",
      "Train on 29404 samples, validate on 4861 samples\n",
      "WARNING:tensorflow:Discrepancy between trainable weights and collected trainable weights, did you set `model.trainable` without calling `model.compile` after ?\n",
      "Epoch 1/10\n",
      "29404/29404 [==============================] - 41s 1ms/sample - loss: 0.1675 - acc: 0.9574 - val_loss: 0.0414 - val_acc: 0.9864\n",
      "Epoch 2/10\n",
      "29404/29404 [==============================] - 41s 1ms/sample - loss: 0.0340 - acc: 0.9885 - val_loss: 0.0263 - val_acc: 0.9918\n",
      "Epoch 3/10\n",
      "29404/29404 [==============================] - 41s 1ms/sample - loss: 0.0215 - acc: 0.9932 - val_loss: 0.0275 - val_acc: 0.9912\n",
      "Epoch 4/10\n",
      "29404/29404 [==============================] - 41s 1ms/sample - loss: 0.0150 - acc: 0.9947 - val_loss: 0.0248 - val_acc: 0.9922\n",
      "Epoch 5/10\n",
      "29404/29404 [==============================] - 41s 1ms/sample - loss: 0.0109 - acc: 0.9961 - val_loss: 0.0197 - val_acc: 0.9947TA: 2s - loss: 0.\n",
      "Epoch 6/10\n",
      "29404/29404 [==============================] - 40s 1ms/sample - loss: 0.0093 - acc: 0.9967 - val_loss: 0.0225 - val_acc: 0.9930\n",
      "Epoch 7/10\n",
      "29404/29404 [==============================] - 44s 1ms/sample - loss: 0.0069 - acc: 0.9977 - val_loss: 0.0271 - val_acc: 0.9922\n",
      "Epoch 8/10\n",
      "29404/29404 [==============================] - 41s 1ms/sample - loss: 0.0047 - acc: 0.9986 - val_loss: 0.0218 - val_acc: 0.9947\n",
      "Epoch 9/10\n",
      "29404/29404 [==============================] - 43s 1ms/sample - loss: 0.0046 - acc: 0.9983 - val_loss: 0.0270 - val_acc: 0.9932\n",
      "Epoch 10/10\n",
      "29404/29404 [==============================] - 44s 1ms/sample - loss: 0.0042 - acc: 0.9984 - val_loss: 0.0216 - val_acc: 0.9947\n"
     ]
    }
   ],
   "source": [
    "ckpt_callback = tf.keras.callbacks.ModelCheckpoint(filepath='r8_lab_ckpt_transfer', save_best_only=True, verbose=False)\n",
    "training1 = model.fit(x_train_59, y_train_59, batch_size=128, nb_epoch=10, validation_data=(x_test_59, y_test_59),verbose=True, callbacks=[ckpt_callback])"
   ]
  },
  {
   "cell_type": "code",
   "execution_count": 79,
   "metadata": {},
   "outputs": [
    {
     "name": "stdout",
     "output_type": "stream",
     "text": [
      "4861/4861 [==============================] - 1s 299us/sample - loss: 0.0197 - acc: 0.9947\n"
     ]
    },
    {
     "data": {
      "text/plain": [
       "[0.01966019017436768, 0.9946513]"
      ]
     },
     "execution_count": 79,
     "metadata": {},
     "output_type": "execute_result"
    }
   ],
   "source": [
    "model.load_weights('r8_lab_ckpt_transfer')\n",
    "model.evaluate(x_test_59,y_test_59)"
   ]
  },
  {
   "cell_type": "code",
   "execution_count": null,
   "metadata": {},
   "outputs": [],
   "source": []
  },
  {
   "cell_type": "code",
   "execution_count": null,
   "metadata": {},
   "outputs": [],
   "source": []
  },
  {
   "cell_type": "code",
   "execution_count": null,
   "metadata": {},
   "outputs": [],
   "source": []
  },
  {
   "cell_type": "code",
   "execution_count": null,
   "metadata": {},
   "outputs": [],
   "source": [
    "#################################################Sentiment analysis########################################################"
   ]
  },
  {
   "cell_type": "code",
   "execution_count": null,
   "metadata": {},
   "outputs": [],
   "source": [
    "\n",
    "#The objective of the second problem is to perform Sentiment analysis from the tweets \n",
    "#collected from the users targeted at various mobile devices.Based on the tweet posted \n",
    "#by a user (text), we will classify if the sentiment of the user targeted at a particular \n",
    "#mobile device is positive or not."
   ]
  },
  {
   "cell_type": "code",
   "execution_count": null,
   "metadata": {},
   "outputs": [],
   "source": [
    "#Read the data\n",
    "#read tweets.csv\n",
    "#use latin encoding if it gives encoding error while loading"
   ]
  },
  {
   "cell_type": "code",
   "execution_count": 3,
   "metadata": {},
   "outputs": [],
   "source": [
    "df = pd.read_csv('tweets.csv', encoding= 'unicode_escape')"
   ]
  },
  {
   "cell_type": "code",
   "execution_count": 4,
   "metadata": {},
   "outputs": [
    {
     "data": {
      "text/html": [
       "<div>\n",
       "<style scoped>\n",
       "    .dataframe tbody tr th:only-of-type {\n",
       "        vertical-align: middle;\n",
       "    }\n",
       "\n",
       "    .dataframe tbody tr th {\n",
       "        vertical-align: top;\n",
       "    }\n",
       "\n",
       "    .dataframe thead th {\n",
       "        text-align: right;\n",
       "    }\n",
       "</style>\n",
       "<table border=\"1\" class=\"dataframe\">\n",
       "  <thead>\n",
       "    <tr style=\"text-align: right;\">\n",
       "      <th></th>\n",
       "      <th>tweet_text</th>\n",
       "      <th>emotion_in_tweet_is_directed_at</th>\n",
       "      <th>is_there_an_emotion_directed_at_a_brand_or_product</th>\n",
       "    </tr>\n",
       "  </thead>\n",
       "  <tbody>\n",
       "    <tr>\n",
       "      <th>0</th>\n",
       "      <td>.@wesley83 I have a 3G iPhone. After 3 hrs twe...</td>\n",
       "      <td>iPhone</td>\n",
       "      <td>Negative emotion</td>\n",
       "    </tr>\n",
       "    <tr>\n",
       "      <th>1</th>\n",
       "      <td>@jessedee Know about @fludapp ? Awesome iPad/i...</td>\n",
       "      <td>iPad or iPhone App</td>\n",
       "      <td>Positive emotion</td>\n",
       "    </tr>\n",
       "    <tr>\n",
       "      <th>2</th>\n",
       "      <td>@swonderlin Can not wait for #iPad 2 also. The...</td>\n",
       "      <td>iPad</td>\n",
       "      <td>Positive emotion</td>\n",
       "    </tr>\n",
       "    <tr>\n",
       "      <th>3</th>\n",
       "      <td>@sxsw I hope this year's festival isn't as cra...</td>\n",
       "      <td>iPad or iPhone App</td>\n",
       "      <td>Negative emotion</td>\n",
       "    </tr>\n",
       "    <tr>\n",
       "      <th>4</th>\n",
       "      <td>@sxtxstate great stuff on Fri #SXSW: Marissa M...</td>\n",
       "      <td>Google</td>\n",
       "      <td>Positive emotion</td>\n",
       "    </tr>\n",
       "  </tbody>\n",
       "</table>\n",
       "</div>"
      ],
      "text/plain": [
       "                                          tweet_text  \\\n",
       "0  .@wesley83 I have a 3G iPhone. After 3 hrs twe...   \n",
       "1  @jessedee Know about @fludapp ? Awesome iPad/i...   \n",
       "2  @swonderlin Can not wait for #iPad 2 also. The...   \n",
       "3  @sxsw I hope this year's festival isn't as cra...   \n",
       "4  @sxtxstate great stuff on Fri #SXSW: Marissa M...   \n",
       "\n",
       "  emotion_in_tweet_is_directed_at  \\\n",
       "0                          iPhone   \n",
       "1              iPad or iPhone App   \n",
       "2                            iPad   \n",
       "3              iPad or iPhone App   \n",
       "4                          Google   \n",
       "\n",
       "  is_there_an_emotion_directed_at_a_brand_or_product  \n",
       "0                                   Negative emotion  \n",
       "1                                   Positive emotion  \n",
       "2                                   Positive emotion  \n",
       "3                                   Negative emotion  \n",
       "4                                   Positive emotion  "
      ]
     },
     "execution_count": 4,
     "metadata": {},
     "output_type": "execute_result"
    }
   ],
   "source": [
    "df.head(5)"
   ]
  },
  {
   "cell_type": "code",
   "execution_count": 5,
   "metadata": {},
   "outputs": [
    {
     "data": {
      "text/plain": [
       "Index(['tweet_text', 'emotion_in_tweet_is_directed_at',\n",
       "       'is_there_an_emotion_directed_at_a_brand_or_product'],\n",
       "      dtype='object')"
      ]
     },
     "execution_count": 5,
     "metadata": {},
     "output_type": "execute_result"
    }
   ],
   "source": [
    "df.columns"
   ]
  },
  {
   "cell_type": "code",
   "execution_count": 6,
   "metadata": {},
   "outputs": [
    {
     "data": {
      "text/plain": [
       "tweet_text                                               1\n",
       "emotion_in_tweet_is_directed_at                       5802\n",
       "is_there_an_emotion_directed_at_a_brand_or_product       0\n",
       "dtype: int64"
      ]
     },
     "execution_count": 6,
     "metadata": {},
     "output_type": "execute_result"
    }
   ],
   "source": [
    "df.isnull().sum()"
   ]
  },
  {
   "cell_type": "code",
   "execution_count": 7,
   "metadata": {},
   "outputs": [],
   "source": [
    "#Drop null values\n",
    "df.dropna(inplace=True)"
   ]
  },
  {
   "cell_type": "code",
   "execution_count": 8,
   "metadata": {},
   "outputs": [
    {
     "data": {
      "text/plain": [
       "tweet_text                                            0\n",
       "emotion_in_tweet_is_directed_at                       0\n",
       "is_there_an_emotion_directed_at_a_brand_or_product    0\n",
       "dtype: int64"
      ]
     },
     "execution_count": 8,
     "metadata": {},
     "output_type": "execute_result"
    }
   ],
   "source": [
    "#Now All Fine :)\n",
    "df.isnull().sum()"
   ]
  },
  {
   "cell_type": "code",
   "execution_count": null,
   "metadata": {},
   "outputs": [],
   "source": []
  },
  {
   "cell_type": "code",
   "execution_count": 9,
   "metadata": {},
   "outputs": [],
   "source": [
    "#Preprocess data\n",
    "#convert all text to lowercase - use .lower()\n",
    "#select only numbers, alphabets, and #+_ from text - use re.sub()\n",
    "#strip all the text - use .strip()\n",
    "#this is for removing extra spaces"
   ]
  },
  {
   "cell_type": "code",
   "execution_count": 10,
   "metadata": {},
   "outputs": [],
   "source": [
    "df = df.applymap(lambda s: s.lower())\n",
    "df = df.applymap(lambda s: re.sub('[^0-9a-z #+_]','',s))\n",
    "df = df.applymap(lambda s: s.strip())"
   ]
  },
  {
   "cell_type": "code",
   "execution_count": 11,
   "metadata": {},
   "outputs": [
    {
     "data": {
      "text/html": [
       "<div>\n",
       "<style scoped>\n",
       "    .dataframe tbody tr th:only-of-type {\n",
       "        vertical-align: middle;\n",
       "    }\n",
       "\n",
       "    .dataframe tbody tr th {\n",
       "        vertical-align: top;\n",
       "    }\n",
       "\n",
       "    .dataframe thead th {\n",
       "        text-align: right;\n",
       "    }\n",
       "</style>\n",
       "<table border=\"1\" class=\"dataframe\">\n",
       "  <thead>\n",
       "    <tr style=\"text-align: right;\">\n",
       "      <th></th>\n",
       "      <th>tweet_text</th>\n",
       "      <th>emotion_in_tweet_is_directed_at</th>\n",
       "      <th>is_there_an_emotion_directed_at_a_brand_or_product</th>\n",
       "    </tr>\n",
       "  </thead>\n",
       "  <tbody>\n",
       "    <tr>\n",
       "      <th>0</th>\n",
       "      <td>wesley83 i have a 3g iphone after 3 hrs tweeti...</td>\n",
       "      <td>iphone</td>\n",
       "      <td>negative emotion</td>\n",
       "    </tr>\n",
       "    <tr>\n",
       "      <th>1</th>\n",
       "      <td>jessedee know about fludapp  awesome ipadiphon...</td>\n",
       "      <td>ipad or iphone app</td>\n",
       "      <td>positive emotion</td>\n",
       "    </tr>\n",
       "    <tr>\n",
       "      <th>2</th>\n",
       "      <td>swonderlin can not wait for #ipad 2 also they ...</td>\n",
       "      <td>ipad</td>\n",
       "      <td>positive emotion</td>\n",
       "    </tr>\n",
       "    <tr>\n",
       "      <th>3</th>\n",
       "      <td>sxsw i hope this years festival isnt as crashy...</td>\n",
       "      <td>ipad or iphone app</td>\n",
       "      <td>negative emotion</td>\n",
       "    </tr>\n",
       "    <tr>\n",
       "      <th>4</th>\n",
       "      <td>sxtxstate great stuff on fri #sxsw marissa may...</td>\n",
       "      <td>google</td>\n",
       "      <td>positive emotion</td>\n",
       "    </tr>\n",
       "  </tbody>\n",
       "</table>\n",
       "</div>"
      ],
      "text/plain": [
       "                                          tweet_text  \\\n",
       "0  wesley83 i have a 3g iphone after 3 hrs tweeti...   \n",
       "1  jessedee know about fludapp  awesome ipadiphon...   \n",
       "2  swonderlin can not wait for #ipad 2 also they ...   \n",
       "3  sxsw i hope this years festival isnt as crashy...   \n",
       "4  sxtxstate great stuff on fri #sxsw marissa may...   \n",
       "\n",
       "  emotion_in_tweet_is_directed_at  \\\n",
       "0                          iphone   \n",
       "1              ipad or iphone app   \n",
       "2                            ipad   \n",
       "3              ipad or iphone app   \n",
       "4                          google   \n",
       "\n",
       "  is_there_an_emotion_directed_at_a_brand_or_product  \n",
       "0                                   negative emotion  \n",
       "1                                   positive emotion  \n",
       "2                                   positive emotion  \n",
       "3                                   negative emotion  \n",
       "4                                   positive emotion  "
      ]
     },
     "execution_count": 11,
     "metadata": {},
     "output_type": "execute_result"
    }
   ],
   "source": [
    "df.head()"
   ]
  },
  {
   "cell_type": "code",
   "execution_count": 12,
   "metadata": {},
   "outputs": [
    {
     "data": {
      "text/plain": [
       "Index(['tweet_text', 'emotion_in_tweet_is_directed_at',\n",
       "       'is_there_an_emotion_directed_at_a_brand_or_product'],\n",
       "      dtype='object')"
      ]
     },
     "execution_count": 12,
     "metadata": {},
     "output_type": "execute_result"
    }
   ],
   "source": [
    "df.columns"
   ]
  },
  {
   "cell_type": "code",
   "execution_count": 13,
   "metadata": {},
   "outputs": [
    {
     "data": {
      "text/plain": [
       "positive emotion                      2672\n",
       "negative emotion                       519\n",
       "no emotion toward brand or product      91\n",
       "i cant tell                              9\n",
       "Name: is_there_an_emotion_directed_at_a_brand_or_product, dtype: int64"
      ]
     },
     "execution_count": 13,
     "metadata": {},
     "output_type": "execute_result"
    }
   ],
   "source": [
    "#This \n",
    "df[df.columns[2]].value_counts()"
   ]
  },
  {
   "cell_type": "code",
   "execution_count": 14,
   "metadata": {},
   "outputs": [],
   "source": [
    "df = df[(df[df.columns[2]]=='negative emotion') | (df[df.columns[2]]=='positive emotion')]\n"
   ]
  },
  {
   "cell_type": "code",
   "execution_count": 15,
   "metadata": {},
   "outputs": [
    {
     "data": {
      "text/html": [
       "<div>\n",
       "<style scoped>\n",
       "    .dataframe tbody tr th:only-of-type {\n",
       "        vertical-align: middle;\n",
       "    }\n",
       "\n",
       "    .dataframe tbody tr th {\n",
       "        vertical-align: top;\n",
       "    }\n",
       "\n",
       "    .dataframe thead th {\n",
       "        text-align: right;\n",
       "    }\n",
       "</style>\n",
       "<table border=\"1\" class=\"dataframe\">\n",
       "  <thead>\n",
       "    <tr style=\"text-align: right;\">\n",
       "      <th></th>\n",
       "      <th>tweet_text</th>\n",
       "      <th>emotion_in_tweet_is_directed_at</th>\n",
       "      <th>is_there_an_emotion_directed_at_a_brand_or_product</th>\n",
       "    </tr>\n",
       "  </thead>\n",
       "  <tbody>\n",
       "    <tr>\n",
       "      <th>0</th>\n",
       "      <td>wesley83 i have a 3g iphone after 3 hrs tweeti...</td>\n",
       "      <td>iphone</td>\n",
       "      <td>negative emotion</td>\n",
       "    </tr>\n",
       "    <tr>\n",
       "      <th>1</th>\n",
       "      <td>jessedee know about fludapp  awesome ipadiphon...</td>\n",
       "      <td>ipad or iphone app</td>\n",
       "      <td>positive emotion</td>\n",
       "    </tr>\n",
       "    <tr>\n",
       "      <th>2</th>\n",
       "      <td>swonderlin can not wait for #ipad 2 also they ...</td>\n",
       "      <td>ipad</td>\n",
       "      <td>positive emotion</td>\n",
       "    </tr>\n",
       "    <tr>\n",
       "      <th>3</th>\n",
       "      <td>sxsw i hope this years festival isnt as crashy...</td>\n",
       "      <td>ipad or iphone app</td>\n",
       "      <td>negative emotion</td>\n",
       "    </tr>\n",
       "    <tr>\n",
       "      <th>4</th>\n",
       "      <td>sxtxstate great stuff on fri #sxsw marissa may...</td>\n",
       "      <td>google</td>\n",
       "      <td>positive emotion</td>\n",
       "    </tr>\n",
       "    <tr>\n",
       "      <th>...</th>\n",
       "      <td>...</td>\n",
       "      <td>...</td>\n",
       "      <td>...</td>\n",
       "    </tr>\n",
       "    <tr>\n",
       "      <th>9077</th>\n",
       "      <td>mention your pr guy just convinced me to switc...</td>\n",
       "      <td>iphone</td>\n",
       "      <td>positive emotion</td>\n",
       "    </tr>\n",
       "    <tr>\n",
       "      <th>9079</th>\n",
       "      <td>quotpapyrussort of like the ipadquot  nice lol...</td>\n",
       "      <td>ipad</td>\n",
       "      <td>positive emotion</td>\n",
       "    </tr>\n",
       "    <tr>\n",
       "      <th>9080</th>\n",
       "      <td>diller says google tv quotmight be run over by...</td>\n",
       "      <td>other google product or service</td>\n",
       "      <td>negative emotion</td>\n",
       "    </tr>\n",
       "    <tr>\n",
       "      <th>9085</th>\n",
       "      <td>ive always used camera+ for my iphone bc it ha...</td>\n",
       "      <td>ipad or iphone app</td>\n",
       "      <td>positive emotion</td>\n",
       "    </tr>\n",
       "    <tr>\n",
       "      <th>9088</th>\n",
       "      <td>ipad everywhere #sxsw link</td>\n",
       "      <td>ipad</td>\n",
       "      <td>positive emotion</td>\n",
       "    </tr>\n",
       "  </tbody>\n",
       "</table>\n",
       "<p>3191 rows × 3 columns</p>\n",
       "</div>"
      ],
      "text/plain": [
       "                                             tweet_text  \\\n",
       "0     wesley83 i have a 3g iphone after 3 hrs tweeti...   \n",
       "1     jessedee know about fludapp  awesome ipadiphon...   \n",
       "2     swonderlin can not wait for #ipad 2 also they ...   \n",
       "3     sxsw i hope this years festival isnt as crashy...   \n",
       "4     sxtxstate great stuff on fri #sxsw marissa may...   \n",
       "...                                                 ...   \n",
       "9077  mention your pr guy just convinced me to switc...   \n",
       "9079  quotpapyrussort of like the ipadquot  nice lol...   \n",
       "9080  diller says google tv quotmight be run over by...   \n",
       "9085  ive always used camera+ for my iphone bc it ha...   \n",
       "9088                         ipad everywhere #sxsw link   \n",
       "\n",
       "      emotion_in_tweet_is_directed_at  \\\n",
       "0                              iphone   \n",
       "1                  ipad or iphone app   \n",
       "2                                ipad   \n",
       "3                  ipad or iphone app   \n",
       "4                              google   \n",
       "...                               ...   \n",
       "9077                           iphone   \n",
       "9079                             ipad   \n",
       "9080  other google product or service   \n",
       "9085               ipad or iphone app   \n",
       "9088                             ipad   \n",
       "\n",
       "     is_there_an_emotion_directed_at_a_brand_or_product  \n",
       "0                                      negative emotion  \n",
       "1                                      positive emotion  \n",
       "2                                      positive emotion  \n",
       "3                                      negative emotion  \n",
       "4                                      positive emotion  \n",
       "...                                                 ...  \n",
       "9077                                   positive emotion  \n",
       "9079                                   positive emotion  \n",
       "9080                                   negative emotion  \n",
       "9085                                   positive emotion  \n",
       "9088                                   positive emotion  \n",
       "\n",
       "[3191 rows x 3 columns]"
      ]
     },
     "execution_count": 15,
     "metadata": {},
     "output_type": "execute_result"
    }
   ],
   "source": [
    "df"
   ]
  },
  {
   "cell_type": "code",
   "execution_count": 16,
   "metadata": {},
   "outputs": [],
   "source": [
    "del(df[df.columns[1]])"
   ]
  },
  {
   "cell_type": "code",
   "execution_count": 17,
   "metadata": {},
   "outputs": [],
   "source": [
    "#Encode labels\n",
    "#in column \"is_there_an_emotion_directed_at_a_brand_or_product\"\n",
    "#change \"positive emotion\" to 1\n",
    "#change \"negative emotion\" to 0\n",
    "#use map function to replace values"
   ]
  },
  {
   "cell_type": "code",
   "execution_count": 18,
   "metadata": {},
   "outputs": [],
   "source": [
    "df[df.columns[1]] = df[df.columns[1]].apply(lambda x: 0 if(x == 'negative emotion') else 1)"
   ]
  },
  {
   "cell_type": "code",
   "execution_count": 19,
   "metadata": {},
   "outputs": [],
   "source": [
    "#Create train and test data\n",
    "#use train_test_split to get train and test set\n",
    "#set a random_state\n",
    "#test_size: 0.25"
   ]
  },
  {
   "cell_type": "code",
   "execution_count": 20,
   "metadata": {},
   "outputs": [],
   "source": [
    "x_train, x_test, y_train, y_test = train_test_split(df[df.columns[0]], df[df.columns[1]], random_state=42, test_size=0.25)"
   ]
  },
  {
   "cell_type": "code",
   "execution_count": 21,
   "metadata": {},
   "outputs": [
    {
     "data": {
      "text/plain": [
       "(2393,)"
      ]
     },
     "execution_count": 21,
     "metadata": {},
     "output_type": "execute_result"
    }
   ],
   "source": [
    "x_train.shape"
   ]
  },
  {
   "cell_type": "code",
   "execution_count": 22,
   "metadata": {},
   "outputs": [
    {
     "data": {
      "text/plain": [
       "(798,)"
      ]
     },
     "execution_count": 22,
     "metadata": {},
     "output_type": "execute_result"
    }
   ],
   "source": [
    "x_test.shape"
   ]
  },
  {
   "cell_type": "code",
   "execution_count": 23,
   "metadata": {},
   "outputs": [
    {
     "data": {
      "text/plain": [
       "(2393,)"
      ]
     },
     "execution_count": 23,
     "metadata": {},
     "output_type": "execute_result"
    }
   ],
   "source": [
    "y_train.shape"
   ]
  },
  {
   "cell_type": "code",
   "execution_count": 24,
   "metadata": {},
   "outputs": [
    {
     "data": {
      "text/plain": [
       "(798,)"
      ]
     },
     "execution_count": 24,
     "metadata": {},
     "output_type": "execute_result"
    }
   ],
   "source": [
    "y_test.shape"
   ]
  },
  {
   "cell_type": "code",
   "execution_count": 25,
   "metadata": {},
   "outputs": [],
   "source": [
    "#Vectorize data\n",
    "#create document-term matrix\n",
    "#use CountVectorizer()\n",
    "#ngram_range: (1, 2)\n",
    "#stop_words: 'english'\n",
    "#min_df: 2\n",
    "#do fit_transform on X_train\n",
    "#do transform on X_test"
   ]
  },
  {
   "cell_type": "code",
   "execution_count": 26,
   "metadata": {},
   "outputs": [],
   "source": [
    "cv = CountVectorizer(ngram_range=(1,2),min_df=2)"
   ]
  },
  {
   "cell_type": "code",
   "execution_count": 27,
   "metadata": {},
   "outputs": [],
   "source": [
    "x_train = cv.fit_transform(x_train)\n",
    "x_test = cv.transform(x_test)"
   ]
  },
  {
   "cell_type": "code",
   "execution_count": 147,
   "metadata": {},
   "outputs": [
    {
     "name": "stdout",
     "output_type": "stream",
     "text": [
      "LogisticRegression()\n",
      "___________________________________________________\n",
      "\n",
      "Confustion Matrix for y_test and y_pred :\t\n",
      "TN  FP\n",
      "FN  TP\n",
      "\n",
      "[[ 47  78]\n",
      " [ 17 656]]\n",
      "\n",
      "\n",
      "Accuray = (TP+TN)/(TP + TN + FP + FN)\n",
      "\n",
      "Precission = TP/(TP + FP)\n",
      "\n",
      "Recall = TP/(TP + FN)\n",
      "\n",
      "\n",
      "\n",
      "Train Accuracy  : 0.9895528625156708\n",
      "\n",
      "Test Accuracy   : 0.8809523809523809\n",
      "\n",
      "Precision Score : [0.734375   0.89373297]\n",
      "\n",
      "Recall Score    : [0.376      0.97473997]\n",
      "\n",
      "F1 Score        : [0.4973545  0.93248045]\n",
      "\n",
      "___________________________________________________\n",
      "\n",
      "Classification Report :\n",
      "\n",
      "              precision    recall  f1-score   support\n",
      "\n",
      "           0       0.73      0.38      0.50       125\n",
      "           1       0.89      0.97      0.93       673\n",
      "\n",
      "    accuracy                           0.88       798\n",
      "   macro avg       0.81      0.68      0.71       798\n",
      "weighted avg       0.87      0.88      0.86       798\n",
      "\n",
      "___________________________________________________\n"
     ]
    }
   ],
   "source": [
    "model = LogisticRegression()\n",
    "print(model)\n",
    "model.fit(x_train, y_train)   \n",
    "y_pred = model.predict(x_test)\n",
    "print(\"___________________________________________________\\n\")\n",
    "print(\"Confustion Matrix for y_test and y_pred :\\t\")\n",
    "print(\"TN  FP\")\n",
    "print(\"FN  TP\\n\")\n",
    "print(confusion_matrix(y_test, y_pred))\n",
    "#print(pd.crosstab(y_test, y_pred))\n",
    "print(\"\\n\")\n",
    "print(\"Accuray = (TP+TN)/(TP + TN + FP + FN)\\n\")\n",
    "print(\"Precission = TP/(TP + FP)\\n\")\n",
    "print(\"Recall = TP/(TP + FN)\\n\")\n",
    "print(\"\\n\")\n",
    "print(\"Train Accuracy  : {0}\\n\".format(accuracy_score(y_train, model.predict(x_train))))\n",
    "print(\"Test Accuracy   : {0}\\n\".format(accuracy_score(y_test, y_pred)))\n",
    "print(\"Precision Score : {0}\\n\".format(precision_score(y_test,y_pred, average=None)))\n",
    "print(\"Recall Score    : {0}\\n\".format(recall_score(y_test,y_pred, average=None)))\n",
    "print(\"F1 Score        : {0}\\n\".format(f1_score(y_test,y_pred, average=None)))\n",
    "print(\"___________________________________________________\\n\")\n",
    "print(\"Classification Report :\\n\")\n",
    "print(classification_report(y_test, y_pred))\n",
    "print(\"___________________________________________________\")        "
   ]
  },
  {
   "cell_type": "code",
   "execution_count": 148,
   "metadata": {},
   "outputs": [
    {
     "name": "stdout",
     "output_type": "stream",
     "text": [
      "GaussianNB()\n",
      "___________________________________________________\n",
      "\n",
      "Confustion Matrix for y_test and y_pred :\t\n",
      "TN  FP\n",
      "FN  TP\n",
      "\n",
      "[[ 45  80]\n",
      " [ 47 626]]\n",
      "\n",
      "\n",
      "Accuray = (TP+TN)/(TP + TN + FP + FN)\n",
      "\n",
      "Precission = TP/(TP + FP)\n",
      "\n",
      "Recall = TP/(TP + FN)\n",
      "\n",
      "\n",
      "\n",
      "Train Accuracy  : 0.980777267028834\n",
      "\n",
      "Test Accuracy   : 0.8408521303258145\n",
      "\n",
      "Precision Score : [0.48913043 0.88668555]\n",
      "\n",
      "Recall Score    : [0.36       0.93016345]\n",
      "\n",
      "F1 Score        : [0.41474654 0.90790428]\n",
      "\n",
      "___________________________________________________\n",
      "\n",
      "Classification Report :\n",
      "\n",
      "              precision    recall  f1-score   support\n",
      "\n",
      "           0       0.49      0.36      0.41       125\n",
      "           1       0.89      0.93      0.91       673\n",
      "\n",
      "    accuracy                           0.84       798\n",
      "   macro avg       0.69      0.65      0.66       798\n",
      "weighted avg       0.82      0.84      0.83       798\n",
      "\n",
      "___________________________________________________\n"
     ]
    }
   ],
   "source": [
    "model = GaussianNB()\n",
    "print(model)\n",
    "model.fit(x_train.toarray(), y_train)   \n",
    "y_pred = model.predict(x_test.toarray())\n",
    "print(\"___________________________________________________\\n\")\n",
    "print(\"Confustion Matrix for y_test and y_pred :\\t\")\n",
    "print(\"TN  FP\")\n",
    "print(\"FN  TP\\n\")\n",
    "print(confusion_matrix(y_test, y_pred))\n",
    "#print(pd.crosstab(y_test, y_pred))\n",
    "print(\"\\n\")\n",
    "print(\"Accuray = (TP+TN)/(TP + TN + FP + FN)\\n\")\n",
    "print(\"Precission = TP/(TP + FP)\\n\")\n",
    "print(\"Recall = TP/(TP + FN)\\n\")\n",
    "print(\"\\n\")\n",
    "print(\"Train Accuracy  : {0}\\n\".format(accuracy_score(y_train, model.predict(x_train.toarray()))))\n",
    "print(\"Test Accuracy   : {0}\\n\".format(accuracy_score(y_test, y_pred)))\n",
    "print(\"Precision Score : {0}\\n\".format(precision_score(y_test,y_pred, average=None)))\n",
    "print(\"Recall Score    : {0}\\n\".format(recall_score(y_test,y_pred, average=None)))\n",
    "print(\"F1 Score        : {0}\\n\".format(f1_score(y_test,y_pred, average=None)))\n",
    "print(\"___________________________________________________\\n\")\n",
    "print(\"Classification Report :\\n\")\n",
    "print(classification_report(y_test, y_pred))\n",
    "print(\"___________________________________________________\")        "
   ]
  },
  {
   "cell_type": "code",
   "execution_count": 149,
   "metadata": {},
   "outputs": [
    {
     "name": "stdout",
     "output_type": "stream",
     "text": [
      "<catboost.core.CatBoostClassifier object at 0x0000020D606E48D0>\n",
      "Learning rate set to 0.014953\n",
      "0:\tlearn: 0.6849837\ttotal: 23.6ms\tremaining: 23.6s\n",
      "1:\tlearn: 0.6769148\ttotal: 44.2ms\tremaining: 22s\n",
      "2:\tlearn: 0.6693556\ttotal: 64.3ms\tremaining: 21.4s\n",
      "3:\tlearn: 0.6619988\ttotal: 84.6ms\tremaining: 21.1s\n",
      "4:\tlearn: 0.6549073\ttotal: 105ms\tremaining: 20.8s\n",
      "5:\tlearn: 0.6469441\ttotal: 125ms\tremaining: 20.7s\n",
      "6:\tlearn: 0.6403417\ttotal: 145ms\tremaining: 20.6s\n",
      "7:\tlearn: 0.6338100\ttotal: 171ms\tremaining: 21.2s\n",
      "8:\tlearn: 0.6275409\ttotal: 192ms\tremaining: 21.2s\n",
      "9:\tlearn: 0.6214531\ttotal: 213ms\tremaining: 21.1s\n",
      "10:\tlearn: 0.6156750\ttotal: 234ms\tremaining: 21s\n",
      "11:\tlearn: 0.6096638\ttotal: 254ms\tremaining: 20.9s\n",
      "12:\tlearn: 0.6040603\ttotal: 275ms\tremaining: 20.9s\n",
      "13:\tlearn: 0.5985357\ttotal: 297ms\tremaining: 20.9s\n",
      "14:\tlearn: 0.5935181\ttotal: 317ms\tremaining: 20.8s\n",
      "15:\tlearn: 0.5882946\ttotal: 337ms\tremaining: 20.7s\n",
      "16:\tlearn: 0.5834265\ttotal: 358ms\tremaining: 20.7s\n",
      "17:\tlearn: 0.5786026\ttotal: 385ms\tremaining: 21s\n",
      "18:\tlearn: 0.5740973\ttotal: 407ms\tremaining: 21s\n",
      "19:\tlearn: 0.5697489\ttotal: 428ms\tremaining: 21s\n",
      "20:\tlearn: 0.5655680\ttotal: 448ms\tremaining: 20.9s\n",
      "21:\tlearn: 0.5604088\ttotal: 469ms\tremaining: 20.8s\n",
      "22:\tlearn: 0.5562849\ttotal: 489ms\tremaining: 20.8s\n",
      "23:\tlearn: 0.5516740\ttotal: 509ms\tremaining: 20.7s\n",
      "24:\tlearn: 0.5480542\ttotal: 530ms\tremaining: 20.7s\n",
      "25:\tlearn: 0.5445486\ttotal: 551ms\tremaining: 20.6s\n",
      "26:\tlearn: 0.5411838\ttotal: 578ms\tremaining: 20.8s\n",
      "27:\tlearn: 0.5371739\ttotal: 599ms\tremaining: 20.8s\n",
      "28:\tlearn: 0.5339756\ttotal: 619ms\tremaining: 20.7s\n",
      "29:\tlearn: 0.5297654\ttotal: 639ms\tremaining: 20.7s\n",
      "30:\tlearn: 0.5266710\ttotal: 660ms\tremaining: 20.6s\n",
      "31:\tlearn: 0.5235627\ttotal: 682ms\tremaining: 20.6s\n",
      "32:\tlearn: 0.5205516\ttotal: 703ms\tremaining: 20.6s\n",
      "33:\tlearn: 0.5171319\ttotal: 724ms\tremaining: 20.6s\n",
      "34:\tlearn: 0.5141001\ttotal: 744ms\tremaining: 20.5s\n",
      "35:\tlearn: 0.5114857\ttotal: 764ms\tremaining: 20.5s\n",
      "36:\tlearn: 0.5089952\ttotal: 791ms\tremaining: 20.6s\n",
      "37:\tlearn: 0.5066008\ttotal: 812ms\tremaining: 20.5s\n",
      "38:\tlearn: 0.5043059\ttotal: 832ms\tremaining: 20.5s\n",
      "39:\tlearn: 0.5018617\ttotal: 853ms\tremaining: 20.5s\n",
      "40:\tlearn: 0.4988640\ttotal: 875ms\tremaining: 20.5s\n",
      "41:\tlearn: 0.4958181\ttotal: 897ms\tremaining: 20.5s\n",
      "42:\tlearn: 0.4936941\ttotal: 917ms\tremaining: 20.4s\n",
      "43:\tlearn: 0.4912357\ttotal: 937ms\tremaining: 20.4s\n",
      "44:\tlearn: 0.4892504\ttotal: 957ms\tremaining: 20.3s\n",
      "45:\tlearn: 0.4872940\ttotal: 982ms\tremaining: 20.4s\n",
      "46:\tlearn: 0.4854944\ttotal: 1s\tremaining: 20.4s\n",
      "47:\tlearn: 0.4835520\ttotal: 1.02s\tremaining: 20.3s\n",
      "48:\tlearn: 0.4816908\ttotal: 1.04s\tremaining: 20.3s\n",
      "49:\tlearn: 0.4797890\ttotal: 1.06s\tremaining: 20.2s\n",
      "50:\tlearn: 0.4774268\ttotal: 1.08s\tremaining: 20.2s\n",
      "51:\tlearn: 0.4752853\ttotal: 1.11s\tremaining: 20.2s\n",
      "52:\tlearn: 0.4726665\ttotal: 1.13s\tremaining: 20.1s\n",
      "53:\tlearn: 0.4712842\ttotal: 1.15s\tremaining: 20.1s\n",
      "54:\tlearn: 0.4694701\ttotal: 1.17s\tremaining: 20.1s\n",
      "55:\tlearn: 0.4680335\ttotal: 1.2s\tremaining: 20.2s\n",
      "56:\tlearn: 0.4660619\ttotal: 1.22s\tremaining: 20.1s\n",
      "57:\tlearn: 0.4645489\ttotal: 1.24s\tremaining: 20.1s\n",
      "58:\tlearn: 0.4627766\ttotal: 1.26s\tremaining: 20s\n",
      "59:\tlearn: 0.4615655\ttotal: 1.28s\tremaining: 20s\n",
      "60:\tlearn: 0.4603623\ttotal: 1.3s\tremaining: 20s\n",
      "61:\tlearn: 0.4590353\ttotal: 1.32s\tremaining: 19.9s\n",
      "62:\tlearn: 0.4579614\ttotal: 1.34s\tremaining: 19.9s\n",
      "63:\tlearn: 0.4566482\ttotal: 1.36s\tremaining: 19.9s\n",
      "64:\tlearn: 0.4553164\ttotal: 1.38s\tremaining: 19.9s\n",
      "65:\tlearn: 0.4540660\ttotal: 1.4s\tremaining: 19.9s\n",
      "66:\tlearn: 0.4529634\ttotal: 1.42s\tremaining: 19.8s\n",
      "67:\tlearn: 0.4511295\ttotal: 1.45s\tremaining: 19.8s\n",
      "68:\tlearn: 0.4501389\ttotal: 1.47s\tremaining: 19.8s\n",
      "69:\tlearn: 0.4491384\ttotal: 1.49s\tremaining: 19.8s\n",
      "70:\tlearn: 0.4480011\ttotal: 1.51s\tremaining: 19.8s\n",
      "71:\tlearn: 0.4470234\ttotal: 1.54s\tremaining: 19.8s\n",
      "72:\tlearn: 0.4458986\ttotal: 1.56s\tremaining: 19.9s\n",
      "73:\tlearn: 0.4442423\ttotal: 1.6s\tremaining: 20s\n",
      "74:\tlearn: 0.4431306\ttotal: 1.62s\tremaining: 20s\n",
      "75:\tlearn: 0.4420736\ttotal: 1.65s\tremaining: 20s\n",
      "76:\tlearn: 0.4412279\ttotal: 1.67s\tremaining: 20.1s\n",
      "77:\tlearn: 0.4401916\ttotal: 1.7s\tremaining: 20.1s\n",
      "78:\tlearn: 0.4389167\ttotal: 1.72s\tremaining: 20.1s\n",
      "79:\tlearn: 0.4381254\ttotal: 1.75s\tremaining: 20.1s\n",
      "80:\tlearn: 0.4372338\ttotal: 1.77s\tremaining: 20.1s\n",
      "81:\tlearn: 0.4362560\ttotal: 1.79s\tremaining: 20.1s\n",
      "82:\tlearn: 0.4355192\ttotal: 1.81s\tremaining: 20.1s\n",
      "83:\tlearn: 0.4342680\ttotal: 1.83s\tremaining: 20s\n",
      "84:\tlearn: 0.4331094\ttotal: 1.86s\tremaining: 20s\n",
      "85:\tlearn: 0.4322728\ttotal: 1.88s\tremaining: 20s\n",
      "86:\tlearn: 0.4309767\ttotal: 1.91s\tremaining: 20.1s\n",
      "87:\tlearn: 0.4302559\ttotal: 1.94s\tremaining: 20.2s\n",
      "88:\tlearn: 0.4294539\ttotal: 1.98s\tremaining: 20.2s\n",
      "89:\tlearn: 0.4284077\ttotal: 2s\tremaining: 20.2s\n",
      "90:\tlearn: 0.4275474\ttotal: 2.03s\tremaining: 20.3s\n",
      "91:\tlearn: 0.4268711\ttotal: 2.05s\tremaining: 20.2s\n",
      "92:\tlearn: 0.4259937\ttotal: 2.07s\tremaining: 20.2s\n",
      "93:\tlearn: 0.4249766\ttotal: 2.09s\tremaining: 20.2s\n",
      "94:\tlearn: 0.4241377\ttotal: 2.11s\tremaining: 20.1s\n",
      "95:\tlearn: 0.4233679\ttotal: 2.13s\tremaining: 20.1s\n",
      "96:\tlearn: 0.4224675\ttotal: 2.16s\tremaining: 20.1s\n",
      "97:\tlearn: 0.4218385\ttotal: 2.18s\tremaining: 20.1s\n",
      "98:\tlearn: 0.4209119\ttotal: 2.2s\tremaining: 20s\n",
      "99:\tlearn: 0.4202320\ttotal: 2.23s\tremaining: 20s\n",
      "100:\tlearn: 0.4193743\ttotal: 2.25s\tremaining: 20s\n",
      "101:\tlearn: 0.4187044\ttotal: 2.28s\tremaining: 20.1s\n",
      "102:\tlearn: 0.4178988\ttotal: 2.3s\tremaining: 20.1s\n",
      "103:\tlearn: 0.4173636\ttotal: 2.33s\tremaining: 20.1s\n",
      "104:\tlearn: 0.4165821\ttotal: 2.36s\tremaining: 20.1s\n",
      "105:\tlearn: 0.4158153\ttotal: 2.38s\tremaining: 20.1s\n",
      "106:\tlearn: 0.4152318\ttotal: 2.4s\tremaining: 20s\n",
      "107:\tlearn: 0.4145372\ttotal: 2.42s\tremaining: 20s\n",
      "108:\tlearn: 0.4136766\ttotal: 2.44s\tremaining: 20s\n",
      "109:\tlearn: 0.4129882\ttotal: 2.46s\tremaining: 19.9s\n",
      "110:\tlearn: 0.4119297\ttotal: 2.48s\tremaining: 19.9s\n",
      "111:\tlearn: 0.4111502\ttotal: 2.5s\tremaining: 19.8s\n",
      "112:\tlearn: 0.4105792\ttotal: 2.52s\tremaining: 19.8s\n",
      "113:\tlearn: 0.4100580\ttotal: 2.55s\tremaining: 19.8s\n",
      "114:\tlearn: 0.4093456\ttotal: 2.57s\tremaining: 19.8s\n",
      "115:\tlearn: 0.4088225\ttotal: 2.6s\tremaining: 19.8s\n",
      "116:\tlearn: 0.4081411\ttotal: 2.62s\tremaining: 19.8s\n",
      "117:\tlearn: 0.4073998\ttotal: 2.64s\tremaining: 19.7s\n",
      "118:\tlearn: 0.4066993\ttotal: 2.66s\tremaining: 19.7s\n",
      "119:\tlearn: 0.4062328\ttotal: 2.68s\tremaining: 19.7s\n",
      "120:\tlearn: 0.4055672\ttotal: 2.7s\tremaining: 19.6s\n",
      "121:\tlearn: 0.4046874\ttotal: 2.72s\tremaining: 19.6s\n",
      "122:\tlearn: 0.4041109\ttotal: 2.75s\tremaining: 19.6s\n",
      "123:\tlearn: 0.4037417\ttotal: 2.77s\tremaining: 19.5s\n",
      "124:\tlearn: 0.4032218\ttotal: 2.79s\tremaining: 19.5s\n",
      "125:\tlearn: 0.4027565\ttotal: 2.81s\tremaining: 19.5s\n",
      "126:\tlearn: 0.4022190\ttotal: 2.83s\tremaining: 19.5s\n",
      "127:\tlearn: 0.4016516\ttotal: 2.85s\tremaining: 19.4s\n",
      "128:\tlearn: 0.4012218\ttotal: 2.87s\tremaining: 19.4s\n",
      "129:\tlearn: 0.4006814\ttotal: 2.89s\tremaining: 19.4s\n",
      "130:\tlearn: 0.4001667\ttotal: 2.92s\tremaining: 19.4s\n",
      "131:\tlearn: 0.3996178\ttotal: 2.94s\tremaining: 19.3s\n",
      "132:\tlearn: 0.3991586\ttotal: 2.96s\tremaining: 19.3s\n",
      "133:\tlearn: 0.3986974\ttotal: 2.98s\tremaining: 19.3s\n",
      "134:\tlearn: 0.3980846\ttotal: 3s\tremaining: 19.2s\n",
      "135:\tlearn: 0.3974538\ttotal: 3.02s\tremaining: 19.2s\n",
      "136:\tlearn: 0.3969999\ttotal: 3.04s\tremaining: 19.2s\n",
      "137:\tlearn: 0.3966705\ttotal: 3.06s\tremaining: 19.1s\n",
      "138:\tlearn: 0.3962194\ttotal: 3.08s\tremaining: 19.1s\n",
      "139:\tlearn: 0.3956601\ttotal: 3.11s\tremaining: 19.1s\n",
      "140:\tlearn: 0.3951994\ttotal: 3.13s\tremaining: 19.1s\n",
      "141:\tlearn: 0.3948789\ttotal: 3.15s\tremaining: 19s\n",
      "142:\tlearn: 0.3945251\ttotal: 3.17s\tremaining: 19s\n",
      "143:\tlearn: 0.3939632\ttotal: 3.19s\tremaining: 19s\n",
      "144:\tlearn: 0.3935592\ttotal: 3.21s\tremaining: 18.9s\n",
      "145:\tlearn: 0.3931796\ttotal: 3.23s\tremaining: 18.9s\n",
      "146:\tlearn: 0.3927014\ttotal: 3.25s\tremaining: 18.9s\n",
      "147:\tlearn: 0.3919442\ttotal: 3.27s\tremaining: 18.8s\n",
      "148:\tlearn: 0.3914973\ttotal: 3.3s\tremaining: 18.8s\n",
      "149:\tlearn: 0.3912259\ttotal: 3.32s\tremaining: 18.8s\n",
      "150:\tlearn: 0.3908454\ttotal: 3.34s\tremaining: 18.8s\n",
      "151:\tlearn: 0.3904258\ttotal: 3.36s\tremaining: 18.7s\n",
      "152:\tlearn: 0.3901822\ttotal: 3.38s\tremaining: 18.7s\n",
      "153:\tlearn: 0.3897272\ttotal: 3.4s\tremaining: 18.7s\n",
      "154:\tlearn: 0.3894239\ttotal: 3.42s\tremaining: 18.6s\n",
      "155:\tlearn: 0.3890210\ttotal: 3.44s\tremaining: 18.6s\n",
      "156:\tlearn: 0.3887284\ttotal: 3.46s\tremaining: 18.6s\n",
      "157:\tlearn: 0.3883591\ttotal: 3.48s\tremaining: 18.6s\n",
      "158:\tlearn: 0.3880323\ttotal: 3.5s\tremaining: 18.5s\n",
      "159:\tlearn: 0.3876411\ttotal: 3.53s\tremaining: 18.5s\n",
      "160:\tlearn: 0.3872394\ttotal: 3.55s\tremaining: 18.5s\n",
      "161:\tlearn: 0.3868813\ttotal: 3.57s\tremaining: 18.4s\n",
      "162:\tlearn: 0.3865547\ttotal: 3.59s\tremaining: 18.4s\n",
      "163:\tlearn: 0.3860417\ttotal: 3.61s\tremaining: 18.4s\n",
      "164:\tlearn: 0.3855348\ttotal: 3.63s\tremaining: 18.4s\n",
      "165:\tlearn: 0.3851515\ttotal: 3.65s\tremaining: 18.3s\n"
     ]
    },
    {
     "name": "stdout",
     "output_type": "stream",
     "text": [
      "166:\tlearn: 0.3847848\ttotal: 3.67s\tremaining: 18.3s\n",
      "167:\tlearn: 0.3845503\ttotal: 3.69s\tremaining: 18.3s\n",
      "168:\tlearn: 0.3842287\ttotal: 3.71s\tremaining: 18.3s\n",
      "169:\tlearn: 0.3839061\ttotal: 3.73s\tremaining: 18.2s\n",
      "170:\tlearn: 0.3836106\ttotal: 3.75s\tremaining: 18.2s\n",
      "171:\tlearn: 0.3833098\ttotal: 3.77s\tremaining: 18.2s\n",
      "172:\tlearn: 0.3830281\ttotal: 3.79s\tremaining: 18.1s\n",
      "173:\tlearn: 0.3827954\ttotal: 3.81s\tremaining: 18.1s\n",
      "174:\tlearn: 0.3824718\ttotal: 3.83s\tremaining: 18.1s\n",
      "175:\tlearn: 0.3820972\ttotal: 3.85s\tremaining: 18s\n",
      "176:\tlearn: 0.3818531\ttotal: 3.88s\tremaining: 18s\n",
      "177:\tlearn: 0.3814277\ttotal: 3.9s\tremaining: 18s\n",
      "178:\tlearn: 0.3808719\ttotal: 3.92s\tremaining: 18s\n",
      "179:\tlearn: 0.3805162\ttotal: 3.94s\tremaining: 17.9s\n",
      "180:\tlearn: 0.3800296\ttotal: 3.96s\tremaining: 17.9s\n",
      "181:\tlearn: 0.3798362\ttotal: 3.98s\tremaining: 17.9s\n",
      "182:\tlearn: 0.3795685\ttotal: 4s\tremaining: 17.8s\n",
      "183:\tlearn: 0.3791440\ttotal: 4.02s\tremaining: 17.8s\n",
      "184:\tlearn: 0.3789082\ttotal: 4.04s\tremaining: 17.8s\n",
      "185:\tlearn: 0.3785820\ttotal: 4.06s\tremaining: 17.8s\n",
      "186:\tlearn: 0.3783171\ttotal: 4.08s\tremaining: 17.8s\n",
      "187:\tlearn: 0.3780146\ttotal: 4.1s\tremaining: 17.7s\n",
      "188:\tlearn: 0.3777031\ttotal: 4.13s\tremaining: 17.7s\n",
      "189:\tlearn: 0.3774793\ttotal: 4.15s\tremaining: 17.7s\n",
      "190:\tlearn: 0.3771764\ttotal: 4.17s\tremaining: 17.6s\n",
      "191:\tlearn: 0.3768492\ttotal: 4.19s\tremaining: 17.6s\n",
      "192:\tlearn: 0.3759881\ttotal: 4.21s\tremaining: 17.6s\n",
      "193:\tlearn: 0.3756624\ttotal: 4.24s\tremaining: 17.6s\n",
      "194:\tlearn: 0.3754385\ttotal: 4.25s\tremaining: 17.6s\n",
      "195:\tlearn: 0.3751886\ttotal: 4.27s\tremaining: 17.5s\n",
      "196:\tlearn: 0.3748461\ttotal: 4.3s\tremaining: 17.5s\n",
      "197:\tlearn: 0.3745359\ttotal: 4.32s\tremaining: 17.5s\n",
      "198:\tlearn: 0.3741862\ttotal: 4.34s\tremaining: 17.5s\n",
      "199:\tlearn: 0.3735304\ttotal: 4.36s\tremaining: 17.4s\n",
      "200:\tlearn: 0.3731900\ttotal: 4.38s\tremaining: 17.4s\n",
      "201:\tlearn: 0.3728191\ttotal: 4.4s\tremaining: 17.4s\n",
      "202:\tlearn: 0.3725584\ttotal: 4.42s\tremaining: 17.3s\n",
      "203:\tlearn: 0.3722308\ttotal: 4.44s\tremaining: 17.3s\n",
      "204:\tlearn: 0.3719269\ttotal: 4.46s\tremaining: 17.3s\n",
      "205:\tlearn: 0.3716870\ttotal: 4.48s\tremaining: 17.3s\n",
      "206:\tlearn: 0.3712832\ttotal: 4.5s\tremaining: 17.2s\n",
      "207:\tlearn: 0.3711006\ttotal: 4.52s\tremaining: 17.2s\n",
      "208:\tlearn: 0.3708633\ttotal: 4.54s\tremaining: 17.2s\n",
      "209:\tlearn: 0.3707009\ttotal: 4.56s\tremaining: 17.2s\n",
      "210:\tlearn: 0.3704329\ttotal: 4.58s\tremaining: 17.1s\n",
      "211:\tlearn: 0.3701813\ttotal: 4.61s\tremaining: 17.1s\n",
      "212:\tlearn: 0.3698578\ttotal: 4.64s\tremaining: 17.1s\n",
      "213:\tlearn: 0.3694729\ttotal: 4.67s\tremaining: 17.1s\n",
      "214:\tlearn: 0.3692261\ttotal: 4.68s\tremaining: 17.1s\n",
      "215:\tlearn: 0.3689917\ttotal: 4.71s\tremaining: 17.1s\n",
      "216:\tlearn: 0.3687512\ttotal: 4.72s\tremaining: 17s\n",
      "217:\tlearn: 0.3684835\ttotal: 4.75s\tremaining: 17s\n",
      "218:\tlearn: 0.3682588\ttotal: 4.76s\tremaining: 17s\n",
      "219:\tlearn: 0.3680686\ttotal: 4.79s\tremaining: 17s\n",
      "220:\tlearn: 0.3677976\ttotal: 4.81s\tremaining: 16.9s\n",
      "221:\tlearn: 0.3675511\ttotal: 4.83s\tremaining: 16.9s\n",
      "222:\tlearn: 0.3673136\ttotal: 4.85s\tremaining: 16.9s\n",
      "223:\tlearn: 0.3670694\ttotal: 4.87s\tremaining: 16.9s\n",
      "224:\tlearn: 0.3666794\ttotal: 4.89s\tremaining: 16.8s\n",
      "225:\tlearn: 0.3664120\ttotal: 4.91s\tremaining: 16.8s\n",
      "226:\tlearn: 0.3662364\ttotal: 4.93s\tremaining: 16.8s\n",
      "227:\tlearn: 0.3659991\ttotal: 4.95s\tremaining: 16.8s\n",
      "228:\tlearn: 0.3657364\ttotal: 4.97s\tremaining: 16.7s\n",
      "229:\tlearn: 0.3653984\ttotal: 5s\tremaining: 16.7s\n",
      "230:\tlearn: 0.3650966\ttotal: 5.02s\tremaining: 16.7s\n",
      "231:\tlearn: 0.3647783\ttotal: 5.04s\tremaining: 16.7s\n",
      "232:\tlearn: 0.3645671\ttotal: 5.06s\tremaining: 16.6s\n",
      "233:\tlearn: 0.3643061\ttotal: 5.08s\tremaining: 16.6s\n",
      "234:\tlearn: 0.3641152\ttotal: 5.1s\tremaining: 16.6s\n",
      "235:\tlearn: 0.3638884\ttotal: 5.12s\tremaining: 16.6s\n",
      "236:\tlearn: 0.3636251\ttotal: 5.14s\tremaining: 16.5s\n",
      "237:\tlearn: 0.3634126\ttotal: 5.16s\tremaining: 16.5s\n",
      "238:\tlearn: 0.3631261\ttotal: 5.18s\tremaining: 16.5s\n",
      "239:\tlearn: 0.3629389\ttotal: 5.21s\tremaining: 16.5s\n",
      "240:\tlearn: 0.3626771\ttotal: 5.24s\tremaining: 16.5s\n",
      "241:\tlearn: 0.3623935\ttotal: 5.26s\tremaining: 16.5s\n",
      "242:\tlearn: 0.3621554\ttotal: 5.28s\tremaining: 16.5s\n",
      "243:\tlearn: 0.3619620\ttotal: 5.3s\tremaining: 16.4s\n",
      "244:\tlearn: 0.3615809\ttotal: 5.32s\tremaining: 16.4s\n",
      "245:\tlearn: 0.3614052\ttotal: 5.35s\tremaining: 16.4s\n",
      "246:\tlearn: 0.3611538\ttotal: 5.37s\tremaining: 16.4s\n",
      "247:\tlearn: 0.3609478\ttotal: 5.4s\tremaining: 16.4s\n",
      "248:\tlearn: 0.3607587\ttotal: 5.42s\tremaining: 16.3s\n",
      "249:\tlearn: 0.3606059\ttotal: 5.44s\tremaining: 16.3s\n",
      "250:\tlearn: 0.3603730\ttotal: 5.46s\tremaining: 16.3s\n",
      "251:\tlearn: 0.3602240\ttotal: 5.49s\tremaining: 16.3s\n",
      "252:\tlearn: 0.3599484\ttotal: 5.5s\tremaining: 16.3s\n",
      "253:\tlearn: 0.3596566\ttotal: 5.53s\tremaining: 16.2s\n",
      "254:\tlearn: 0.3594670\ttotal: 5.55s\tremaining: 16.2s\n",
      "255:\tlearn: 0.3591357\ttotal: 5.57s\tremaining: 16.2s\n",
      "256:\tlearn: 0.3589565\ttotal: 5.59s\tremaining: 16.2s\n",
      "257:\tlearn: 0.3588405\ttotal: 5.62s\tremaining: 16.2s\n",
      "258:\tlearn: 0.3586075\ttotal: 5.64s\tremaining: 16.1s\n",
      "259:\tlearn: 0.3583835\ttotal: 5.66s\tremaining: 16.1s\n",
      "260:\tlearn: 0.3581547\ttotal: 5.68s\tremaining: 16.1s\n",
      "261:\tlearn: 0.3579689\ttotal: 5.7s\tremaining: 16.1s\n",
      "262:\tlearn: 0.3577266\ttotal: 5.72s\tremaining: 16s\n",
      "263:\tlearn: 0.3574445\ttotal: 5.74s\tremaining: 16s\n",
      "264:\tlearn: 0.3572393\ttotal: 5.77s\tremaining: 16s\n",
      "265:\tlearn: 0.3570050\ttotal: 5.79s\tremaining: 16s\n",
      "266:\tlearn: 0.3568470\ttotal: 5.81s\tremaining: 16s\n",
      "267:\tlearn: 0.3565825\ttotal: 5.84s\tremaining: 15.9s\n",
      "268:\tlearn: 0.3564076\ttotal: 5.86s\tremaining: 15.9s\n",
      "269:\tlearn: 0.3561764\ttotal: 5.88s\tremaining: 15.9s\n",
      "270:\tlearn: 0.3559991\ttotal: 5.9s\tremaining: 15.9s\n",
      "271:\tlearn: 0.3557591\ttotal: 5.93s\tremaining: 15.9s\n",
      "272:\tlearn: 0.3555602\ttotal: 5.95s\tremaining: 15.8s\n",
      "273:\tlearn: 0.3553171\ttotal: 5.97s\tremaining: 15.8s\n",
      "274:\tlearn: 0.3550904\ttotal: 5.99s\tremaining: 15.8s\n",
      "275:\tlearn: 0.3549423\ttotal: 6.01s\tremaining: 15.8s\n",
      "276:\tlearn: 0.3547698\ttotal: 6.04s\tremaining: 15.8s\n",
      "277:\tlearn: 0.3545659\ttotal: 6.06s\tremaining: 15.7s\n",
      "278:\tlearn: 0.3543509\ttotal: 6.08s\tremaining: 15.7s\n",
      "279:\tlearn: 0.3541367\ttotal: 6.11s\tremaining: 15.7s\n",
      "280:\tlearn: 0.3538461\ttotal: 6.13s\tremaining: 15.7s\n",
      "281:\tlearn: 0.3536244\ttotal: 6.15s\tremaining: 15.7s\n",
      "282:\tlearn: 0.3534248\ttotal: 6.17s\tremaining: 15.6s\n",
      "283:\tlearn: 0.3532125\ttotal: 6.19s\tremaining: 15.6s\n",
      "284:\tlearn: 0.3530037\ttotal: 6.21s\tremaining: 15.6s\n",
      "285:\tlearn: 0.3528199\ttotal: 6.24s\tremaining: 15.6s\n",
      "286:\tlearn: 0.3525577\ttotal: 6.26s\tremaining: 15.5s\n",
      "287:\tlearn: 0.3522489\ttotal: 6.28s\tremaining: 15.5s\n",
      "288:\tlearn: 0.3519613\ttotal: 6.31s\tremaining: 15.5s\n",
      "289:\tlearn: 0.3518294\ttotal: 6.34s\tremaining: 15.5s\n",
      "290:\tlearn: 0.3516073\ttotal: 6.37s\tremaining: 15.5s\n",
      "291:\tlearn: 0.3513298\ttotal: 6.4s\tremaining: 15.5s\n",
      "292:\tlearn: 0.3511690\ttotal: 6.42s\tremaining: 15.5s\n",
      "293:\tlearn: 0.3509880\ttotal: 6.45s\tremaining: 15.5s\n",
      "294:\tlearn: 0.3508062\ttotal: 6.47s\tremaining: 15.5s\n",
      "295:\tlearn: 0.3505868\ttotal: 6.5s\tremaining: 15.5s\n",
      "296:\tlearn: 0.3504835\ttotal: 6.52s\tremaining: 15.4s\n",
      "297:\tlearn: 0.3503300\ttotal: 6.54s\tremaining: 15.4s\n",
      "298:\tlearn: 0.3502031\ttotal: 6.56s\tremaining: 15.4s\n",
      "299:\tlearn: 0.3500196\ttotal: 6.58s\tremaining: 15.4s\n",
      "300:\tlearn: 0.3497201\ttotal: 6.61s\tremaining: 15.3s\n",
      "301:\tlearn: 0.3495756\ttotal: 6.63s\tremaining: 15.3s\n",
      "302:\tlearn: 0.3493726\ttotal: 6.64s\tremaining: 15.3s\n",
      "303:\tlearn: 0.3492256\ttotal: 6.67s\tremaining: 15.3s\n",
      "304:\tlearn: 0.3489692\ttotal: 6.69s\tremaining: 15.2s\n",
      "305:\tlearn: 0.3486523\ttotal: 6.71s\tremaining: 15.2s\n",
      "306:\tlearn: 0.3483771\ttotal: 6.73s\tremaining: 15.2s\n",
      "307:\tlearn: 0.3482060\ttotal: 6.75s\tremaining: 15.2s\n",
      "308:\tlearn: 0.3481037\ttotal: 6.77s\tremaining: 15.2s\n",
      "309:\tlearn: 0.3478446\ttotal: 6.8s\tremaining: 15.1s\n",
      "310:\tlearn: 0.3477103\ttotal: 6.82s\tremaining: 15.1s\n",
      "311:\tlearn: 0.3476247\ttotal: 6.84s\tremaining: 15.1s\n",
      "312:\tlearn: 0.3474652\ttotal: 6.87s\tremaining: 15.1s\n",
      "313:\tlearn: 0.3472855\ttotal: 6.89s\tremaining: 15.1s\n",
      "314:\tlearn: 0.3471269\ttotal: 6.91s\tremaining: 15s\n",
      "315:\tlearn: 0.3469900\ttotal: 6.93s\tremaining: 15s\n",
      "316:\tlearn: 0.3468144\ttotal: 6.95s\tremaining: 15s\n",
      "317:\tlearn: 0.3466874\ttotal: 6.97s\tremaining: 14.9s\n",
      "318:\tlearn: 0.3465214\ttotal: 6.99s\tremaining: 14.9s\n",
      "319:\tlearn: 0.3463847\ttotal: 7.01s\tremaining: 14.9s\n",
      "320:\tlearn: 0.3461875\ttotal: 7.03s\tremaining: 14.9s\n",
      "321:\tlearn: 0.3460215\ttotal: 7.06s\tremaining: 14.9s\n",
      "322:\tlearn: 0.3457959\ttotal: 7.08s\tremaining: 14.8s\n",
      "323:\tlearn: 0.3455548\ttotal: 7.1s\tremaining: 14.8s\n",
      "324:\tlearn: 0.3454543\ttotal: 7.12s\tremaining: 14.8s\n",
      "325:\tlearn: 0.3452954\ttotal: 7.14s\tremaining: 14.8s\n",
      "326:\tlearn: 0.3449291\ttotal: 7.16s\tremaining: 14.7s\n",
      "327:\tlearn: 0.3446841\ttotal: 7.18s\tremaining: 14.7s\n",
      "328:\tlearn: 0.3445324\ttotal: 7.2s\tremaining: 14.7s\n",
      "329:\tlearn: 0.3443958\ttotal: 7.22s\tremaining: 14.7s\n",
      "330:\tlearn: 0.3441766\ttotal: 7.24s\tremaining: 14.6s\n"
     ]
    },
    {
     "name": "stdout",
     "output_type": "stream",
     "text": [
      "331:\tlearn: 0.3439843\ttotal: 7.27s\tremaining: 14.6s\n",
      "332:\tlearn: 0.3438883\ttotal: 7.29s\tremaining: 14.6s\n",
      "333:\tlearn: 0.3437500\ttotal: 7.31s\tremaining: 14.6s\n",
      "334:\tlearn: 0.3435528\ttotal: 7.34s\tremaining: 14.6s\n",
      "335:\tlearn: 0.3431934\ttotal: 7.36s\tremaining: 14.5s\n",
      "336:\tlearn: 0.3430476\ttotal: 7.38s\tremaining: 14.5s\n",
      "337:\tlearn: 0.3427502\ttotal: 7.41s\tremaining: 14.5s\n",
      "338:\tlearn: 0.3423743\ttotal: 7.43s\tremaining: 14.5s\n",
      "339:\tlearn: 0.3422220\ttotal: 7.45s\tremaining: 14.5s\n",
      "340:\tlearn: 0.3421151\ttotal: 7.47s\tremaining: 14.4s\n",
      "341:\tlearn: 0.3419543\ttotal: 7.49s\tremaining: 14.4s\n",
      "342:\tlearn: 0.3417198\ttotal: 7.51s\tremaining: 14.4s\n",
      "343:\tlearn: 0.3415720\ttotal: 7.53s\tremaining: 14.4s\n",
      "344:\tlearn: 0.3414564\ttotal: 7.55s\tremaining: 14.3s\n",
      "345:\tlearn: 0.3413276\ttotal: 7.57s\tremaining: 14.3s\n",
      "346:\tlearn: 0.3412023\ttotal: 7.59s\tremaining: 14.3s\n",
      "347:\tlearn: 0.3408870\ttotal: 7.61s\tremaining: 14.3s\n",
      "348:\tlearn: 0.3407320\ttotal: 7.63s\tremaining: 14.2s\n",
      "349:\tlearn: 0.3404979\ttotal: 7.66s\tremaining: 14.2s\n",
      "350:\tlearn: 0.3402262\ttotal: 7.68s\tremaining: 14.2s\n",
      "351:\tlearn: 0.3400905\ttotal: 7.7s\tremaining: 14.2s\n",
      "352:\tlearn: 0.3398995\ttotal: 7.72s\tremaining: 14.1s\n",
      "353:\tlearn: 0.3396751\ttotal: 7.74s\tremaining: 14.1s\n",
      "354:\tlearn: 0.3394796\ttotal: 7.76s\tremaining: 14.1s\n",
      "355:\tlearn: 0.3392094\ttotal: 7.78s\tremaining: 14.1s\n",
      "356:\tlearn: 0.3390404\ttotal: 7.8s\tremaining: 14.1s\n",
      "357:\tlearn: 0.3388495\ttotal: 7.83s\tremaining: 14s\n",
      "358:\tlearn: 0.3386773\ttotal: 7.86s\tremaining: 14s\n",
      "359:\tlearn: 0.3385249\ttotal: 7.89s\tremaining: 14s\n",
      "360:\tlearn: 0.3383456\ttotal: 7.92s\tremaining: 14s\n",
      "361:\tlearn: 0.3381917\ttotal: 7.94s\tremaining: 14s\n",
      "362:\tlearn: 0.3380228\ttotal: 7.97s\tremaining: 14s\n",
      "363:\tlearn: 0.3378710\ttotal: 7.99s\tremaining: 14s\n",
      "364:\tlearn: 0.3376644\ttotal: 8.01s\tremaining: 13.9s\n",
      "365:\tlearn: 0.3373984\ttotal: 8.03s\tremaining: 13.9s\n",
      "366:\tlearn: 0.3370734\ttotal: 8.05s\tremaining: 13.9s\n",
      "367:\tlearn: 0.3369074\ttotal: 8.08s\tremaining: 13.9s\n",
      "368:\tlearn: 0.3365754\ttotal: 8.1s\tremaining: 13.8s\n",
      "369:\tlearn: 0.3363837\ttotal: 8.12s\tremaining: 13.8s\n",
      "370:\tlearn: 0.3360609\ttotal: 8.14s\tremaining: 13.8s\n",
      "371:\tlearn: 0.3358831\ttotal: 8.16s\tremaining: 13.8s\n",
      "372:\tlearn: 0.3357330\ttotal: 8.18s\tremaining: 13.8s\n",
      "373:\tlearn: 0.3355408\ttotal: 8.2s\tremaining: 13.7s\n",
      "374:\tlearn: 0.3354265\ttotal: 8.22s\tremaining: 13.7s\n",
      "375:\tlearn: 0.3352168\ttotal: 8.24s\tremaining: 13.7s\n",
      "376:\tlearn: 0.3349410\ttotal: 8.26s\tremaining: 13.7s\n",
      "377:\tlearn: 0.3347200\ttotal: 8.28s\tremaining: 13.6s\n",
      "378:\tlearn: 0.3345954\ttotal: 8.3s\tremaining: 13.6s\n",
      "379:\tlearn: 0.3343926\ttotal: 8.32s\tremaining: 13.6s\n",
      "380:\tlearn: 0.3342956\ttotal: 8.34s\tremaining: 13.6s\n",
      "381:\tlearn: 0.3342042\ttotal: 8.36s\tremaining: 13.5s\n",
      "382:\tlearn: 0.3340275\ttotal: 8.38s\tremaining: 13.5s\n",
      "383:\tlearn: 0.3338733\ttotal: 8.4s\tremaining: 13.5s\n",
      "384:\tlearn: 0.3337145\ttotal: 8.42s\tremaining: 13.5s\n",
      "385:\tlearn: 0.3334962\ttotal: 8.44s\tremaining: 13.4s\n",
      "386:\tlearn: 0.3332837\ttotal: 8.47s\tremaining: 13.4s\n",
      "387:\tlearn: 0.3331014\ttotal: 8.49s\tremaining: 13.4s\n",
      "388:\tlearn: 0.3328338\ttotal: 8.51s\tremaining: 13.4s\n",
      "389:\tlearn: 0.3326105\ttotal: 8.53s\tremaining: 13.3s\n",
      "390:\tlearn: 0.3324783\ttotal: 8.55s\tremaining: 13.3s\n",
      "391:\tlearn: 0.3323029\ttotal: 8.57s\tremaining: 13.3s\n",
      "392:\tlearn: 0.3321300\ttotal: 8.59s\tremaining: 13.3s\n",
      "393:\tlearn: 0.3319028\ttotal: 8.61s\tremaining: 13.2s\n",
      "394:\tlearn: 0.3318197\ttotal: 8.63s\tremaining: 13.2s\n",
      "395:\tlearn: 0.3316561\ttotal: 8.65s\tremaining: 13.2s\n",
      "396:\tlearn: 0.3314981\ttotal: 8.67s\tremaining: 13.2s\n",
      "397:\tlearn: 0.3313669\ttotal: 8.69s\tremaining: 13.1s\n",
      "398:\tlearn: 0.3312529\ttotal: 8.71s\tremaining: 13.1s\n",
      "399:\tlearn: 0.3310746\ttotal: 8.73s\tremaining: 13.1s\n",
      "400:\tlearn: 0.3309138\ttotal: 8.75s\tremaining: 13.1s\n",
      "401:\tlearn: 0.3308092\ttotal: 8.77s\tremaining: 13s\n",
      "402:\tlearn: 0.3306821\ttotal: 8.79s\tremaining: 13s\n",
      "403:\tlearn: 0.3304973\ttotal: 8.81s\tremaining: 13s\n",
      "404:\tlearn: 0.3303432\ttotal: 8.83s\tremaining: 13s\n",
      "405:\tlearn: 0.3301920\ttotal: 8.86s\tremaining: 13s\n",
      "406:\tlearn: 0.3299926\ttotal: 8.88s\tremaining: 12.9s\n",
      "407:\tlearn: 0.3297971\ttotal: 8.9s\tremaining: 12.9s\n",
      "408:\tlearn: 0.3296513\ttotal: 8.92s\tremaining: 12.9s\n",
      "409:\tlearn: 0.3294716\ttotal: 8.94s\tremaining: 12.9s\n",
      "410:\tlearn: 0.3292962\ttotal: 8.96s\tremaining: 12.8s\n",
      "411:\tlearn: 0.3291113\ttotal: 8.98s\tremaining: 12.8s\n",
      "412:\tlearn: 0.3289732\ttotal: 9s\tremaining: 12.8s\n",
      "413:\tlearn: 0.3288756\ttotal: 9.02s\tremaining: 12.8s\n",
      "414:\tlearn: 0.3287951\ttotal: 9.04s\tremaining: 12.7s\n",
      "415:\tlearn: 0.3286329\ttotal: 9.06s\tremaining: 12.7s\n",
      "416:\tlearn: 0.3284524\ttotal: 9.08s\tremaining: 12.7s\n",
      "417:\tlearn: 0.3283737\ttotal: 9.1s\tremaining: 12.7s\n",
      "418:\tlearn: 0.3282454\ttotal: 9.12s\tremaining: 12.6s\n",
      "419:\tlearn: 0.3279392\ttotal: 9.14s\tremaining: 12.6s\n",
      "420:\tlearn: 0.3276417\ttotal: 9.16s\tremaining: 12.6s\n",
      "421:\tlearn: 0.3274589\ttotal: 9.18s\tremaining: 12.6s\n",
      "422:\tlearn: 0.3273202\ttotal: 9.2s\tremaining: 12.6s\n",
      "423:\tlearn: 0.3270460\ttotal: 9.23s\tremaining: 12.5s\n",
      "424:\tlearn: 0.3269041\ttotal: 9.25s\tremaining: 12.5s\n",
      "425:\tlearn: 0.3267341\ttotal: 9.27s\tremaining: 12.5s\n",
      "426:\tlearn: 0.3265773\ttotal: 9.29s\tremaining: 12.5s\n",
      "427:\tlearn: 0.3264333\ttotal: 9.3s\tremaining: 12.4s\n",
      "428:\tlearn: 0.3263117\ttotal: 9.32s\tremaining: 12.4s\n",
      "429:\tlearn: 0.3262182\ttotal: 9.35s\tremaining: 12.4s\n",
      "430:\tlearn: 0.3260231\ttotal: 9.37s\tremaining: 12.4s\n",
      "431:\tlearn: 0.3258984\ttotal: 9.39s\tremaining: 12.3s\n",
      "432:\tlearn: 0.3256899\ttotal: 9.41s\tremaining: 12.3s\n",
      "433:\tlearn: 0.3254891\ttotal: 9.43s\tremaining: 12.3s\n",
      "434:\tlearn: 0.3253559\ttotal: 9.45s\tremaining: 12.3s\n",
      "435:\tlearn: 0.3252491\ttotal: 9.47s\tremaining: 12.3s\n",
      "436:\tlearn: 0.3251321\ttotal: 9.49s\tremaining: 12.2s\n",
      "437:\tlearn: 0.3249853\ttotal: 9.52s\tremaining: 12.2s\n",
      "438:\tlearn: 0.3248044\ttotal: 9.55s\tremaining: 12.2s\n",
      "439:\tlearn: 0.3246312\ttotal: 9.57s\tremaining: 12.2s\n",
      "440:\tlearn: 0.3243960\ttotal: 9.59s\tremaining: 12.2s\n",
      "441:\tlearn: 0.3242734\ttotal: 9.61s\tremaining: 12.1s\n",
      "442:\tlearn: 0.3241837\ttotal: 9.63s\tremaining: 12.1s\n",
      "443:\tlearn: 0.3240017\ttotal: 9.65s\tremaining: 12.1s\n",
      "444:\tlearn: 0.3238315\ttotal: 9.68s\tremaining: 12.1s\n",
      "445:\tlearn: 0.3236701\ttotal: 9.7s\tremaining: 12s\n",
      "446:\tlearn: 0.3235365\ttotal: 9.72s\tremaining: 12s\n",
      "447:\tlearn: 0.3233651\ttotal: 9.74s\tremaining: 12s\n",
      "448:\tlearn: 0.3232321\ttotal: 9.76s\tremaining: 12s\n",
      "449:\tlearn: 0.3230893\ttotal: 9.78s\tremaining: 11.9s\n",
      "450:\tlearn: 0.3229502\ttotal: 9.8s\tremaining: 11.9s\n",
      "451:\tlearn: 0.3226895\ttotal: 9.82s\tremaining: 11.9s\n",
      "452:\tlearn: 0.3225510\ttotal: 9.84s\tremaining: 11.9s\n",
      "453:\tlearn: 0.3224127\ttotal: 9.86s\tremaining: 11.9s\n",
      "454:\tlearn: 0.3222384\ttotal: 9.88s\tremaining: 11.8s\n",
      "455:\tlearn: 0.3220091\ttotal: 9.9s\tremaining: 11.8s\n",
      "456:\tlearn: 0.3218748\ttotal: 9.92s\tremaining: 11.8s\n",
      "457:\tlearn: 0.3217187\ttotal: 9.94s\tremaining: 11.8s\n",
      "458:\tlearn: 0.3215313\ttotal: 9.96s\tremaining: 11.7s\n",
      "459:\tlearn: 0.3214402\ttotal: 9.98s\tremaining: 11.7s\n",
      "460:\tlearn: 0.3212452\ttotal: 10s\tremaining: 11.7s\n",
      "461:\tlearn: 0.3210585\ttotal: 10s\tremaining: 11.7s\n",
      "462:\tlearn: 0.3209380\ttotal: 10s\tremaining: 11.6s\n",
      "463:\tlearn: 0.3208187\ttotal: 10.1s\tremaining: 11.6s\n",
      "464:\tlearn: 0.3206392\ttotal: 10.1s\tremaining: 11.6s\n",
      "465:\tlearn: 0.3203967\ttotal: 10.1s\tremaining: 11.6s\n",
      "466:\tlearn: 0.3202505\ttotal: 10.1s\tremaining: 11.6s\n",
      "467:\tlearn: 0.3200806\ttotal: 10.1s\tremaining: 11.5s\n",
      "468:\tlearn: 0.3199749\ttotal: 10.2s\tremaining: 11.5s\n",
      "469:\tlearn: 0.3197047\ttotal: 10.2s\tremaining: 11.5s\n",
      "470:\tlearn: 0.3195882\ttotal: 10.2s\tremaining: 11.5s\n",
      "471:\tlearn: 0.3194036\ttotal: 10.2s\tremaining: 11.5s\n",
      "472:\tlearn: 0.3190878\ttotal: 10.3s\tremaining: 11.4s\n",
      "473:\tlearn: 0.3189120\ttotal: 10.3s\tremaining: 11.4s\n",
      "474:\tlearn: 0.3187417\ttotal: 10.3s\tremaining: 11.4s\n",
      "475:\tlearn: 0.3185570\ttotal: 10.3s\tremaining: 11.4s\n",
      "476:\tlearn: 0.3184224\ttotal: 10.4s\tremaining: 11.3s\n",
      "477:\tlearn: 0.3182713\ttotal: 10.4s\tremaining: 11.3s\n",
      "478:\tlearn: 0.3181371\ttotal: 10.4s\tremaining: 11.3s\n",
      "479:\tlearn: 0.3180336\ttotal: 10.4s\tremaining: 11.3s\n",
      "480:\tlearn: 0.3178159\ttotal: 10.4s\tremaining: 11.3s\n",
      "481:\tlearn: 0.3177006\ttotal: 10.5s\tremaining: 11.2s\n",
      "482:\tlearn: 0.3174426\ttotal: 10.5s\tremaining: 11.2s\n",
      "483:\tlearn: 0.3172992\ttotal: 10.5s\tremaining: 11.2s\n",
      "484:\tlearn: 0.3171663\ttotal: 10.5s\tremaining: 11.2s\n",
      "485:\tlearn: 0.3169824\ttotal: 10.6s\tremaining: 11.2s\n",
      "486:\tlearn: 0.3166959\ttotal: 10.6s\tremaining: 11.1s\n",
      "487:\tlearn: 0.3165332\ttotal: 10.6s\tremaining: 11.1s\n",
      "488:\tlearn: 0.3163576\ttotal: 10.6s\tremaining: 11.1s\n",
      "489:\tlearn: 0.3162179\ttotal: 10.7s\tremaining: 11.1s\n",
      "490:\tlearn: 0.3160781\ttotal: 10.7s\tremaining: 11.1s\n",
      "491:\tlearn: 0.3159351\ttotal: 10.7s\tremaining: 11s\n",
      "492:\tlearn: 0.3156639\ttotal: 10.7s\tremaining: 11s\n",
      "493:\tlearn: 0.3155585\ttotal: 10.7s\tremaining: 11s\n",
      "494:\tlearn: 0.3154377\ttotal: 10.8s\tremaining: 11s\n",
      "495:\tlearn: 0.3153105\ttotal: 10.8s\tremaining: 11s\n"
     ]
    },
    {
     "name": "stdout",
     "output_type": "stream",
     "text": [
      "496:\tlearn: 0.3151278\ttotal: 10.8s\tremaining: 10.9s\n",
      "497:\tlearn: 0.3148949\ttotal: 10.8s\tremaining: 10.9s\n",
      "498:\tlearn: 0.3146846\ttotal: 10.8s\tremaining: 10.9s\n",
      "499:\tlearn: 0.3145441\ttotal: 10.9s\tremaining: 10.9s\n",
      "500:\tlearn: 0.3143921\ttotal: 10.9s\tremaining: 10.9s\n",
      "501:\tlearn: 0.3142163\ttotal: 10.9s\tremaining: 10.8s\n",
      "502:\tlearn: 0.3141048\ttotal: 11s\tremaining: 10.8s\n",
      "503:\tlearn: 0.3139998\ttotal: 11s\tremaining: 10.8s\n",
      "504:\tlearn: 0.3138185\ttotal: 11s\tremaining: 10.8s\n",
      "505:\tlearn: 0.3136873\ttotal: 11s\tremaining: 10.8s\n",
      "506:\tlearn: 0.3135357\ttotal: 11.1s\tremaining: 10.7s\n",
      "507:\tlearn: 0.3133738\ttotal: 11.1s\tremaining: 10.7s\n",
      "508:\tlearn: 0.3132043\ttotal: 11.1s\tremaining: 10.7s\n",
      "509:\tlearn: 0.3130131\ttotal: 11.1s\tremaining: 10.7s\n",
      "510:\tlearn: 0.3128734\ttotal: 11.1s\tremaining: 10.7s\n",
      "511:\tlearn: 0.3127126\ttotal: 11.2s\tremaining: 10.6s\n",
      "512:\tlearn: 0.3125897\ttotal: 11.2s\tremaining: 10.6s\n",
      "513:\tlearn: 0.3124299\ttotal: 11.2s\tremaining: 10.6s\n",
      "514:\tlearn: 0.3122987\ttotal: 11.2s\tremaining: 10.6s\n",
      "515:\tlearn: 0.3119831\ttotal: 11.2s\tremaining: 10.5s\n",
      "516:\tlearn: 0.3116521\ttotal: 11.3s\tremaining: 10.5s\n",
      "517:\tlearn: 0.3115084\ttotal: 11.3s\tremaining: 10.5s\n",
      "518:\tlearn: 0.3113928\ttotal: 11.3s\tremaining: 10.5s\n",
      "519:\tlearn: 0.3112144\ttotal: 11.3s\tremaining: 10.4s\n",
      "520:\tlearn: 0.3110408\ttotal: 11.3s\tremaining: 10.4s\n",
      "521:\tlearn: 0.3107693\ttotal: 11.4s\tremaining: 10.4s\n",
      "522:\tlearn: 0.3106626\ttotal: 11.4s\tremaining: 10.4s\n",
      "523:\tlearn: 0.3104995\ttotal: 11.4s\tremaining: 10.4s\n",
      "524:\tlearn: 0.3102020\ttotal: 11.4s\tremaining: 10.3s\n",
      "525:\tlearn: 0.3099971\ttotal: 11.4s\tremaining: 10.3s\n",
      "526:\tlearn: 0.3098537\ttotal: 11.5s\tremaining: 10.3s\n",
      "527:\tlearn: 0.3095851\ttotal: 11.5s\tremaining: 10.3s\n",
      "528:\tlearn: 0.3094854\ttotal: 11.5s\tremaining: 10.2s\n",
      "529:\tlearn: 0.3093123\ttotal: 11.5s\tremaining: 10.2s\n",
      "530:\tlearn: 0.3091579\ttotal: 11.5s\tremaining: 10.2s\n",
      "531:\tlearn: 0.3089396\ttotal: 11.6s\tremaining: 10.2s\n",
      "532:\tlearn: 0.3087452\ttotal: 11.6s\tremaining: 10.1s\n",
      "533:\tlearn: 0.3085784\ttotal: 11.6s\tremaining: 10.1s\n",
      "534:\tlearn: 0.3084604\ttotal: 11.6s\tremaining: 10.1s\n",
      "535:\tlearn: 0.3083311\ttotal: 11.6s\tremaining: 10.1s\n",
      "536:\tlearn: 0.3081262\ttotal: 11.7s\tremaining: 10.1s\n",
      "537:\tlearn: 0.3079505\ttotal: 11.7s\tremaining: 10s\n",
      "538:\tlearn: 0.3078083\ttotal: 11.7s\tremaining: 10s\n",
      "539:\tlearn: 0.3076825\ttotal: 11.8s\tremaining: 10s\n",
      "540:\tlearn: 0.3074779\ttotal: 11.8s\tremaining: 10s\n",
      "541:\tlearn: 0.3073096\ttotal: 11.8s\tremaining: 9.98s\n",
      "542:\tlearn: 0.3071797\ttotal: 11.8s\tremaining: 9.96s\n",
      "543:\tlearn: 0.3069218\ttotal: 11.9s\tremaining: 9.94s\n",
      "544:\tlearn: 0.3066652\ttotal: 11.9s\tremaining: 9.92s\n",
      "545:\tlearn: 0.3065618\ttotal: 11.9s\tremaining: 9.9s\n",
      "546:\tlearn: 0.3063667\ttotal: 11.9s\tremaining: 9.87s\n",
      "547:\tlearn: 0.3062434\ttotal: 11.9s\tremaining: 9.85s\n",
      "548:\tlearn: 0.3060799\ttotal: 12s\tremaining: 9.83s\n",
      "549:\tlearn: 0.3059480\ttotal: 12s\tremaining: 9.81s\n",
      "550:\tlearn: 0.3057844\ttotal: 12s\tremaining: 9.78s\n",
      "551:\tlearn: 0.3056052\ttotal: 12s\tremaining: 9.76s\n",
      "552:\tlearn: 0.3054857\ttotal: 12s\tremaining: 9.74s\n",
      "553:\tlearn: 0.3053460\ttotal: 12.1s\tremaining: 9.72s\n",
      "554:\tlearn: 0.3051686\ttotal: 12.1s\tremaining: 9.7s\n",
      "555:\tlearn: 0.3049326\ttotal: 12.1s\tremaining: 9.68s\n",
      "556:\tlearn: 0.3047424\ttotal: 12.1s\tremaining: 9.66s\n",
      "557:\tlearn: 0.3046136\ttotal: 12.2s\tremaining: 9.64s\n",
      "558:\tlearn: 0.3044811\ttotal: 12.2s\tremaining: 9.62s\n",
      "559:\tlearn: 0.3042573\ttotal: 12.2s\tremaining: 9.61s\n",
      "560:\tlearn: 0.3041227\ttotal: 12.2s\tremaining: 9.59s\n",
      "561:\tlearn: 0.3039748\ttotal: 12.3s\tremaining: 9.56s\n",
      "562:\tlearn: 0.3036902\ttotal: 12.3s\tremaining: 9.54s\n",
      "563:\tlearn: 0.3035582\ttotal: 12.3s\tremaining: 9.52s\n",
      "564:\tlearn: 0.3033478\ttotal: 12.3s\tremaining: 9.5s\n",
      "565:\tlearn: 0.3029710\ttotal: 12.4s\tremaining: 9.48s\n",
      "566:\tlearn: 0.3026706\ttotal: 12.4s\tremaining: 9.46s\n",
      "567:\tlearn: 0.3025223\ttotal: 12.4s\tremaining: 9.43s\n",
      "568:\tlearn: 0.3023845\ttotal: 12.4s\tremaining: 9.41s\n",
      "569:\tlearn: 0.3022360\ttotal: 12.4s\tremaining: 9.39s\n",
      "570:\tlearn: 0.3021024\ttotal: 12.5s\tremaining: 9.37s\n",
      "571:\tlearn: 0.3019716\ttotal: 12.5s\tremaining: 9.35s\n",
      "572:\tlearn: 0.3016613\ttotal: 12.5s\tremaining: 9.33s\n",
      "573:\tlearn: 0.3015336\ttotal: 12.5s\tremaining: 9.31s\n",
      "574:\tlearn: 0.3013938\ttotal: 12.6s\tremaining: 9.29s\n",
      "575:\tlearn: 0.3011477\ttotal: 12.6s\tremaining: 9.27s\n",
      "576:\tlearn: 0.3009748\ttotal: 12.6s\tremaining: 9.25s\n",
      "577:\tlearn: 0.3007257\ttotal: 12.6s\tremaining: 9.23s\n",
      "578:\tlearn: 0.3005640\ttotal: 12.7s\tremaining: 9.21s\n",
      "579:\tlearn: 0.3003049\ttotal: 12.7s\tremaining: 9.19s\n",
      "580:\tlearn: 0.3001228\ttotal: 12.7s\tremaining: 9.17s\n",
      "581:\tlearn: 0.2999306\ttotal: 12.7s\tremaining: 9.14s\n",
      "582:\tlearn: 0.2997956\ttotal: 12.8s\tremaining: 9.12s\n",
      "583:\tlearn: 0.2996641\ttotal: 12.8s\tremaining: 9.1s\n",
      "584:\tlearn: 0.2994330\ttotal: 12.8s\tremaining: 9.08s\n",
      "585:\tlearn: 0.2993244\ttotal: 12.8s\tremaining: 9.05s\n",
      "586:\tlearn: 0.2992063\ttotal: 12.8s\tremaining: 9.03s\n",
      "587:\tlearn: 0.2990819\ttotal: 12.9s\tremaining: 9.01s\n",
      "588:\tlearn: 0.2989517\ttotal: 12.9s\tremaining: 8.98s\n",
      "589:\tlearn: 0.2987727\ttotal: 12.9s\tremaining: 8.96s\n",
      "590:\tlearn: 0.2984815\ttotal: 12.9s\tremaining: 8.94s\n",
      "591:\tlearn: 0.2982580\ttotal: 12.9s\tremaining: 8.92s\n",
      "592:\tlearn: 0.2980956\ttotal: 13s\tremaining: 8.89s\n",
      "593:\tlearn: 0.2977840\ttotal: 13s\tremaining: 8.87s\n",
      "594:\tlearn: 0.2976556\ttotal: 13s\tremaining: 8.85s\n",
      "595:\tlearn: 0.2975395\ttotal: 13s\tremaining: 8.82s\n",
      "596:\tlearn: 0.2974248\ttotal: 13s\tremaining: 8.8s\n",
      "597:\tlearn: 0.2972785\ttotal: 13.1s\tremaining: 8.78s\n",
      "598:\tlearn: 0.2971550\ttotal: 13.1s\tremaining: 8.76s\n",
      "599:\tlearn: 0.2969595\ttotal: 13.1s\tremaining: 8.73s\n",
      "600:\tlearn: 0.2968413\ttotal: 13.1s\tremaining: 8.71s\n",
      "601:\tlearn: 0.2967041\ttotal: 13.1s\tremaining: 8.69s\n",
      "602:\tlearn: 0.2964353\ttotal: 13.2s\tremaining: 8.67s\n",
      "603:\tlearn: 0.2962382\ttotal: 13.2s\tremaining: 8.65s\n",
      "604:\tlearn: 0.2961245\ttotal: 13.2s\tremaining: 8.62s\n",
      "605:\tlearn: 0.2958952\ttotal: 13.2s\tremaining: 8.6s\n",
      "606:\tlearn: 0.2957575\ttotal: 13.3s\tremaining: 8.58s\n",
      "607:\tlearn: 0.2956298\ttotal: 13.3s\tremaining: 8.56s\n",
      "608:\tlearn: 0.2954920\ttotal: 13.3s\tremaining: 8.54s\n",
      "609:\tlearn: 0.2953776\ttotal: 13.3s\tremaining: 8.53s\n",
      "610:\tlearn: 0.2951091\ttotal: 13.4s\tremaining: 8.51s\n",
      "611:\tlearn: 0.2949738\ttotal: 13.4s\tremaining: 8.49s\n",
      "612:\tlearn: 0.2948598\ttotal: 13.4s\tremaining: 8.46s\n",
      "613:\tlearn: 0.2946915\ttotal: 13.4s\tremaining: 8.44s\n",
      "614:\tlearn: 0.2945782\ttotal: 13.4s\tremaining: 8.42s\n",
      "615:\tlearn: 0.2944511\ttotal: 13.5s\tremaining: 8.4s\n",
      "616:\tlearn: 0.2943290\ttotal: 13.5s\tremaining: 8.37s\n",
      "617:\tlearn: 0.2941885\ttotal: 13.5s\tremaining: 8.35s\n",
      "618:\tlearn: 0.2939292\ttotal: 13.5s\tremaining: 8.33s\n",
      "619:\tlearn: 0.2937773\ttotal: 13.6s\tremaining: 8.31s\n",
      "620:\tlearn: 0.2935225\ttotal: 13.6s\tremaining: 8.29s\n",
      "621:\tlearn: 0.2933103\ttotal: 13.6s\tremaining: 8.26s\n",
      "622:\tlearn: 0.2931833\ttotal: 13.6s\tremaining: 8.24s\n",
      "623:\tlearn: 0.2930453\ttotal: 13.6s\tremaining: 8.22s\n",
      "624:\tlearn: 0.2929115\ttotal: 13.7s\tremaining: 8.19s\n",
      "625:\tlearn: 0.2927257\ttotal: 13.7s\tremaining: 8.17s\n",
      "626:\tlearn: 0.2925787\ttotal: 13.7s\tremaining: 8.15s\n",
      "627:\tlearn: 0.2924388\ttotal: 13.7s\tremaining: 8.13s\n",
      "628:\tlearn: 0.2923182\ttotal: 13.7s\tremaining: 8.11s\n",
      "629:\tlearn: 0.2920701\ttotal: 13.8s\tremaining: 8.08s\n",
      "630:\tlearn: 0.2919569\ttotal: 13.8s\tremaining: 8.06s\n",
      "631:\tlearn: 0.2917500\ttotal: 13.8s\tremaining: 8.04s\n",
      "632:\tlearn: 0.2915890\ttotal: 13.8s\tremaining: 8.02s\n",
      "633:\tlearn: 0.2912968\ttotal: 13.8s\tremaining: 7.99s\n",
      "634:\tlearn: 0.2911711\ttotal: 13.9s\tremaining: 7.97s\n",
      "635:\tlearn: 0.2910490\ttotal: 13.9s\tremaining: 7.95s\n",
      "636:\tlearn: 0.2907851\ttotal: 13.9s\tremaining: 7.93s\n",
      "637:\tlearn: 0.2906710\ttotal: 13.9s\tremaining: 7.91s\n",
      "638:\tlearn: 0.2905446\ttotal: 14s\tremaining: 7.89s\n",
      "639:\tlearn: 0.2903974\ttotal: 14s\tremaining: 7.87s\n",
      "640:\tlearn: 0.2902780\ttotal: 14s\tremaining: 7.84s\n",
      "641:\tlearn: 0.2901542\ttotal: 14s\tremaining: 7.82s\n",
      "642:\tlearn: 0.2900244\ttotal: 14.1s\tremaining: 7.8s\n",
      "643:\tlearn: 0.2899042\ttotal: 14.1s\tremaining: 7.79s\n",
      "644:\tlearn: 0.2896175\ttotal: 14.1s\tremaining: 7.78s\n",
      "645:\tlearn: 0.2894980\ttotal: 14.2s\tremaining: 7.76s\n",
      "646:\tlearn: 0.2893288\ttotal: 14.2s\tremaining: 7.74s\n",
      "647:\tlearn: 0.2891861\ttotal: 14.2s\tremaining: 7.71s\n",
      "648:\tlearn: 0.2889523\ttotal: 14.2s\tremaining: 7.69s\n",
      "649:\tlearn: 0.2887411\ttotal: 14.2s\tremaining: 7.67s\n",
      "650:\tlearn: 0.2884948\ttotal: 14.3s\tremaining: 7.65s\n",
      "651:\tlearn: 0.2883400\ttotal: 14.3s\tremaining: 7.63s\n",
      "652:\tlearn: 0.2882247\ttotal: 14.3s\tremaining: 7.61s\n",
      "653:\tlearn: 0.2881119\ttotal: 14.3s\tremaining: 7.59s\n",
      "654:\tlearn: 0.2878447\ttotal: 14.4s\tremaining: 7.57s\n",
      "655:\tlearn: 0.2877218\ttotal: 14.4s\tremaining: 7.55s\n",
      "656:\tlearn: 0.2876172\ttotal: 14.4s\tremaining: 7.53s\n"
     ]
    },
    {
     "name": "stdout",
     "output_type": "stream",
     "text": [
      "657:\tlearn: 0.2873842\ttotal: 14.5s\tremaining: 7.52s\n",
      "658:\tlearn: 0.2872794\ttotal: 14.5s\tremaining: 7.5s\n",
      "659:\tlearn: 0.2871659\ttotal: 14.5s\tremaining: 7.48s\n",
      "660:\tlearn: 0.2870362\ttotal: 14.5s\tremaining: 7.46s\n",
      "661:\tlearn: 0.2869263\ttotal: 14.6s\tremaining: 7.44s\n",
      "662:\tlearn: 0.2868161\ttotal: 14.6s\tremaining: 7.42s\n",
      "663:\tlearn: 0.2866310\ttotal: 14.6s\tremaining: 7.39s\n",
      "664:\tlearn: 0.2863450\ttotal: 14.6s\tremaining: 7.37s\n",
      "665:\tlearn: 0.2862388\ttotal: 14.7s\tremaining: 7.35s\n",
      "666:\tlearn: 0.2860314\ttotal: 14.7s\tremaining: 7.33s\n",
      "667:\tlearn: 0.2859109\ttotal: 14.7s\tremaining: 7.31s\n",
      "668:\tlearn: 0.2855967\ttotal: 14.7s\tremaining: 7.29s\n",
      "669:\tlearn: 0.2854831\ttotal: 14.7s\tremaining: 7.26s\n",
      "670:\tlearn: 0.2851915\ttotal: 14.8s\tremaining: 7.24s\n",
      "671:\tlearn: 0.2850999\ttotal: 14.8s\tremaining: 7.22s\n",
      "672:\tlearn: 0.2848575\ttotal: 14.8s\tremaining: 7.2s\n",
      "673:\tlearn: 0.2847413\ttotal: 14.8s\tremaining: 7.17s\n",
      "674:\tlearn: 0.2846256\ttotal: 14.9s\tremaining: 7.15s\n",
      "675:\tlearn: 0.2845060\ttotal: 14.9s\tremaining: 7.13s\n",
      "676:\tlearn: 0.2844053\ttotal: 14.9s\tremaining: 7.11s\n",
      "677:\tlearn: 0.2841118\ttotal: 14.9s\tremaining: 7.08s\n",
      "678:\tlearn: 0.2839904\ttotal: 14.9s\tremaining: 7.06s\n",
      "679:\tlearn: 0.2838817\ttotal: 15s\tremaining: 7.04s\n",
      "680:\tlearn: 0.2836078\ttotal: 15s\tremaining: 7.02s\n",
      "681:\tlearn: 0.2835024\ttotal: 15s\tremaining: 6.99s\n",
      "682:\tlearn: 0.2833872\ttotal: 15s\tremaining: 6.97s\n",
      "683:\tlearn: 0.2832706\ttotal: 15s\tremaining: 6.95s\n",
      "684:\tlearn: 0.2831566\ttotal: 15.1s\tremaining: 6.93s\n",
      "685:\tlearn: 0.2830609\ttotal: 15.1s\tremaining: 6.91s\n",
      "686:\tlearn: 0.2829429\ttotal: 15.1s\tremaining: 6.88s\n",
      "687:\tlearn: 0.2828356\ttotal: 15.1s\tremaining: 6.86s\n",
      "688:\tlearn: 0.2826068\ttotal: 15.2s\tremaining: 6.84s\n",
      "689:\tlearn: 0.2824981\ttotal: 15.2s\tremaining: 6.82s\n",
      "690:\tlearn: 0.2822100\ttotal: 15.2s\tremaining: 6.79s\n",
      "691:\tlearn: 0.2820836\ttotal: 15.2s\tremaining: 6.77s\n",
      "692:\tlearn: 0.2819656\ttotal: 15.2s\tremaining: 6.75s\n",
      "693:\tlearn: 0.2818595\ttotal: 15.3s\tremaining: 6.73s\n",
      "694:\tlearn: 0.2816422\ttotal: 15.3s\tremaining: 6.71s\n",
      "695:\tlearn: 0.2814325\ttotal: 15.3s\tremaining: 6.68s\n",
      "696:\tlearn: 0.2812989\ttotal: 15.3s\tremaining: 6.66s\n",
      "697:\tlearn: 0.2810940\ttotal: 15.3s\tremaining: 6.64s\n",
      "698:\tlearn: 0.2809837\ttotal: 15.4s\tremaining: 6.62s\n",
      "699:\tlearn: 0.2808793\ttotal: 15.4s\tremaining: 6.59s\n",
      "700:\tlearn: 0.2807717\ttotal: 15.4s\tremaining: 6.57s\n",
      "701:\tlearn: 0.2805864\ttotal: 15.4s\tremaining: 6.55s\n",
      "702:\tlearn: 0.2804753\ttotal: 15.5s\tremaining: 6.53s\n",
      "703:\tlearn: 0.2803788\ttotal: 15.5s\tremaining: 6.51s\n",
      "704:\tlearn: 0.2802754\ttotal: 15.5s\tremaining: 6.48s\n",
      "705:\tlearn: 0.2801206\ttotal: 15.5s\tremaining: 6.46s\n",
      "706:\tlearn: 0.2800155\ttotal: 15.5s\tremaining: 6.44s\n",
      "707:\tlearn: 0.2797865\ttotal: 15.6s\tremaining: 6.42s\n",
      "708:\tlearn: 0.2796766\ttotal: 15.6s\tremaining: 6.39s\n",
      "709:\tlearn: 0.2794044\ttotal: 15.6s\tremaining: 6.37s\n",
      "710:\tlearn: 0.2792142\ttotal: 15.6s\tremaining: 6.35s\n",
      "711:\tlearn: 0.2790014\ttotal: 15.6s\tremaining: 6.33s\n",
      "712:\tlearn: 0.2788944\ttotal: 15.7s\tremaining: 6.31s\n",
      "713:\tlearn: 0.2787929\ttotal: 15.7s\tremaining: 6.29s\n",
      "714:\tlearn: 0.2786914\ttotal: 15.7s\tremaining: 6.27s\n",
      "715:\tlearn: 0.2785900\ttotal: 15.7s\tremaining: 6.25s\n",
      "716:\tlearn: 0.2783743\ttotal: 15.8s\tremaining: 6.22s\n",
      "717:\tlearn: 0.2782545\ttotal: 15.8s\tremaining: 6.2s\n",
      "718:\tlearn: 0.2780631\ttotal: 15.8s\tremaining: 6.18s\n",
      "719:\tlearn: 0.2779615\ttotal: 15.8s\tremaining: 6.16s\n",
      "720:\tlearn: 0.2777577\ttotal: 15.9s\tremaining: 6.14s\n",
      "721:\tlearn: 0.2775089\ttotal: 15.9s\tremaining: 6.11s\n",
      "722:\tlearn: 0.2774047\ttotal: 15.9s\tremaining: 6.09s\n",
      "723:\tlearn: 0.2773044\ttotal: 15.9s\tremaining: 6.07s\n",
      "724:\tlearn: 0.2772003\ttotal: 15.9s\tremaining: 6.05s\n",
      "725:\tlearn: 0.2769649\ttotal: 16s\tremaining: 6.02s\n",
      "726:\tlearn: 0.2768620\ttotal: 16s\tremaining: 6s\n",
      "727:\tlearn: 0.2767029\ttotal: 16s\tremaining: 5.98s\n",
      "728:\tlearn: 0.2764444\ttotal: 16s\tremaining: 5.96s\n",
      "729:\tlearn: 0.2763413\ttotal: 16.1s\tremaining: 5.94s\n",
      "730:\tlearn: 0.2762343\ttotal: 16.1s\tremaining: 5.91s\n",
      "731:\tlearn: 0.2760897\ttotal: 16.1s\tremaining: 5.89s\n",
      "732:\tlearn: 0.2759848\ttotal: 16.1s\tremaining: 5.87s\n",
      "733:\tlearn: 0.2757467\ttotal: 16.1s\tremaining: 5.84s\n",
      "734:\tlearn: 0.2756341\ttotal: 16.1s\tremaining: 5.82s\n",
      "735:\tlearn: 0.2754569\ttotal: 16.2s\tremaining: 5.8s\n",
      "736:\tlearn: 0.2753608\ttotal: 16.2s\tremaining: 5.78s\n",
      "737:\tlearn: 0.2751311\ttotal: 16.2s\tremaining: 5.76s\n",
      "738:\tlearn: 0.2749294\ttotal: 16.2s\tremaining: 5.73s\n",
      "739:\tlearn: 0.2748323\ttotal: 16.3s\tremaining: 5.71s\n",
      "740:\tlearn: 0.2746386\ttotal: 16.3s\tremaining: 5.69s\n",
      "741:\tlearn: 0.2745387\ttotal: 16.3s\tremaining: 5.67s\n",
      "742:\tlearn: 0.2744489\ttotal: 16.3s\tremaining: 5.64s\n",
      "743:\tlearn: 0.2743237\ttotal: 16.3s\tremaining: 5.62s\n",
      "744:\tlearn: 0.2742193\ttotal: 16.4s\tremaining: 5.6s\n",
      "745:\tlearn: 0.2741205\ttotal: 16.4s\tremaining: 5.58s\n",
      "746:\tlearn: 0.2739475\ttotal: 16.4s\tremaining: 5.55s\n",
      "747:\tlearn: 0.2738544\ttotal: 16.4s\tremaining: 5.53s\n",
      "748:\tlearn: 0.2738029\ttotal: 16.5s\tremaining: 5.52s\n",
      "749:\tlearn: 0.2737114\ttotal: 16.5s\tremaining: 5.51s\n",
      "750:\tlearn: 0.2736218\ttotal: 16.6s\tremaining: 5.49s\n",
      "751:\tlearn: 0.2735292\ttotal: 16.6s\tremaining: 5.47s\n",
      "752:\tlearn: 0.2733509\ttotal: 16.6s\tremaining: 5.45s\n",
      "753:\tlearn: 0.2732525\ttotal: 16.7s\tremaining: 5.43s\n",
      "754:\tlearn: 0.2731581\ttotal: 16.7s\tremaining: 5.42s\n",
      "755:\tlearn: 0.2730587\ttotal: 16.7s\tremaining: 5.4s\n",
      "756:\tlearn: 0.2729230\ttotal: 16.8s\tremaining: 5.38s\n",
      "757:\tlearn: 0.2727592\ttotal: 16.8s\tremaining: 5.36s\n",
      "758:\tlearn: 0.2726277\ttotal: 16.8s\tremaining: 5.34s\n",
      "759:\tlearn: 0.2723910\ttotal: 16.8s\tremaining: 5.32s\n",
      "760:\tlearn: 0.2721465\ttotal: 16.9s\tremaining: 5.3s\n",
      "761:\tlearn: 0.2719062\ttotal: 16.9s\tremaining: 5.28s\n",
      "762:\tlearn: 0.2717069\ttotal: 16.9s\tremaining: 5.25s\n",
      "763:\tlearn: 0.2716556\ttotal: 16.9s\tremaining: 5.23s\n",
      "764:\tlearn: 0.2715552\ttotal: 17s\tremaining: 5.21s\n",
      "765:\tlearn: 0.2712937\ttotal: 17s\tremaining: 5.19s\n",
      "766:\tlearn: 0.2711994\ttotal: 17s\tremaining: 5.17s\n",
      "767:\tlearn: 0.2709587\ttotal: 17s\tremaining: 5.15s\n",
      "768:\tlearn: 0.2708163\ttotal: 17.1s\tremaining: 5.12s\n",
      "769:\tlearn: 0.2706798\ttotal: 17.1s\tremaining: 5.1s\n",
      "770:\tlearn: 0.2705438\ttotal: 17.1s\tremaining: 5.08s\n",
      "771:\tlearn: 0.2704521\ttotal: 17.1s\tremaining: 5.06s\n",
      "772:\tlearn: 0.2704029\ttotal: 17.1s\tremaining: 5.04s\n",
      "773:\tlearn: 0.2703077\ttotal: 17.2s\tremaining: 5.01s\n",
      "774:\tlearn: 0.2702548\ttotal: 17.2s\tremaining: 4.99s\n",
      "775:\tlearn: 0.2702054\ttotal: 17.2s\tremaining: 4.97s\n",
      "776:\tlearn: 0.2699505\ttotal: 17.2s\tremaining: 4.95s\n",
      "777:\tlearn: 0.2698541\ttotal: 17.3s\tremaining: 4.93s\n",
      "778:\tlearn: 0.2698050\ttotal: 17.3s\tremaining: 4.9s\n",
      "779:\tlearn: 0.2697137\ttotal: 17.3s\tremaining: 4.88s\n",
      "780:\tlearn: 0.2696630\ttotal: 17.3s\tremaining: 4.86s\n",
      "781:\tlearn: 0.2696084\ttotal: 17.3s\tremaining: 4.84s\n",
      "782:\tlearn: 0.2693875\ttotal: 17.4s\tremaining: 4.81s\n",
      "783:\tlearn: 0.2692938\ttotal: 17.4s\tremaining: 4.79s\n",
      "784:\tlearn: 0.2691032\ttotal: 17.4s\tremaining: 4.77s\n",
      "785:\tlearn: 0.2688737\ttotal: 17.4s\tremaining: 4.75s\n",
      "786:\tlearn: 0.2687807\ttotal: 17.5s\tremaining: 4.72s\n",
      "787:\tlearn: 0.2686980\ttotal: 17.5s\tremaining: 4.7s\n",
      "788:\tlearn: 0.2686501\ttotal: 17.5s\tremaining: 4.68s\n",
      "789:\tlearn: 0.2685964\ttotal: 17.5s\tremaining: 4.66s\n",
      "790:\tlearn: 0.2685126\ttotal: 17.5s\tremaining: 4.64s\n",
      "791:\tlearn: 0.2683071\ttotal: 17.6s\tremaining: 4.61s\n",
      "792:\tlearn: 0.2682227\ttotal: 17.6s\tremaining: 4.59s\n",
      "793:\tlearn: 0.2681688\ttotal: 17.6s\tremaining: 4.57s\n",
      "794:\tlearn: 0.2681205\ttotal: 17.6s\tremaining: 4.55s\n",
      "795:\tlearn: 0.2680355\ttotal: 17.7s\tremaining: 4.53s\n",
      "796:\tlearn: 0.2679315\ttotal: 17.7s\tremaining: 4.5s\n",
      "797:\tlearn: 0.2678796\ttotal: 17.7s\tremaining: 4.48s\n",
      "798:\tlearn: 0.2677909\ttotal: 17.7s\tremaining: 4.46s\n",
      "799:\tlearn: 0.2677431\ttotal: 17.7s\tremaining: 4.44s\n",
      "800:\tlearn: 0.2676955\ttotal: 17.8s\tremaining: 4.41s\n",
      "801:\tlearn: 0.2676493\ttotal: 17.8s\tremaining: 4.39s\n",
      "802:\tlearn: 0.2675247\ttotal: 17.8s\tremaining: 4.37s\n",
      "803:\tlearn: 0.2674759\ttotal: 17.8s\tremaining: 4.35s\n",
      "804:\tlearn: 0.2674334\ttotal: 17.9s\tremaining: 4.32s\n",
      "805:\tlearn: 0.2671242\ttotal: 17.9s\tremaining: 4.3s\n",
      "806:\tlearn: 0.2668889\ttotal: 17.9s\tremaining: 4.28s\n",
      "807:\tlearn: 0.2667769\ttotal: 17.9s\tremaining: 4.26s\n",
      "808:\tlearn: 0.2666908\ttotal: 17.9s\tremaining: 4.23s\n",
      "809:\tlearn: 0.2665164\ttotal: 18s\tremaining: 4.21s\n",
      "810:\tlearn: 0.2664744\ttotal: 18s\tremaining: 4.19s\n",
      "811:\tlearn: 0.2663120\ttotal: 18s\tremaining: 4.17s\n",
      "812:\tlearn: 0.2662007\ttotal: 18s\tremaining: 4.14s\n",
      "813:\tlearn: 0.2658898\ttotal: 18s\tremaining: 4.12s\n",
      "814:\tlearn: 0.2658063\ttotal: 18.1s\tremaining: 4.1s\n",
      "815:\tlearn: 0.2657587\ttotal: 18.1s\tremaining: 4.08s\n",
      "816:\tlearn: 0.2657117\ttotal: 18.1s\tremaining: 4.05s\n",
      "817:\tlearn: 0.2654993\ttotal: 18.1s\tremaining: 4.03s\n",
      "818:\tlearn: 0.2654092\ttotal: 18.2s\tremaining: 4.01s\n"
     ]
    },
    {
     "name": "stdout",
     "output_type": "stream",
     "text": [
      "819:\tlearn: 0.2653636\ttotal: 18.2s\tremaining: 3.99s\n",
      "820:\tlearn: 0.2653165\ttotal: 18.2s\tremaining: 3.97s\n",
      "821:\tlearn: 0.2650986\ttotal: 18.2s\tremaining: 3.94s\n",
      "822:\tlearn: 0.2650092\ttotal: 18.2s\tremaining: 3.92s\n",
      "823:\tlearn: 0.2649206\ttotal: 18.3s\tremaining: 3.9s\n",
      "824:\tlearn: 0.2647811\ttotal: 18.3s\tremaining: 3.88s\n",
      "825:\tlearn: 0.2647373\ttotal: 18.3s\tremaining: 3.86s\n",
      "826:\tlearn: 0.2646176\ttotal: 18.3s\tremaining: 3.83s\n",
      "827:\tlearn: 0.2645258\ttotal: 18.3s\tremaining: 3.81s\n",
      "828:\tlearn: 0.2644410\ttotal: 18.4s\tremaining: 3.79s\n",
      "829:\tlearn: 0.2642303\ttotal: 18.4s\tremaining: 3.77s\n",
      "830:\tlearn: 0.2641868\ttotal: 18.4s\tremaining: 3.75s\n",
      "831:\tlearn: 0.2639831\ttotal: 18.4s\tremaining: 3.72s\n",
      "832:\tlearn: 0.2638903\ttotal: 18.5s\tremaining: 3.7s\n",
      "833:\tlearn: 0.2637047\ttotal: 18.5s\tremaining: 3.68s\n",
      "834:\tlearn: 0.2635394\ttotal: 18.5s\tremaining: 3.66s\n",
      "835:\tlearn: 0.2633530\ttotal: 18.5s\tremaining: 3.63s\n",
      "836:\tlearn: 0.2632651\ttotal: 18.5s\tremaining: 3.61s\n",
      "837:\tlearn: 0.2630232\ttotal: 18.6s\tremaining: 3.59s\n",
      "838:\tlearn: 0.2629487\ttotal: 18.6s\tremaining: 3.57s\n",
      "839:\tlearn: 0.2628562\ttotal: 18.6s\tremaining: 3.54s\n",
      "840:\tlearn: 0.2628106\ttotal: 18.6s\tremaining: 3.52s\n",
      "841:\tlearn: 0.2627610\ttotal: 18.6s\tremaining: 3.5s\n",
      "842:\tlearn: 0.2627187\ttotal: 18.7s\tremaining: 3.48s\n",
      "843:\tlearn: 0.2626395\ttotal: 18.7s\tremaining: 3.46s\n",
      "844:\tlearn: 0.2625971\ttotal: 18.7s\tremaining: 3.43s\n",
      "845:\tlearn: 0.2624872\ttotal: 18.7s\tremaining: 3.41s\n",
      "846:\tlearn: 0.2622836\ttotal: 18.8s\tremaining: 3.39s\n",
      "847:\tlearn: 0.2622391\ttotal: 18.8s\tremaining: 3.37s\n",
      "848:\tlearn: 0.2621938\ttotal: 18.8s\tremaining: 3.35s\n",
      "849:\tlearn: 0.2621029\ttotal: 18.8s\tremaining: 3.32s\n",
      "850:\tlearn: 0.2619082\ttotal: 18.9s\tremaining: 3.3s\n",
      "851:\tlearn: 0.2618264\ttotal: 18.9s\tremaining: 3.28s\n",
      "852:\tlearn: 0.2617446\ttotal: 18.9s\tremaining: 3.26s\n",
      "853:\tlearn: 0.2616391\ttotal: 18.9s\tremaining: 3.24s\n",
      "854:\tlearn: 0.2615956\ttotal: 19s\tremaining: 3.22s\n",
      "855:\tlearn: 0.2615531\ttotal: 19s\tremaining: 3.19s\n",
      "856:\tlearn: 0.2614288\ttotal: 19s\tremaining: 3.17s\n",
      "857:\tlearn: 0.2612543\ttotal: 19s\tremaining: 3.15s\n",
      "858:\tlearn: 0.2610768\ttotal: 19s\tremaining: 3.13s\n",
      "859:\tlearn: 0.2608916\ttotal: 19.1s\tremaining: 3.1s\n",
      "860:\tlearn: 0.2608167\ttotal: 19.1s\tremaining: 3.08s\n",
      "861:\tlearn: 0.2607712\ttotal: 19.1s\tremaining: 3.06s\n",
      "862:\tlearn: 0.2606538\ttotal: 19.1s\tremaining: 3.04s\n",
      "863:\tlearn: 0.2605314\ttotal: 19.1s\tremaining: 3.01s\n",
      "864:\tlearn: 0.2602573\ttotal: 19.2s\tremaining: 2.99s\n",
      "865:\tlearn: 0.2600385\ttotal: 19.2s\tremaining: 2.97s\n",
      "866:\tlearn: 0.2597625\ttotal: 19.2s\tremaining: 2.95s\n",
      "867:\tlearn: 0.2596052\ttotal: 19.2s\tremaining: 2.92s\n",
      "868:\tlearn: 0.2595655\ttotal: 19.3s\tremaining: 2.9s\n",
      "869:\tlearn: 0.2595153\ttotal: 19.3s\tremaining: 2.88s\n",
      "870:\tlearn: 0.2593026\ttotal: 19.3s\tremaining: 2.86s\n",
      "871:\tlearn: 0.2592146\ttotal: 19.3s\tremaining: 2.84s\n",
      "872:\tlearn: 0.2591284\ttotal: 19.4s\tremaining: 2.82s\n",
      "873:\tlearn: 0.2589803\ttotal: 19.4s\tremaining: 2.79s\n",
      "874:\tlearn: 0.2588867\ttotal: 19.4s\tremaining: 2.77s\n",
      "875:\tlearn: 0.2587867\ttotal: 19.4s\tremaining: 2.75s\n",
      "876:\tlearn: 0.2586060\ttotal: 19.4s\tremaining: 2.73s\n",
      "877:\tlearn: 0.2584561\ttotal: 19.5s\tremaining: 2.7s\n",
      "878:\tlearn: 0.2584123\ttotal: 19.5s\tremaining: 2.68s\n",
      "879:\tlearn: 0.2583692\ttotal: 19.5s\tremaining: 2.66s\n",
      "880:\tlearn: 0.2582238\ttotal: 19.5s\tremaining: 2.64s\n",
      "881:\tlearn: 0.2581804\ttotal: 19.6s\tremaining: 2.62s\n",
      "882:\tlearn: 0.2580937\ttotal: 19.6s\tremaining: 2.59s\n",
      "883:\tlearn: 0.2580496\ttotal: 19.6s\tremaining: 2.57s\n",
      "884:\tlearn: 0.2578359\ttotal: 19.6s\tremaining: 2.55s\n",
      "885:\tlearn: 0.2576475\ttotal: 19.6s\tremaining: 2.53s\n",
      "886:\tlearn: 0.2575452\ttotal: 19.7s\tremaining: 2.5s\n",
      "887:\tlearn: 0.2574406\ttotal: 19.7s\tremaining: 2.48s\n",
      "888:\tlearn: 0.2573575\ttotal: 19.7s\tremaining: 2.46s\n",
      "889:\tlearn: 0.2572795\ttotal: 19.7s\tremaining: 2.44s\n",
      "890:\tlearn: 0.2571024\ttotal: 19.7s\tremaining: 2.41s\n",
      "891:\tlearn: 0.2568901\ttotal: 19.8s\tremaining: 2.39s\n",
      "892:\tlearn: 0.2568031\ttotal: 19.8s\tremaining: 2.37s\n",
      "893:\tlearn: 0.2566859\ttotal: 19.8s\tremaining: 2.35s\n",
      "894:\tlearn: 0.2565506\ttotal: 19.8s\tremaining: 2.33s\n",
      "895:\tlearn: 0.2565108\ttotal: 19.8s\tremaining: 2.3s\n",
      "896:\tlearn: 0.2563224\ttotal: 19.9s\tremaining: 2.28s\n",
      "897:\tlearn: 0.2562785\ttotal: 19.9s\tremaining: 2.26s\n",
      "898:\tlearn: 0.2561874\ttotal: 19.9s\tremaining: 2.23s\n",
      "899:\tlearn: 0.2561478\ttotal: 19.9s\tremaining: 2.21s\n",
      "900:\tlearn: 0.2560091\ttotal: 19.9s\tremaining: 2.19s\n",
      "901:\tlearn: 0.2559375\ttotal: 20s\tremaining: 2.17s\n",
      "902:\tlearn: 0.2558609\ttotal: 20s\tremaining: 2.15s\n",
      "903:\tlearn: 0.2556007\ttotal: 20s\tremaining: 2.12s\n",
      "904:\tlearn: 0.2554138\ttotal: 20s\tremaining: 2.1s\n",
      "905:\tlearn: 0.2553390\ttotal: 20s\tremaining: 2.08s\n",
      "906:\tlearn: 0.2552662\ttotal: 20.1s\tremaining: 2.06s\n",
      "907:\tlearn: 0.2552232\ttotal: 20.1s\tremaining: 2.04s\n",
      "908:\tlearn: 0.2550908\ttotal: 20.1s\tremaining: 2.01s\n",
      "909:\tlearn: 0.2550487\ttotal: 20.1s\tremaining: 1.99s\n",
      "910:\tlearn: 0.2550030\ttotal: 20.2s\tremaining: 1.97s\n",
      "911:\tlearn: 0.2549613\ttotal: 20.2s\tremaining: 1.95s\n",
      "912:\tlearn: 0.2548587\ttotal: 20.2s\tremaining: 1.93s\n",
      "913:\tlearn: 0.2546462\ttotal: 20.2s\tremaining: 1.9s\n",
      "914:\tlearn: 0.2544677\ttotal: 20.2s\tremaining: 1.88s\n",
      "915:\tlearn: 0.2543831\ttotal: 20.3s\tremaining: 1.86s\n",
      "916:\tlearn: 0.2543428\ttotal: 20.3s\tremaining: 1.84s\n",
      "917:\tlearn: 0.2541811\ttotal: 20.3s\tremaining: 1.81s\n",
      "918:\tlearn: 0.2540183\ttotal: 20.3s\tremaining: 1.79s\n",
      "919:\tlearn: 0.2538250\ttotal: 20.4s\tremaining: 1.77s\n",
      "920:\tlearn: 0.2537835\ttotal: 20.4s\tremaining: 1.75s\n",
      "921:\tlearn: 0.2537434\ttotal: 20.4s\tremaining: 1.73s\n",
      "922:\tlearn: 0.2535159\ttotal: 20.4s\tremaining: 1.7s\n",
      "923:\tlearn: 0.2534145\ttotal: 20.5s\tremaining: 1.68s\n",
      "924:\tlearn: 0.2533753\ttotal: 20.5s\tremaining: 1.66s\n",
      "925:\tlearn: 0.2531355\ttotal: 20.5s\tremaining: 1.64s\n",
      "926:\tlearn: 0.2530993\ttotal: 20.5s\tremaining: 1.62s\n",
      "927:\tlearn: 0.2530210\ttotal: 20.6s\tremaining: 1.59s\n",
      "928:\tlearn: 0.2528712\ttotal: 20.6s\tremaining: 1.57s\n",
      "929:\tlearn: 0.2527806\ttotal: 20.6s\tremaining: 1.55s\n",
      "930:\tlearn: 0.2527016\ttotal: 20.6s\tremaining: 1.53s\n",
      "931:\tlearn: 0.2526099\ttotal: 20.6s\tremaining: 1.5s\n",
      "932:\tlearn: 0.2524727\ttotal: 20.7s\tremaining: 1.48s\n",
      "933:\tlearn: 0.2522865\ttotal: 20.7s\tremaining: 1.46s\n",
      "934:\tlearn: 0.2522507\ttotal: 20.7s\tremaining: 1.44s\n",
      "935:\tlearn: 0.2520266\ttotal: 20.7s\tremaining: 1.42s\n",
      "936:\tlearn: 0.2518381\ttotal: 20.7s\tremaining: 1.39s\n",
      "937:\tlearn: 0.2517063\ttotal: 20.8s\tremaining: 1.37s\n",
      "938:\tlearn: 0.2515171\ttotal: 20.8s\tremaining: 1.35s\n",
      "939:\tlearn: 0.2513399\ttotal: 20.8s\tremaining: 1.33s\n",
      "940:\tlearn: 0.2513036\ttotal: 20.8s\tremaining: 1.31s\n",
      "941:\tlearn: 0.2510818\ttotal: 20.9s\tremaining: 1.28s\n",
      "942:\tlearn: 0.2510422\ttotal: 20.9s\tremaining: 1.26s\n",
      "943:\tlearn: 0.2510088\ttotal: 20.9s\tremaining: 1.24s\n",
      "944:\tlearn: 0.2509612\ttotal: 20.9s\tremaining: 1.22s\n",
      "945:\tlearn: 0.2509225\ttotal: 20.9s\tremaining: 1.2s\n",
      "946:\tlearn: 0.2507436\ttotal: 21s\tremaining: 1.17s\n",
      "947:\tlearn: 0.2506228\ttotal: 21s\tremaining: 1.15s\n",
      "948:\tlearn: 0.2504237\ttotal: 21s\tremaining: 1.13s\n",
      "949:\tlearn: 0.2503788\ttotal: 21s\tremaining: 1.11s\n",
      "950:\tlearn: 0.2502233\ttotal: 21s\tremaining: 1.08s\n",
      "951:\tlearn: 0.2501875\ttotal: 21.1s\tremaining: 1.06s\n",
      "952:\tlearn: 0.2501527\ttotal: 21.1s\tremaining: 1.04s\n",
      "953:\tlearn: 0.2501129\ttotal: 21.1s\tremaining: 1.02s\n",
      "954:\tlearn: 0.2500283\ttotal: 21.1s\tremaining: 995ms\n",
      "955:\tlearn: 0.2499376\ttotal: 21.1s\tremaining: 973ms\n",
      "956:\tlearn: 0.2498578\ttotal: 21.2s\tremaining: 951ms\n",
      "957:\tlearn: 0.2498185\ttotal: 21.2s\tremaining: 929ms\n",
      "958:\tlearn: 0.2497042\ttotal: 21.2s\tremaining: 907ms\n",
      "959:\tlearn: 0.2496220\ttotal: 21.2s\tremaining: 884ms\n",
      "960:\tlearn: 0.2495396\ttotal: 21.2s\tremaining: 862ms\n",
      "961:\tlearn: 0.2494285\ttotal: 21.3s\tremaining: 840ms\n",
      "962:\tlearn: 0.2492535\ttotal: 21.3s\tremaining: 818ms\n",
      "963:\tlearn: 0.2491762\ttotal: 21.3s\tremaining: 796ms\n",
      "964:\tlearn: 0.2491370\ttotal: 21.3s\tremaining: 774ms\n",
      "965:\tlearn: 0.2490569\ttotal: 21.4s\tremaining: 752ms\n",
      "966:\tlearn: 0.2489458\ttotal: 21.4s\tremaining: 731ms\n",
      "967:\tlearn: 0.2487433\ttotal: 21.4s\tremaining: 709ms\n",
      "968:\tlearn: 0.2486763\ttotal: 21.5s\tremaining: 687ms\n",
      "969:\tlearn: 0.2485976\ttotal: 21.5s\tremaining: 665ms\n",
      "970:\tlearn: 0.2485607\ttotal: 21.5s\tremaining: 643ms\n",
      "971:\tlearn: 0.2484057\ttotal: 21.5s\tremaining: 621ms\n",
      "972:\tlearn: 0.2483327\ttotal: 21.6s\tremaining: 598ms\n",
      "973:\tlearn: 0.2482935\ttotal: 21.6s\tremaining: 576ms\n",
      "974:\tlearn: 0.2481819\ttotal: 21.6s\tremaining: 554ms\n",
      "975:\tlearn: 0.2479732\ttotal: 21.6s\tremaining: 532ms\n",
      "976:\tlearn: 0.2479387\ttotal: 21.6s\tremaining: 509ms\n",
      "977:\tlearn: 0.2477873\ttotal: 21.7s\tremaining: 487ms\n",
      "978:\tlearn: 0.2476102\ttotal: 21.7s\tremaining: 465ms\n",
      "979:\tlearn: 0.2474911\ttotal: 21.7s\tremaining: 443ms\n",
      "980:\tlearn: 0.2472986\ttotal: 21.7s\tremaining: 421ms\n",
      "981:\tlearn: 0.2472623\ttotal: 21.8s\tremaining: 399ms\n",
      "982:\tlearn: 0.2471824\ttotal: 21.8s\tremaining: 377ms\n",
      "983:\tlearn: 0.2471114\ttotal: 21.8s\tremaining: 354ms\n",
      "984:\tlearn: 0.2470328\ttotal: 21.8s\tremaining: 332ms\n",
      "985:\tlearn: 0.2469485\ttotal: 21.8s\tremaining: 310ms\n"
     ]
    },
    {
     "name": "stdout",
     "output_type": "stream",
     "text": [
      "986:\tlearn: 0.2468679\ttotal: 21.9s\tremaining: 288ms\n",
      "987:\tlearn: 0.2468277\ttotal: 21.9s\tremaining: 266ms\n",
      "988:\tlearn: 0.2467199\ttotal: 21.9s\tremaining: 244ms\n",
      "989:\tlearn: 0.2466832\ttotal: 21.9s\tremaining: 222ms\n",
      "990:\tlearn: 0.2466455\ttotal: 22s\tremaining: 199ms\n",
      "991:\tlearn: 0.2466054\ttotal: 22s\tremaining: 177ms\n",
      "992:\tlearn: 0.2464000\ttotal: 22s\tremaining: 155ms\n",
      "993:\tlearn: 0.2463209\ttotal: 22s\tremaining: 133ms\n",
      "994:\tlearn: 0.2462904\ttotal: 22s\tremaining: 111ms\n",
      "995:\tlearn: 0.2462132\ttotal: 22.1s\tremaining: 88.6ms\n",
      "996:\tlearn: 0.2461802\ttotal: 22.1s\tremaining: 66.4ms\n",
      "997:\tlearn: 0.2460599\ttotal: 22.1s\tremaining: 44.3ms\n",
      "998:\tlearn: 0.2459822\ttotal: 22.1s\tremaining: 22.1ms\n",
      "999:\tlearn: 0.2457824\ttotal: 22.1s\tremaining: 0us\n",
      "___________________________________________________\n",
      "\n",
      "Confustion Matrix for y_test and y_pred :\t\n",
      "TN  FP\n",
      "FN  TP\n",
      "\n",
      "[[ 24 101]\n",
      " [  2 671]]\n",
      "\n",
      "\n",
      "Accuray = (TP+TN)/(TP + TN + FP + FN)\n",
      "\n",
      "Precission = TP/(TP + FP)\n",
      "\n",
      "Recall = TP/(TP + FN)\n",
      "\n",
      "\n",
      "\n",
      "Train Accuracy  : 0.9089009611366485\n",
      "\n",
      "Test Accuracy   : 0.8709273182957393\n",
      "\n",
      "Precision Score : [0.92307692 0.86917098]\n",
      "\n",
      "Recall Score    : [0.192      0.99702823]\n",
      "\n",
      "F1 Score        : [0.31788079 0.92871972]\n",
      "\n",
      "___________________________________________________\n",
      "\n",
      "Classification Report :\n",
      "\n",
      "              precision    recall  f1-score   support\n",
      "\n",
      "           0       0.92      0.19      0.32       125\n",
      "           1       0.87      1.00      0.93       673\n",
      "\n",
      "    accuracy                           0.87       798\n",
      "   macro avg       0.90      0.59      0.62       798\n",
      "weighted avg       0.88      0.87      0.83       798\n",
      "\n",
      "___________________________________________________\n"
     ]
    }
   ],
   "source": [
    "model = CatBoostClassifier()\n",
    "print(model)\n",
    "model.fit(x_train, y_train)   \n",
    "y_pred = model.predict(x_test)\n",
    "print(\"___________________________________________________\\n\")\n",
    "print(\"Confustion Matrix for y_test and y_pred :\\t\")\n",
    "print(\"TN  FP\")\n",
    "print(\"FN  TP\\n\")\n",
    "print(confusion_matrix(y_test, y_pred))\n",
    "#print(pd.crosstab(y_test, y_pred))\n",
    "print(\"\\n\")\n",
    "print(\"Accuray = (TP+TN)/(TP + TN + FP + FN)\\n\")\n",
    "print(\"Precission = TP/(TP + FP)\\n\")\n",
    "print(\"Recall = TP/(TP + FN)\\n\")\n",
    "print(\"\\n\")\n",
    "print(\"Train Accuracy  : {0}\\n\".format(accuracy_score(y_train, model.predict(x_train))))\n",
    "print(\"Test Accuracy   : {0}\\n\".format(accuracy_score(y_test, y_pred)))\n",
    "print(\"Precision Score : {0}\\n\".format(precision_score(y_test,y_pred, average=None)))\n",
    "print(\"Recall Score    : {0}\\n\".format(recall_score(y_test,y_pred, average=None)))\n",
    "print(\"F1 Score        : {0}\\n\".format(f1_score(y_test,y_pred, average=None)))\n",
    "print(\"___________________________________________________\\n\")\n",
    "print(\"Classification Report :\\n\")\n",
    "print(classification_report(y_test, y_pred))\n",
    "print(\"___________________________________________________\")        "
   ]
  },
  {
   "cell_type": "code",
   "execution_count": null,
   "metadata": {},
   "outputs": [],
   "source": [
    "#Looks Like CatBosst Is Doing BETTER :)"
   ]
  },
  {
   "cell_type": "code",
   "execution_count": null,
   "metadata": {},
   "outputs": [],
   "source": []
  },
  {
   "cell_type": "code",
   "execution_count": 30,
   "metadata": {},
   "outputs": [
    {
     "data": {
      "text/plain": [
       "array([1], dtype=int64)"
      ]
     },
     "execution_count": 30,
     "metadata": {},
     "output_type": "execute_result"
    }
   ],
   "source": [
    "model.predict(x_train[0])"
   ]
  },
  {
   "cell_type": "code",
   "execution_count": null,
   "metadata": {},
   "outputs": [],
   "source": [
    "#Its Poositive Sentiment :)"
   ]
  },
  {
   "cell_type": "code",
   "execution_count": null,
   "metadata": {},
   "outputs": [],
   "source": []
  },
  {
   "cell_type": "code",
   "execution_count": 58,
   "metadata": {},
   "outputs": [],
   "source": [
    "########################################   TRAINING WITH NEURAL NET   #####################################################"
   ]
  },
  {
   "cell_type": "code",
   "execution_count": 48,
   "metadata": {},
   "outputs": [
    {
     "data": {
      "text/plain": [
       "(2393, 7608)"
      ]
     },
     "execution_count": 48,
     "metadata": {},
     "output_type": "execute_result"
    }
   ],
   "source": [
    "#Using toarray to convert ...and using 7608 Neurons in the Input Layer\n",
    "x_train.toarray().shape"
   ]
  },
  {
   "cell_type": "code",
   "execution_count": 51,
   "metadata": {},
   "outputs": [],
   "source": [
    "y_test = tf.keras.utils.to_categorical(y_test)\n",
    "y_train = tf.keras.utils.to_categorical(y_train)"
   ]
  },
  {
   "cell_type": "code",
   "execution_count": 67,
   "metadata": {},
   "outputs": [],
   "source": [
    "del(model)\n",
    "model = tf.keras.Sequential()\n",
    "model.add(layers.Dense(64, input_shape=(7608,)))\n",
    "model.add(layers.Dense(32, activation='relu'))\n",
    "model.add(layers.Dense(16, activation='relu'))\n",
    "model.add(layers.Dense(2, activation='softmax'))\n",
    "model.compile(loss='categorical_crossentropy', optimizer='adam', metrics=['accuracy'])       "
   ]
  },
  {
   "cell_type": "code",
   "execution_count": 68,
   "metadata": {},
   "outputs": [
    {
     "name": "stdout",
     "output_type": "stream",
     "text": [
      "WARNING:tensorflow:The `nb_epoch` argument in `fit` has been renamed `epochs`.\n",
      "Train on 2393 samples, validate on 798 samples\n",
      "Epoch 1/10\n",
      "2393/2393 [==============================] - 4s 2ms/sample - loss: 0.3819 - acc: 0.8454 - val_loss: 0.3219 - val_acc: 0.8622\n",
      "Epoch 2/10\n",
      "2393/2393 [==============================] - 2s 951us/sample - loss: 0.1404 - acc: 0.9461 - val_loss: 0.3660 - val_acc: 0.8784\n",
      "Epoch 3/10\n",
      "2393/2393 [==============================] - 2s 961us/sample - loss: 0.0482 - acc: 0.9845 - val_loss: 0.4493 - val_acc: 0.8709\n",
      "Epoch 4/10\n",
      "2393/2393 [==============================] - 3s 1ms/sample - loss: 0.0181 - acc: 0.9937 - val_loss: 0.6152 - val_acc: 0.8734\n",
      "Epoch 5/10\n",
      "2393/2393 [==============================] - 3s 1ms/sample - loss: 0.0144 - acc: 0.9941 - val_loss: 0.6197 - val_acc: 0.8647\n",
      "Epoch 6/10\n",
      "2393/2393 [==============================] - 3s 1ms/sample - loss: 0.0087 - acc: 0.9962 - val_loss: 0.7243 - val_acc: 0.8734\n",
      "Epoch 7/10\n",
      "2393/2393 [==============================] - 3s 1ms/sample - loss: 0.0075 - acc: 0.9967 - val_loss: 0.7627 - val_acc: 0.8722\n",
      "Epoch 8/10\n",
      "2393/2393 [==============================] - 3s 1ms/sample - loss: 0.0059 - acc: 0.9971 - val_loss: 0.8185 - val_acc: 0.8734\n",
      "Epoch 9/10\n",
      "2393/2393 [==============================] - 3s 1ms/sample - loss: 0.0051 - acc: 0.9971 - val_loss: 0.8289 - val_acc: 0.8722\n",
      "Epoch 10/10\n",
      "2393/2393 [==============================] - 3s 1ms/sample - loss: 0.0066 - acc: 0.9971 - val_loss: 0.8616 - val_acc: 0.8722\n"
     ]
    }
   ],
   "source": [
    "ckpt_callback = tf.keras.callbacks.ModelCheckpoint(filepath='nlp', save_best_only=True, verbose=False)\n",
    "training = model.fit(x_train.toarray(), y_train, batch_size=10, nb_epoch=10, validation_data=(x_test.toarray(), y_test),verbose=True, callbacks=[ckpt_callback])"
   ]
  },
  {
   "cell_type": "code",
   "execution_count": 69,
   "metadata": {},
   "outputs": [],
   "source": [
    "#Loading Best Weights \n",
    "model.load_weights('nlp')"
   ]
  },
  {
   "cell_type": "code",
   "execution_count": 76,
   "metadata": {},
   "outputs": [],
   "source": [
    "y_pred = model.predict(x_test.toarray())"
   ]
  },
  {
   "cell_type": "code",
   "execution_count": 77,
   "metadata": {},
   "outputs": [
    {
     "name": "stdout",
     "output_type": "stream",
     "text": [
      "798/798 [==============================] - 0s 188us/sample - loss: 0.3219 - acc: 0.8622\n"
     ]
    },
    {
     "data": {
      "text/plain": [
       "[0.321922977317246, 0.8621554]"
      ]
     },
     "execution_count": 77,
     "metadata": {},
     "output_type": "execute_result"
    }
   ],
   "source": [
    "model.evaluate(x_test.toarray(), y_test)"
   ]
  },
  {
   "cell_type": "code",
   "execution_count": 78,
   "metadata": {},
   "outputs": [
    {
     "name": "stdout",
     "output_type": "stream",
     "text": [
      "              precision    recall  f1-score   support\n",
      "\n",
      "           0       0.70      0.21      0.32       125\n",
      "           1       0.87      0.98      0.92       673\n",
      "\n",
      "    accuracy                           0.86       798\n",
      "   macro avg       0.79      0.60      0.62       798\n",
      "weighted avg       0.84      0.86      0.83       798\n",
      "\n"
     ]
    }
   ],
   "source": [
    "print(classification_report(np.argmax(y_test, axis=1), np.argmax(y_pred, axis=1)))"
   ]
  },
  {
   "cell_type": "code",
   "execution_count": null,
   "metadata": {},
   "outputs": [],
   "source": [
    "##################### EVEN Neural Nets Not Giving Great Accuray ...I feel CatBoost Did a Better Job ########## :)   ########"
   ]
  },
  {
   "cell_type": "code",
   "execution_count": null,
   "metadata": {},
   "outputs": [],
   "source": []
  }
 ],
 "metadata": {
  "kernelspec": {
   "display_name": "Python 3",
   "language": "python",
   "name": "python3"
  },
  "language_info": {
   "codemirror_mode": {
    "name": "ipython",
    "version": 3
   },
   "file_extension": ".py",
   "mimetype": "text/x-python",
   "name": "python",
   "nbconvert_exporter": "python",
   "pygments_lexer": "ipython3",
   "version": "3.7.3"
  }
 },
 "nbformat": 4,
 "nbformat_minor": 4
}
